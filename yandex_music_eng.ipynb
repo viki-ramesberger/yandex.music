{
 "cells": [
  {
   "cell_type": "markdown",
   "metadata": {
    "id": "E0vqbgi9ay0H"
   },
   "source": [
    "# Yandex.Music"
   ]
  },
  {
   "cell_type": "markdown",
   "metadata": {},
   "source": [
    "**Research Objective** — The goal is to test three hypotheses:\n",
    "\n",
    "1. User activity varies by day of the week, with notable differences between Moscow and Saint Petersburg.\n",
    "2. On Monday mornings, specific genres dominate in Moscow, while different genres are more prevalent in Saint Petersburg. Similarly, on Friday evenings, genre preferences differ depending on the city.\n",
    "3. Moscow and Saint Petersburg favor different music genres. Pop music is more commonly listened to in Moscow, whereas rap music enjoys greater popularity in Saint Petersburg.\n",
    "\n",
    "**Research Process**\n",
    "\n",
    "The data on user behavior is stored in the file `yandex_music_project.csv`. The quality of the data is unknown, so a preliminary review is required before testing the hypotheses.\n",
    "\n",
    "The data must be examined for errors, and the potential impact of these errors on the research needs to be assessed. During the preprocessing stage, the most critical data issues will be addressed.\n",
    "\n",
    "The research will be conducted in three stages:\n",
    "\n",
    "1. Data review\n",
    "2. Data preprocessing\n",
    "3. Hypothesis testing"
   ]
  },
  {
   "cell_type": "markdown",
   "metadata": {
    "id": "Ml1hmfXC_Zcs"
   },
   "source": [
    "## Data Review"
   ]
  },
  {
   "cell_type": "code",
   "execution_count": 1,
   "metadata": {
    "id": "AXN7PHPN_Zcs"
   },
   "outputs": [],
   "source": [
    "import pandas as pd "
   ]
  },
  {
   "cell_type": "code",
   "execution_count": 2,
   "metadata": {
    "id": "fFVu7vqh_Zct"
   },
   "outputs": [],
   "source": [
    "# Reading the data file and saving it to df\n",
    "df = pd.read_csv('/datasets/yandex_music_project.csv')"
   ]
  },
  {
   "cell_type": "code",
   "execution_count": 3,
   "metadata": {
    "id": "oWTVX3gW_Zct"
   },
   "outputs": [
    {
     "data": {
      "text/html": [
       "<div>\n",
       "<style scoped>\n",
       "    .dataframe tbody tr th:only-of-type {\n",
       "        vertical-align: middle;\n",
       "    }\n",
       "\n",
       "    .dataframe tbody tr th {\n",
       "        vertical-align: top;\n",
       "    }\n",
       "\n",
       "    .dataframe thead th {\n",
       "        text-align: right;\n",
       "    }\n",
       "</style>\n",
       "<table border=\"1\" class=\"dataframe\">\n",
       "  <thead>\n",
       "    <tr style=\"text-align: right;\">\n",
       "      <th></th>\n",
       "      <th>userID</th>\n",
       "      <th>Track</th>\n",
       "      <th>artist</th>\n",
       "      <th>genre</th>\n",
       "      <th>City</th>\n",
       "      <th>time</th>\n",
       "      <th>Day</th>\n",
       "    </tr>\n",
       "  </thead>\n",
       "  <tbody>\n",
       "    <tr>\n",
       "      <th>0</th>\n",
       "      <td>FFB692EC</td>\n",
       "      <td>Kamigata To Boots</td>\n",
       "      <td>The Mass Missile</td>\n",
       "      <td>rock</td>\n",
       "      <td>Saint-Petersburg</td>\n",
       "      <td>20:28:33</td>\n",
       "      <td>Wednesday</td>\n",
       "    </tr>\n",
       "    <tr>\n",
       "      <th>1</th>\n",
       "      <td>55204538</td>\n",
       "      <td>Delayed Because of Accident</td>\n",
       "      <td>Andreas Rönnberg</td>\n",
       "      <td>rock</td>\n",
       "      <td>Moscow</td>\n",
       "      <td>14:07:09</td>\n",
       "      <td>Friday</td>\n",
       "    </tr>\n",
       "    <tr>\n",
       "      <th>2</th>\n",
       "      <td>20EC38</td>\n",
       "      <td>Funiculì funiculà</td>\n",
       "      <td>Mario Lanza</td>\n",
       "      <td>pop</td>\n",
       "      <td>Saint-Petersburg</td>\n",
       "      <td>20:58:07</td>\n",
       "      <td>Wednesday</td>\n",
       "    </tr>\n",
       "    <tr>\n",
       "      <th>3</th>\n",
       "      <td>A3DD03C9</td>\n",
       "      <td>Dragons in the Sunset</td>\n",
       "      <td>Fire + Ice</td>\n",
       "      <td>folk</td>\n",
       "      <td>Saint-Petersburg</td>\n",
       "      <td>08:37:09</td>\n",
       "      <td>Monday</td>\n",
       "    </tr>\n",
       "    <tr>\n",
       "      <th>4</th>\n",
       "      <td>E2DC1FAE</td>\n",
       "      <td>Soul People</td>\n",
       "      <td>Space Echo</td>\n",
       "      <td>dance</td>\n",
       "      <td>Moscow</td>\n",
       "      <td>08:34:34</td>\n",
       "      <td>Monday</td>\n",
       "    </tr>\n",
       "    <tr>\n",
       "      <th>5</th>\n",
       "      <td>842029A1</td>\n",
       "      <td>Преданная</td>\n",
       "      <td>IMPERVTOR</td>\n",
       "      <td>rusrap</td>\n",
       "      <td>Saint-Petersburg</td>\n",
       "      <td>13:09:41</td>\n",
       "      <td>Friday</td>\n",
       "    </tr>\n",
       "    <tr>\n",
       "      <th>6</th>\n",
       "      <td>4CB90AA5</td>\n",
       "      <td>True</td>\n",
       "      <td>Roman Messer</td>\n",
       "      <td>dance</td>\n",
       "      <td>Moscow</td>\n",
       "      <td>13:00:07</td>\n",
       "      <td>Wednesday</td>\n",
       "    </tr>\n",
       "    <tr>\n",
       "      <th>7</th>\n",
       "      <td>F03E1C1F</td>\n",
       "      <td>Feeling This Way</td>\n",
       "      <td>Polina Griffith</td>\n",
       "      <td>dance</td>\n",
       "      <td>Moscow</td>\n",
       "      <td>20:47:49</td>\n",
       "      <td>Wednesday</td>\n",
       "    </tr>\n",
       "    <tr>\n",
       "      <th>8</th>\n",
       "      <td>8FA1D3BE</td>\n",
       "      <td>И вновь продолжается бой</td>\n",
       "      <td>NaN</td>\n",
       "      <td>ruspop</td>\n",
       "      <td>Moscow</td>\n",
       "      <td>09:17:40</td>\n",
       "      <td>Friday</td>\n",
       "    </tr>\n",
       "    <tr>\n",
       "      <th>9</th>\n",
       "      <td>E772D5C0</td>\n",
       "      <td>Pessimist</td>\n",
       "      <td>NaN</td>\n",
       "      <td>dance</td>\n",
       "      <td>Saint-Petersburg</td>\n",
       "      <td>21:20:49</td>\n",
       "      <td>Wednesday</td>\n",
       "    </tr>\n",
       "  </tbody>\n",
       "</table>\n",
       "</div>"
      ],
      "text/plain": [
       "     userID                        Track            artist   genre  \\\n",
       "0  FFB692EC            Kamigata To Boots  The Mass Missile    rock   \n",
       "1  55204538  Delayed Because of Accident  Andreas Rönnberg    rock   \n",
       "2    20EC38            Funiculì funiculà       Mario Lanza     pop   \n",
       "3  A3DD03C9        Dragons in the Sunset        Fire + Ice    folk   \n",
       "4  E2DC1FAE                  Soul People        Space Echo   dance   \n",
       "5  842029A1                    Преданная         IMPERVTOR  rusrap   \n",
       "6  4CB90AA5                         True      Roman Messer   dance   \n",
       "7  F03E1C1F             Feeling This Way   Polina Griffith   dance   \n",
       "8  8FA1D3BE     И вновь продолжается бой               NaN  ruspop   \n",
       "9  E772D5C0                    Pessimist               NaN   dance   \n",
       "\n",
       "             City        time        Day  \n",
       "0  Saint-Petersburg  20:28:33  Wednesday  \n",
       "1            Moscow  14:07:09     Friday  \n",
       "2  Saint-Petersburg  20:58:07  Wednesday  \n",
       "3  Saint-Petersburg  08:37:09     Monday  \n",
       "4            Moscow  08:34:34     Monday  \n",
       "5  Saint-Petersburg  13:09:41     Friday  \n",
       "6            Moscow  13:00:07  Wednesday  \n",
       "7            Moscow  20:47:49  Wednesday  \n",
       "8            Moscow  09:17:40     Friday  \n",
       "9  Saint-Petersburg  21:20:49  Wednesday  "
      ]
     },
     "execution_count": 3,
     "metadata": {},
     "output_type": "execute_result"
    }
   ],
   "source": [
    "# First 10 rows of the df table\n",
    "df.head(10)"
   ]
  },
  {
   "cell_type": "code",
   "execution_count": 4,
   "metadata": {},
   "outputs": [
    {
     "name": "stdout",
     "output_type": "stream",
     "text": [
      "<class 'pandas.core.frame.DataFrame'>\n",
      "RangeIndex: 65079 entries, 0 to 65078\n",
      "Data columns (total 7 columns):\n",
      " #   Column    Non-Null Count  Dtype \n",
      "---  ------    --------------  ----- \n",
      " 0     userID  65079 non-null  object\n",
      " 1   Track     63848 non-null  object\n",
      " 2   artist    57876 non-null  object\n",
      " 3   genre     63881 non-null  object\n",
      " 4     City    65079 non-null  object\n",
      " 5   time      65079 non-null  object\n",
      " 6   Day       65079 non-null  object\n",
      "dtypes: object(7)\n",
      "memory usage: 3.5+ MB\n"
     ]
    }
   ],
   "source": [
    "# General information about the data\n",
    "df.info()"
   ]
  },
  {
   "cell_type": "markdown",
   "metadata": {},
   "source": [
    "The table consists of 7 columns, all of which have the data type `object`.\n",
    "\n",
    "According to the data documentation:\n",
    "\n",
    "* `userID` — user identifier\n",
    "* `Track` — track title\n",
    "* `artist` — artist name\n",
    "* `genre` — genre name\n",
    "* `City` — user city\n",
    "* `time` — time when listening started\n",
    "* `Day` — day of the week\n",
    "\n",
    "There are three style violations in the column names:\n",
    "\n",
    "1. A mix of lowercase and uppercase letters.\n",
    "2. The presence of spaces.\n",
    "3. **Lack of separation between words using underscores (snake_case).**\n",
    "Additionally, the number of values in the columns varies, indicating the presence of missing data."
   ]
  },
  {
   "cell_type": "markdown",
   "metadata": {},
   "source": [
    "**Intermediate Conclusions**\n",
    "\n",
    "Each row in the table represents data about a listened track. Some columns provide details about the track itself, such as the title, artist, and genre, while others relate to the user, including their city and the time they started listening.\n",
    "\n",
    "Preliminarily, it can be concluded that the data is sufficient to test the hypotheses. However, there are missing values, and the column names do not adhere to best style practices.\n",
    "\n",
    "To proceed, it is necessary to resolve these data issues."
   ]
  },
  {
   "cell_type": "markdown",
   "metadata": {
    "id": "SjYF6Ub9_Zct"
   },
   "source": [
    "## Data Preprocessing"
   ]
  },
  {
   "cell_type": "markdown",
   "metadata": {
    "id": "dIaKXr29_Zct"
   },
   "source": [
    "### Header Style"
   ]
  },
  {
   "cell_type": "code",
   "execution_count": 5,
   "metadata": {
    "id": "oKOTdF_Q_Zct"
   },
   "outputs": [
    {
     "name": "stdout",
     "output_type": "stream",
     "text": [
      "Index(['  userID', 'Track', 'artist', 'genre', '  City  ', 'time', 'Day'], dtype='object')\n"
     ]
    }
   ],
   "source": [
    "# List of column names in the df table\n",
    "print(df.columns) "
   ]
  },
  {
   "cell_type": "code",
   "execution_count": 6,
   "metadata": {
    "id": "ISlFqs5y_Zct"
   },
   "outputs": [],
   "source": [
    "# Renaming the columns\n",
    "df = df.rename(\n",
    "    columns = {\n",
    "        '  userID': 'user_id',\n",
    "        'Track': 'track',\n",
    "        '  City  ': 'city',\n",
    "        'Day': 'day'\n",
    "    }\n",
    ")"
   ]
  },
  {
   "cell_type": "code",
   "execution_count": 7,
   "metadata": {
    "id": "d4NOAmTW_Zct"
   },
   "outputs": [
    {
     "name": "stdout",
     "output_type": "stream",
     "text": [
      "Index(['user_id', 'track', 'artist', 'genre', 'city', 'time', 'day'], dtype='object')\n"
     ]
    }
   ],
   "source": [
    "# Checking the results - list of column names\n",
    "print(df.columns)"
   ]
  },
  {
   "cell_type": "markdown",
   "metadata": {
    "id": "5ISfbcfY_Zct"
   },
   "source": [
    "### Missing Values"
   ]
  },
  {
   "cell_type": "code",
   "execution_count": 8,
   "metadata": {
    "id": "RskX29qr_Zct"
   },
   "outputs": [
    {
     "data": {
      "text/plain": [
       "user_id       0\n",
       "track      1231\n",
       "artist     7203\n",
       "genre      1198\n",
       "city          0\n",
       "time          0\n",
       "day           0\n",
       "dtype: int64"
      ]
     },
     "execution_count": 8,
     "metadata": {},
     "output_type": "execute_result"
    }
   ],
   "source": [
    "# Counting missing values\n",
    "df.isna().sum()"
   ]
  },
  {
   "cell_type": "markdown",
   "metadata": {},
   "source": [
    "Not all missing values are critical to the research. For instance, missing data in `track` and `artist` does not significantly affect the analysis, and can simply be replaced with explicit placeholders.\n",
    "\n",
    "However, missing values in the `genre` column could impact the comparison of musical preferences between Moscow and Saint Petersburg. Ideally, we would investigate the cause of these missing values and restore the data. Unfortunately, this is not feasible within the scope of this project. Therefore, we will:\n",
    "\n",
    "* Replace the missing values with explicit placeholders,\n",
    "* Evaluate the extent to which these replacements may influence the analysis."
   ]
  },
  {
   "cell_type": "code",
   "execution_count": 9,
   "metadata": {
    "id": "KplB5qWs_Zct"
   },
   "outputs": [],
   "source": [
    "# Iterating through column names and replacing missing values with 'unknown'\n",
    "columns_to_replace = ['track','artist','genre']\n",
    "for column in columns_to_replace:\n",
    "    df[column] = df[column].fillna('unknown')"
   ]
  },
  {
   "cell_type": "code",
   "execution_count": 10,
   "metadata": {
    "id": "Tq4nYRX4_Zct"
   },
   "outputs": [
    {
     "data": {
      "text/plain": [
       "user_id    0\n",
       "track      0\n",
       "artist     0\n",
       "genre      0\n",
       "city       0\n",
       "time       0\n",
       "day        0\n",
       "dtype: int64"
      ]
     },
     "execution_count": 10,
     "metadata": {},
     "output_type": "execute_result"
    }
   ],
   "source": [
    "# Counting missing values in each column\n",
    "df.isna().sum()"
   ]
  },
  {
   "cell_type": "markdown",
   "metadata": {
    "id": "BWKRtBJ3_Zct"
   },
   "source": [
    "### Duplicates"
   ]
  },
  {
   "cell_type": "code",
   "execution_count": 11,
   "metadata": {
    "id": "36eES_S0_Zct"
   },
   "outputs": [
    {
     "data": {
      "text/plain": [
       "3826"
      ]
     },
     "execution_count": 11,
     "metadata": {},
     "output_type": "execute_result"
    }
   ],
   "source": [
    "# Counting explicit duplicates\n",
    "df.duplicated().sum()"
   ]
  },
  {
   "cell_type": "code",
   "execution_count": 12,
   "metadata": {
    "id": "exFHq6tt_Zct"
   },
   "outputs": [],
   "source": [
    "# Removing explicit duplicates (with the removal of old indices and the creation of new ones)\n",
    "df = df.drop_duplicates().reset_index() "
   ]
  },
  {
   "cell_type": "code",
   "execution_count": 13,
   "metadata": {
    "id": "-8PuNWQ0_Zct"
   },
   "outputs": [
    {
     "data": {
      "text/plain": [
       "0"
      ]
     },
     "execution_count": 13,
     "metadata": {},
     "output_type": "execute_result"
    }
   ],
   "source": [
    "# Checking for the absence of duplicates\n",
    "df.duplicated().sum()"
   ]
  },
  {
   "cell_type": "code",
   "execution_count": 14,
   "metadata": {
    "id": "JIUcqzZN_Zct"
   },
   "outputs": [
    {
     "data": {
      "text/plain": [
       "array(['acid', 'acoustic', 'action', 'adult', 'africa', 'afrikaans',\n",
       "       'alternative', 'alternativepunk', 'ambient', 'americana',\n",
       "       'animated', 'anime', 'arabesk', 'arabic', 'arena',\n",
       "       'argentinetango', 'art', 'audiobook', 'author', 'avantgarde',\n",
       "       'axé', 'baile', 'balkan', 'beats', 'bigroom', 'black', 'bluegrass',\n",
       "       'blues', 'bollywood', 'bossa', 'brazilian', 'breakbeat', 'breaks',\n",
       "       'broadway', 'cantautori', 'cantopop', 'canzone', 'caribbean',\n",
       "       'caucasian', 'celtic', 'chamber', 'chanson', 'children', 'chill',\n",
       "       'chinese', 'choral', 'christian', 'christmas', 'classical',\n",
       "       'classicmetal', 'club', 'colombian', 'comedy', 'conjazz',\n",
       "       'contemporary', 'country', 'cuban', 'dance', 'dancehall',\n",
       "       'dancepop', 'dark', 'death', 'deep', 'deutschrock', 'deutschspr',\n",
       "       'dirty', 'disco', 'dnb', 'documentary', 'downbeat', 'downtempo',\n",
       "       'drum', 'dub', 'dubstep', 'eastern', 'easy', 'electronic',\n",
       "       'electropop', 'emo', 'entehno', 'epicmetal', 'estrada', 'ethnic',\n",
       "       'eurofolk', 'european', 'experimental', 'extrememetal', 'fado',\n",
       "       'fairytail', 'film', 'fitness', 'flamenco', 'folk', 'folklore',\n",
       "       'folkmetal', 'folkrock', 'folktronica', 'forró', 'frankreich',\n",
       "       'französisch', 'french', 'funk', 'future', 'gangsta', 'garage',\n",
       "       'german', 'ghazal', 'gitarre', 'glitch', 'gospel', 'gothic',\n",
       "       'grime', 'grunge', 'gypsy', 'handsup', \"hard'n'heavy\", 'hardcore',\n",
       "       'hardstyle', 'hardtechno', 'hip', 'hip-hop', 'hiphop',\n",
       "       'historisch', 'holiday', 'hop', 'horror', 'house', 'hymn', 'idm',\n",
       "       'independent', 'indian', 'indie', 'indipop', 'industrial',\n",
       "       'inspirational', 'instrumental', 'international', 'irish', 'jam',\n",
       "       'japanese', 'jazz', 'jewish', 'jpop', 'jungle', 'k-pop',\n",
       "       'karadeniz', 'karaoke', 'kayokyoku', 'korean', 'laiko', 'latin',\n",
       "       'latino', 'leftfield', 'local', 'lounge', 'loungeelectronic',\n",
       "       'lovers', 'malaysian', 'mandopop', 'marschmusik', 'meditative',\n",
       "       'mediterranean', 'melodic', 'metal', 'metalcore', 'mexican',\n",
       "       'middle', 'minimal', 'miscellaneous', 'modern', 'mood', 'mpb',\n",
       "       'muslim', 'native', 'neoklassik', 'neue', 'new', 'newage',\n",
       "       'newwave', 'nu', 'nujazz', 'numetal', 'oceania', 'old', 'opera',\n",
       "       'orchestral', 'other', 'piano', 'podcasts', 'pop', 'popdance',\n",
       "       'popelectronic', 'popeurodance', 'poprussian', 'post',\n",
       "       'posthardcore', 'postrock', 'power', 'progmetal', 'progressive',\n",
       "       'psychedelic', 'punjabi', 'punk', 'quebecois', 'ragga', 'ram',\n",
       "       'rancheras', 'rap', 'rave', 'reggae', 'reggaeton', 'regional',\n",
       "       'relax', 'religious', 'retro', 'rhythm', 'rnb', 'rnr', 'rock',\n",
       "       'rockabilly', 'rockalternative', 'rockindie', 'rockother',\n",
       "       'romance', 'roots', 'ruspop', 'rusrap', 'rusrock', 'russian',\n",
       "       'salsa', 'samba', 'scenic', 'schlager', 'self', 'sertanejo',\n",
       "       'shanson', 'shoegazing', 'showtunes', 'singer', 'ska', 'skarock',\n",
       "       'slow', 'smooth', 'soft', 'soul', 'soulful', 'sound', 'soundtrack',\n",
       "       'southern', 'specialty', 'speech', 'spiritual', 'sport',\n",
       "       'stonerrock', 'surf', 'swing', 'synthpop', 'synthrock',\n",
       "       'sängerportrait', 'tango', 'tanzorchester', 'taraftar', 'tatar',\n",
       "       'tech', 'techno', 'teen', 'thrash', 'top', 'traditional',\n",
       "       'tradjazz', 'trance', 'tribal', 'trip', 'triphop', 'tropical',\n",
       "       'türk', 'türkçe', 'ukrrock', 'unknown', 'urban', 'uzbek',\n",
       "       'variété', 'vi', 'videogame', 'vocal', 'western', 'world',\n",
       "       'worldbeat', 'ïîï', 'электроника'], dtype=object)"
      ]
     },
     "execution_count": 14,
     "metadata": {},
     "output_type": "execute_result"
    }
   ],
   "source": [
    "# Viewing unique genre names\n",
    "df['genre'].sort_values().unique()"
   ]
  },
  {
   "cell_type": "code",
   "execution_count": 15,
   "metadata": {
    "id": "ErNDkmns_Zct"
   },
   "outputs": [],
   "source": [
    "# Function for replacing implicit duplicates\n",
    "def replace_wrong_genres(wrong_genres, correct_genre):\n",
    "    for wrong_genre in wrong_genres:\n",
    "        df['genre'] = df['genre'].replace(wrong_genre, correct_genre)"
   ]
  },
  {
   "cell_type": "code",
   "execution_count": 16,
   "metadata": {
    "id": "YN5i2hpmSo09"
   },
   "outputs": [],
   "source": [
    "# Removing implicit duplicates\n",
    "duplicats = ['hip', 'hop', 'hip-hop']\n",
    "genre = 'hiphop'\n",
    "replace_wrong_genres(duplicats, genre)"
   ]
  },
  {
   "cell_type": "code",
   "execution_count": 17,
   "metadata": {
    "id": "wvixALnFG15m"
   },
   "outputs": [
    {
     "data": {
      "text/plain": [
       "array(['acid', 'acoustic', 'action', 'adult', 'africa', 'afrikaans',\n",
       "       'alternative', 'alternativepunk', 'ambient', 'americana',\n",
       "       'animated', 'anime', 'arabesk', 'arabic', 'arena',\n",
       "       'argentinetango', 'art', 'audiobook', 'author', 'avantgarde',\n",
       "       'axé', 'baile', 'balkan', 'beats', 'bigroom', 'black', 'bluegrass',\n",
       "       'blues', 'bollywood', 'bossa', 'brazilian', 'breakbeat', 'breaks',\n",
       "       'broadway', 'cantautori', 'cantopop', 'canzone', 'caribbean',\n",
       "       'caucasian', 'celtic', 'chamber', 'chanson', 'children', 'chill',\n",
       "       'chinese', 'choral', 'christian', 'christmas', 'classical',\n",
       "       'classicmetal', 'club', 'colombian', 'comedy', 'conjazz',\n",
       "       'contemporary', 'country', 'cuban', 'dance', 'dancehall',\n",
       "       'dancepop', 'dark', 'death', 'deep', 'deutschrock', 'deutschspr',\n",
       "       'dirty', 'disco', 'dnb', 'documentary', 'downbeat', 'downtempo',\n",
       "       'drum', 'dub', 'dubstep', 'eastern', 'easy', 'electronic',\n",
       "       'electropop', 'emo', 'entehno', 'epicmetal', 'estrada', 'ethnic',\n",
       "       'eurofolk', 'european', 'experimental', 'extrememetal', 'fado',\n",
       "       'fairytail', 'film', 'fitness', 'flamenco', 'folk', 'folklore',\n",
       "       'folkmetal', 'folkrock', 'folktronica', 'forró', 'frankreich',\n",
       "       'französisch', 'french', 'funk', 'future', 'gangsta', 'garage',\n",
       "       'german', 'ghazal', 'gitarre', 'glitch', 'gospel', 'gothic',\n",
       "       'grime', 'grunge', 'gypsy', 'handsup', \"hard'n'heavy\", 'hardcore',\n",
       "       'hardstyle', 'hardtechno', 'hiphop', 'historisch', 'holiday',\n",
       "       'horror', 'house', 'hymn', 'idm', 'independent', 'indian', 'indie',\n",
       "       'indipop', 'industrial', 'inspirational', 'instrumental',\n",
       "       'international', 'irish', 'jam', 'japanese', 'jazz', 'jewish',\n",
       "       'jpop', 'jungle', 'k-pop', 'karadeniz', 'karaoke', 'kayokyoku',\n",
       "       'korean', 'laiko', 'latin', 'latino', 'leftfield', 'local',\n",
       "       'lounge', 'loungeelectronic', 'lovers', 'malaysian', 'mandopop',\n",
       "       'marschmusik', 'meditative', 'mediterranean', 'melodic', 'metal',\n",
       "       'metalcore', 'mexican', 'middle', 'minimal', 'miscellaneous',\n",
       "       'modern', 'mood', 'mpb', 'muslim', 'native', 'neoklassik', 'neue',\n",
       "       'new', 'newage', 'newwave', 'nu', 'nujazz', 'numetal', 'oceania',\n",
       "       'old', 'opera', 'orchestral', 'other', 'piano', 'podcasts', 'pop',\n",
       "       'popdance', 'popelectronic', 'popeurodance', 'poprussian', 'post',\n",
       "       'posthardcore', 'postrock', 'power', 'progmetal', 'progressive',\n",
       "       'psychedelic', 'punjabi', 'punk', 'quebecois', 'ragga', 'ram',\n",
       "       'rancheras', 'rap', 'rave', 'reggae', 'reggaeton', 'regional',\n",
       "       'relax', 'religious', 'retro', 'rhythm', 'rnb', 'rnr', 'rock',\n",
       "       'rockabilly', 'rockalternative', 'rockindie', 'rockother',\n",
       "       'romance', 'roots', 'ruspop', 'rusrap', 'rusrock', 'russian',\n",
       "       'salsa', 'samba', 'scenic', 'schlager', 'self', 'sertanejo',\n",
       "       'shanson', 'shoegazing', 'showtunes', 'singer', 'ska', 'skarock',\n",
       "       'slow', 'smooth', 'soft', 'soul', 'soulful', 'sound', 'soundtrack',\n",
       "       'southern', 'specialty', 'speech', 'spiritual', 'sport',\n",
       "       'stonerrock', 'surf', 'swing', 'synthpop', 'synthrock',\n",
       "       'sängerportrait', 'tango', 'tanzorchester', 'taraftar', 'tatar',\n",
       "       'tech', 'techno', 'teen', 'thrash', 'top', 'traditional',\n",
       "       'tradjazz', 'trance', 'tribal', 'trip', 'triphop', 'tropical',\n",
       "       'türk', 'türkçe', 'ukrrock', 'unknown', 'urban', 'uzbek',\n",
       "       'variété', 'vi', 'videogame', 'vocal', 'western', 'world',\n",
       "       'worldbeat', 'ïîï', 'электроника'], dtype=object)"
      ]
     },
     "execution_count": 17,
     "metadata": {},
     "output_type": "execute_result"
    }
   ],
   "source": [
    "# Checking for implicit duplicates\n",
    "df['genre'].sort_values().unique()"
   ]
  },
  {
   "cell_type": "markdown",
   "metadata": {},
   "source": [
    "**Intermediate Conclusions**\n",
    "\n",
    "The data preprocessing identified three main issues:\n",
    "\n",
    "* Inconsistent header styling,\n",
    "* Missing values,\n",
    "* Duplicates — both explicit and implicit.\n",
    "\n",
    "We addressed the header styling to improve readability and facilitate table management. Removing duplicates will enhance the accuracy of the analysis.\n",
    "\n",
    "Missing values were replaced with `'unknown'`. However, it remains to be determined whether the missing data in the `genre` column will impact the results of the study.\n",
    "\n",
    "With these issues addressed, we are now ready to proceed with hypothesis testing."
   ]
  },
  {
   "cell_type": "markdown",
   "metadata": {
    "id": "WttZHXH0SqKk"
   },
   "source": [
    "## Hypothesis Testing"
   ]
  },
  {
   "cell_type": "markdown",
   "metadata": {
    "id": "Im936VVi_Zcu"
   },
   "source": [
    "### Comparison of User Behavior in the Two Capitals"
   ]
  },
  {
   "cell_type": "code",
   "execution_count": 18,
   "metadata": {
    "id": "0_Qs96oh_Zcu"
   },
   "outputs": [
    {
     "data": {
      "text/plain": [
       "city\n",
       "Moscow              42741\n",
       "Saint-Petersburg    18512\n",
       "Name: time, dtype: int64"
      ]
     },
     "execution_count": 18,
     "metadata": {},
     "output_type": "execute_result"
    }
   ],
   "source": [
    "# Counting listens in each city\n",
    "df.groupby('city')['time'].count()"
   ]
  },
  {
   "cell_type": "markdown",
   "metadata": {
    "id": "dzli3w8o_Zcu"
   },
   "source": [
    "In Moscow, there are more listens than in Saint Petersburg. However, this does not imply that Moscow users listen to music more frequently; it simply reflects that there are more users in Moscow.\n",
    "\n",
    "Next, we will group the data by day of the week and count the listens for Monday, Wednesday, and Friday. The data contains information only about listens on these days."
   ]
  },
  {
   "cell_type": "code",
   "execution_count": 19,
   "metadata": {
    "id": "uZMKjiJz_Zcu"
   },
   "outputs": [
    {
     "data": {
      "text/plain": [
       "day\n",
       "Friday       21840\n",
       "Monday       21354\n",
       "Wednesday    18059\n",
       "Name: time, dtype: int64"
      ]
     },
     "execution_count": 19,
     "metadata": {},
     "output_type": "execute_result"
    }
   ],
   "source": [
    "# Counting the number of listens for each of the three days\n",
    "df.groupby('day')['time'].count()"
   ]
  },
  {
   "cell_type": "markdown",
   "metadata": {
    "id": "cC2tNrlL_Zcu"
   },
   "source": [
    "On average, users from both cities are less active on Wednesdays. However, the pattern may change when each city is analyzed individually."
   ]
  },
  {
   "cell_type": "markdown",
   "metadata": {},
   "source": [
    "Now, let's write a function that will combine both of these calculations.\n",
    "\n",
    "We will create a function called `number_tracks()` that will count the listens for a specific day and city. It will require two parameters:\n",
    "\n",
    "* day of the week,\n",
    "* city name.\n",
    "\n",
    "In the function, we will filter the original table to get the rows where:\n",
    "\n",
    "* the `day` column equals the day parameter, and\n",
    "* the `city` column equals the city parameter.\n",
    "\n",
    "This will be done using sequential filtering with logical indexing.\n",
    "\n",
    "Then, we will count the values in the `user_id` column of the resulting table. The result will be stored in a new variable, which will be returned by the function."
   ]
  },
  {
   "cell_type": "code",
   "execution_count": 20,
   "metadata": {
    "id": "Nz3GdQB1_Zcu"
   },
   "outputs": [],
   "source": [
    "def number_tracks(day, city):\n",
    "    track_list = df[(df['day'] == day) & (df['city'] == city)]\n",
    "    track_list_count = track_list['user_id'].count()\n",
    "    return track_list_count "
   ]
  },
  {
   "cell_type": "code",
   "execution_count": 21,
   "metadata": {
    "id": "rJcRATNQ_Zcu"
   },
   "outputs": [
    {
     "data": {
      "text/plain": [
       "15740"
      ]
     },
     "execution_count": 21,
     "metadata": {},
     "output_type": "execute_result"
    }
   ],
   "source": [
    "# The number of listens in Moscow on Mondays\n",
    "number_tracks('Monday', 'Moscow')"
   ]
  },
  {
   "cell_type": "code",
   "execution_count": 22,
   "metadata": {
    "id": "hq_ncZ5T_Zcu"
   },
   "outputs": [
    {
     "data": {
      "text/plain": [
       "5614"
      ]
     },
     "execution_count": 22,
     "metadata": {},
     "output_type": "execute_result"
    }
   ],
   "source": [
    "# The number of listens in Saint Petersburg on Mondays\n",
    "number_tracks('Monday', 'Saint-Petersburg')"
   ]
  },
  {
   "cell_type": "code",
   "execution_count": 23,
   "metadata": {
    "id": "_NTy2VPU_Zcu"
   },
   "outputs": [
    {
     "data": {
      "text/plain": [
       "11056"
      ]
     },
     "execution_count": 23,
     "metadata": {},
     "output_type": "execute_result"
    }
   ],
   "source": [
    "# The number of listens in Moscow on Wednesdays\n",
    "number_tracks('Wednesday','Moscow')"
   ]
  },
  {
   "cell_type": "code",
   "execution_count": 24,
   "metadata": {
    "id": "j2y3TAwo_Zcu"
   },
   "outputs": [
    {
     "data": {
      "text/plain": [
       "7003"
      ]
     },
     "execution_count": 24,
     "metadata": {},
     "output_type": "execute_result"
    }
   ],
   "source": [
    "# The number of listens in Saint Petersburg on Wednesdays\n",
    "number_tracks('Wednesday', 'Saint-Petersburg')"
   ]
  },
  {
   "cell_type": "code",
   "execution_count": 25,
   "metadata": {
    "id": "vYDw5u_K_Zcu"
   },
   "outputs": [
    {
     "data": {
      "text/plain": [
       "15945"
      ]
     },
     "execution_count": 25,
     "metadata": {},
     "output_type": "execute_result"
    }
   ],
   "source": [
    "# The number of listens in Moscow on Fridays\n",
    "number_tracks('Friday','Moscow')"
   ]
  },
  {
   "cell_type": "code",
   "execution_count": 26,
   "metadata": {
    "id": "8_yzFtW3_Zcu"
   },
   "outputs": [
    {
     "data": {
      "text/plain": [
       "5895"
      ]
     },
     "execution_count": 26,
     "metadata": {},
     "output_type": "execute_result"
    }
   ],
   "source": [
    "# The number of listens in Saint Petersburg on Fridays\n",
    "number_tracks('Friday','Saint-Petersburg')"
   ]
  },
  {
   "cell_type": "markdown",
   "metadata": {},
   "source": [
    "Let's create a table using the `pd.DataFrame` constructor, where:\n",
    "\n",
    "* Column names are `['city', 'monday', 'wednesday', 'friday']`\n",
    "* The data consists of the results obtained using the `number_tracks` function."
   ]
  },
  {
   "cell_type": "code",
   "execution_count": 27,
   "metadata": {
    "id": "APAcLpOr_Zcu"
   },
   "outputs": [
    {
     "data": {
      "text/html": [
       "<div>\n",
       "<style scoped>\n",
       "    .dataframe tbody tr th:only-of-type {\n",
       "        vertical-align: middle;\n",
       "    }\n",
       "\n",
       "    .dataframe tbody tr th {\n",
       "        vertical-align: top;\n",
       "    }\n",
       "\n",
       "    .dataframe thead th {\n",
       "        text-align: right;\n",
       "    }\n",
       "</style>\n",
       "<table border=\"1\" class=\"dataframe\">\n",
       "  <thead>\n",
       "    <tr style=\"text-align: right;\">\n",
       "      <th></th>\n",
       "      <th>city</th>\n",
       "      <th>monday</th>\n",
       "      <th>wednesday</th>\n",
       "      <th>friday</th>\n",
       "    </tr>\n",
       "  </thead>\n",
       "  <tbody>\n",
       "    <tr>\n",
       "      <th>0</th>\n",
       "      <td>Moscow</td>\n",
       "      <td>15740</td>\n",
       "      <td>11056</td>\n",
       "      <td>15945</td>\n",
       "    </tr>\n",
       "    <tr>\n",
       "      <th>1</th>\n",
       "      <td>Saint-Petersburg</td>\n",
       "      <td>5614</td>\n",
       "      <td>7003</td>\n",
       "      <td>5895</td>\n",
       "    </tr>\n",
       "  </tbody>\n",
       "</table>\n",
       "</div>"
      ],
      "text/plain": [
       "               city  monday  wednesday  friday\n",
       "0            Moscow   15740      11056   15945\n",
       "1  Saint-Petersburg    5614       7003    5895"
      ]
     },
     "metadata": {},
     "output_type": "display_data"
    }
   ],
   "source": [
    "# Table with results\n",
    "columns = ['city', 'monday', 'wednesday', 'friday']\n",
    "data = [\n",
    "    ['Moscow', 15740, 11056, 15945],\n",
    "    ['Saint-Petersburg', 5614, 7003, 5895]\n",
    "]\n",
    "user_behavior = pd.DataFrame(data=data, columns=columns)\n",
    "display(user_behavior)"
   ]
  },
  {
   "cell_type": "markdown",
   "metadata": {},
   "source": [
    "**Intermediate Conclusions**\n",
    "\n",
    "The data reveals differences in user behavior:\n",
    "\n",
    "- In Moscow, the peak of listens occurs on Monday and Friday, with a noticeable drop on Wednesday.\n",
    "- In contrast, in Saint Petersburg, users listen to music more on Wednesdays, with Monday and Friday showing almost equal, lower levels of activity compared to Wednesday.\n",
    "\n",
    "Thus, the data supports the first hypothesis."
   ]
  },
  {
   "cell_type": "markdown",
   "metadata": {
    "id": "atZAxtq4_Zcu"
   },
   "source": [
    "### Music at the beginning and end of the week"
   ]
  },
  {
   "cell_type": "markdown",
   "metadata": {
    "id": "eXrQqXFH_Zcu"
   },
   "source": [
    "According to the second hypothesis, on Monday mornings, certain genres dominate in Moscow, while different genres are more popular in Saint Petersburg. Similarly, on Friday evenings, distinct genres prevail depending on the city."
   ]
  },
  {
   "cell_type": "markdown",
   "metadata": {},
   "source": [
    "We will store the data tables in two variables:\n",
    "\n",
    "* For Moscow — in `moscow_general`;\n",
    "* For Saint Petersburg — in `spb_general`."
   ]
  },
  {
   "cell_type": "code",
   "execution_count": 28,
   "metadata": {
    "id": "qeaFfM_P_Zcu"
   },
   "outputs": [],
   "source": [
    "# Retrieve the moscow_general table from the rows of the df table \n",
    "# where the value in the 'city' column is 'Moscow'\n",
    "moscow_general = df[df['city'] == 'Moscow']"
   ]
  },
  {
   "cell_type": "code",
   "execution_count": 29,
   "metadata": {
    "id": "ORaVRKto_Zcu"
   },
   "outputs": [],
   "source": [
    "# Retrieve the spb_general table from the rows of the df table \n",
    "# where the value in the 'city' column is 'Saint-Petersburg'\n",
    "spb_general = df[df['city'] == 'Saint-Petersburg']"
   ]
  },
  {
   "cell_type": "markdown",
   "metadata": {},
   "source": [
    "We will create the `genre_weekday()` function with four parameters:\n",
    "\n",
    "* a data table (dataframe) with the data,\n",
    "* the day of the week,\n",
    "* the start timestamp in the 'hh:mm' format,\n",
    "* the end timestamp in the 'hh:mm' format.\n",
    "\n",
    "The function should return information about the top 10 genres of the tracks listened to on the specified day, within the time range defined by the two timestamps."
   ]
  },
  {
   "cell_type": "code",
   "execution_count": 30,
   "metadata": {
    "id": "laJT9BYl_Zcu"
   },
   "outputs": [],
   "source": [
    "def genre_weekday(table, day, time1, time2):\n",
    "    genre_df = table[(table['day'] == day) & (table['time'] > time1) & (table['time'] < time2)]\n",
    "    genre_df_count = genre_df.groupby('genre')['user_id'].count()\n",
    "    genre_df_sorted = genre_df_count.sort_values(ascending = False)\n",
    "    return genre_df_sorted.head(10)"
   ]
  },
  {
   "cell_type": "markdown",
   "metadata": {},
   "source": [
    "Let's compare the results of the `genre_weekday()` function for Moscow and Saint Petersburg on Monday morning (from 7:00 to 11:00) and Friday evening (from 17:00 to 23:00):"
   ]
  },
  {
   "cell_type": "code",
   "execution_count": 31,
   "metadata": {
    "id": "yz7itPUQ_Zcu"
   },
   "outputs": [
    {
     "data": {
      "text/plain": [
       "genre\n",
       "pop            781\n",
       "dance          549\n",
       "electronic     480\n",
       "rock           474\n",
       "hiphop         286\n",
       "ruspop         186\n",
       "world          181\n",
       "rusrap         175\n",
       "alternative    164\n",
       "unknown        161\n",
       "Name: user_id, dtype: int64"
      ]
     },
     "execution_count": 31,
     "metadata": {},
     "output_type": "execute_result"
    }
   ],
   "source": [
    "genre_weekday(moscow_general, 'Monday', '07:00', '11:00')"
   ]
  },
  {
   "cell_type": "code",
   "execution_count": 32,
   "metadata": {
    "id": "kwUcHPdy_Zcu"
   },
   "outputs": [
    {
     "data": {
      "text/plain": [
       "genre\n",
       "pop            218\n",
       "dance          182\n",
       "rock           162\n",
       "electronic     147\n",
       "hiphop          80\n",
       "ruspop          64\n",
       "alternative     58\n",
       "rusrap          55\n",
       "jazz            44\n",
       "classical       40\n",
       "Name: user_id, dtype: int64"
      ]
     },
     "execution_count": 32,
     "metadata": {},
     "output_type": "execute_result"
    }
   ],
   "source": [
    "# Calling the function for Monday morning in Saint Petersburg\n",
    "genre_weekday(spb_general, 'Monday', '07:00', '11:00')"
   ]
  },
  {
   "cell_type": "code",
   "execution_count": 33,
   "metadata": {
    "id": "EzXVRE1o_Zcu"
   },
   "outputs": [
    {
     "data": {
      "text/plain": [
       "genre\n",
       "pop            713\n",
       "rock           517\n",
       "dance          495\n",
       "electronic     482\n",
       "hiphop         273\n",
       "world          208\n",
       "ruspop         170\n",
       "alternative    163\n",
       "classical      163\n",
       "rusrap         142\n",
       "Name: user_id, dtype: int64"
      ]
     },
     "execution_count": 33,
     "metadata": {},
     "output_type": "execute_result"
    }
   ],
   "source": [
    "# Calling the function for Friday evening in Moscow\n",
    "genre_weekday(moscow_general, 'Friday', '17:00', '23:00')"
   ]
  },
  {
   "cell_type": "code",
   "execution_count": 34,
   "metadata": {
    "id": "JZaEKu5v_Zcu"
   },
   "outputs": [
    {
     "data": {
      "text/plain": [
       "genre\n",
       "pop            256\n",
       "electronic     216\n",
       "rock           216\n",
       "dance          210\n",
       "hiphop          97\n",
       "alternative     63\n",
       "jazz            61\n",
       "classical       60\n",
       "rusrap          59\n",
       "world           54\n",
       "Name: user_id, dtype: int64"
      ]
     },
     "execution_count": 34,
     "metadata": {},
     "output_type": "execute_result"
    }
   ],
   "source": [
    "# Calling the function for Friday evening in Saint Petersburg\n",
    "genre_weekday(spb_general, 'Friday', '17:00', '23:00')"
   ]
  },
  {
   "cell_type": "markdown",
   "metadata": {},
   "source": [
    "**Intermediate Conclusions**\n",
    "\n",
    "When comparing the top 10 genres on Monday morning, we can draw the following conclusions:\n",
    "\n",
    "1. Music preferences in Moscow and Saint Petersburg are quite similar. The only difference is that the Moscow ranking includes the \"world\" genre, while the Saint Petersburg ranking features jazz and classical music.\n",
    "2. In Moscow, the number of missing values was so significant that the placeholder `'unknown'` secured a spot as the tenth most popular genre. This indicates that missing values make up a substantial portion of the data, threatening the reliability of the study.\n",
    "\n",
    "Friday evening does not alter this pattern. Some genres rise slightly, others fall, but overall the top 10 remains unchanged.\n",
    "\n",
    "Thus, the second hypothesis is only partially confirmed:\n",
    "\n",
    "* Users listen to similar music at the beginning and end of the week.\n",
    "* The difference between Moscow and Saint Petersburg is not very pronounced. Moscow leans more toward Russian pop music, while Saint Petersburg favors jazz.\n",
    "\n",
    "However, the missing data casts doubt on this result. In Moscow, the number of missing values is so high that the top 10 could look different if the missing genre data were available."
   ]
  },
  {
   "cell_type": "markdown",
   "metadata": {
    "id": "JolODAqr_Zcu"
   },
   "source": [
    "### Genre Preferences in Moscow and Saint Petersburg"
   ]
  },
  {
   "cell_type": "markdown",
   "metadata": {},
   "source": [
    "**Hypothesis**: Saint Petersburg is the rap capital, where this genre is listened to more frequently than in Moscow. Meanwhile, Moscow, a city of contrasts, still predominantly listens to pop music."
   ]
  },
  {
   "cell_type": "markdown",
   "metadata": {},
   "source": [
    "Group the `moscow_general` table by genre and count the number of track listens for each genre using the `count()` method. Then, sort the result in descending order and save it in the `moscow_genres table`."
   ]
  },
  {
   "cell_type": "code",
   "execution_count": 35,
   "metadata": {
    "id": "r19lIPke_Zcu"
   },
   "outputs": [],
   "source": [
    "moscow_genres = moscow_general.groupby('genre')['genre'].count().sort_values(ascending = False)"
   ]
  },
  {
   "cell_type": "code",
   "execution_count": 36,
   "metadata": {
    "id": "WhCSooF8_Zcv"
   },
   "outputs": [
    {
     "data": {
      "text/plain": [
       "genre\n",
       "pop            5892\n",
       "dance          4435\n",
       "rock           3965\n",
       "electronic     3786\n",
       "hiphop         2096\n",
       "classical      1616\n",
       "world          1432\n",
       "alternative    1379\n",
       "ruspop         1372\n",
       "rusrap         1161\n",
       "Name: genre, dtype: int64"
      ]
     },
     "execution_count": 36,
     "metadata": {},
     "output_type": "execute_result"
    }
   ],
   "source": [
    "# View the first 10 rows of moscow_genres\n",
    "moscow_genres.head(10)"
   ]
  },
  {
   "cell_type": "markdown",
   "metadata": {},
   "source": [
    "Now let's do the same for Saint Petersburg.\n",
    "\n",
    "We will group the `spb_general` table by genre, count the track listens for each genre, sort the results in descending order, and store the result in the `spb_genres` table."
   ]
  },
  {
   "cell_type": "code",
   "execution_count": 37,
   "metadata": {
    "id": "gluLIpE7_Zcv"
   },
   "outputs": [],
   "source": [
    "spb_genres = spb_general.groupby('genre')['genre'].count().sort_values(ascending = False)"
   ]
  },
  {
   "cell_type": "code",
   "execution_count": 38,
   "metadata": {
    "id": "uaGJHjVU_Zcv"
   },
   "outputs": [
    {
     "data": {
      "text/plain": [
       "genre\n",
       "pop            2431\n",
       "dance          1932\n",
       "rock           1879\n",
       "electronic     1736\n",
       "hiphop          960\n",
       "alternative     649\n",
       "classical       646\n",
       "rusrap          564\n",
       "ruspop          538\n",
       "world           515\n",
       "Name: genre, dtype: int64"
      ]
     },
     "execution_count": 38,
     "metadata": {},
     "output_type": "execute_result"
    }
   ],
   "source": [
    "# View the first 10 rows of spb_genres\n",
    "spb_genres.head(10)"
   ]
  },
  {
   "cell_type": "markdown",
   "metadata": {
    "id": "nVhnJEm__Zcv"
   },
   "source": [
    "**Intermediate Conclusions**\n",
    "\n",
    "The hypothesis was partially confirmed:\n",
    "\n",
    "* Pop music is the most popular genre in Moscow, as the hypothesis suggested. Moreover, a closely related genre—Russian pop music—also appears in the top 10 genres.\n",
    "* Contrary to expectations, rap is equally popular in both Moscow and Saint Petersburg.\n"
   ]
  },
  {
   "cell_type": "markdown",
   "metadata": {
    "id": "ykKQ0N65_Zcv"
   },
   "source": [
    "## Research Findings"
   ]
  },
  {
   "cell_type": "markdown",
   "metadata": {},
   "source": [
    "We tested three hypotheses and found the following:\n",
    "\n",
    "1. **The Day of the Week Affects User Activity Differently in Moscow and Saint Petersburg.**\n",
    "The first hypothesis was fully confirmed.\n",
    "\n",
    "\n",
    "2. **Musical Preferences Do Not Change Significantly Throughout the Week—Whether in Moscow or Saint Petersburg.**\n",
    "Small differences are noticeable early in the week, specifically on Mondays:\n",
    "* In Moscow, users listen to \"world\" music,\n",
    "* In Saint Petersburg, jazz and classical music are more popular.\n",
    "\n",
    "Thus, the second hypothesis was only partially confirmed. This result could have been different if the data had not contained missing values.\n",
    "\n",
    "3. **User Preferences in Moscow and Saint Petersburg Have More in Common Than Differences.**\n",
    "\n",
    "Contrary to expectations, the genre preferences in Saint Petersburg resemble those of Moscow.\n",
    "\n",
    "The third hypothesis was not confirmed. If any differences in preferences exist, they are not noticeable among the majority of users."
   ]
  }
 ],
 "metadata": {
  "ExecuteTimeLog": [
   {
    "duration": 384,
    "start_time": "2022-04-08T15:59:04.822Z"
   },
   {
    "duration": 60,
    "start_time": "2022-04-08T16:05:54.373Z"
   },
   {
    "duration": 3,
    "start_time": "2022-04-08T16:06:00.775Z"
   },
   {
    "duration": 151,
    "start_time": "2022-04-08T16:06:05.677Z"
   },
   {
    "duration": 161,
    "start_time": "2022-04-08T16:11:28.905Z"
   },
   {
    "duration": 7,
    "start_time": "2022-04-08T16:11:33.372Z"
   },
   {
    "duration": 102,
    "start_time": "2022-04-08T16:15:47.662Z"
   },
   {
    "duration": 20,
    "start_time": "2022-04-08T16:15:56.333Z"
   },
   {
    "duration": 10,
    "start_time": "2022-04-08T16:16:28.040Z"
   },
   {
    "duration": 30,
    "start_time": "2022-04-08T16:18:13.468Z"
   },
   {
    "duration": 3,
    "start_time": "2022-04-08T16:51:49.552Z"
   },
   {
    "duration": 4,
    "start_time": "2022-04-08T16:53:17.475Z"
   },
   {
    "duration": 130,
    "start_time": "2022-04-08T16:59:30.025Z"
   },
   {
    "duration": 13,
    "start_time": "2022-04-08T16:59:51.787Z"
   },
   {
    "duration": 3,
    "start_time": "2022-04-08T16:59:59.513Z"
   },
   {
    "duration": 45,
    "start_time": "2022-04-08T17:01:02.043Z"
   },
   {
    "duration": 88,
    "start_time": "2022-04-09T10:14:23.164Z"
   },
   {
    "duration": 11,
    "start_time": "2022-04-09T10:20:54.387Z"
   },
   {
    "duration": 11,
    "start_time": "2022-04-09T10:22:02.262Z"
   },
   {
    "duration": 11,
    "start_time": "2022-04-09T10:22:44.194Z"
   },
   {
    "duration": 9,
    "start_time": "2022-04-09T10:22:57.712Z"
   },
   {
    "duration": 10,
    "start_time": "2022-04-09T10:24:07.847Z"
   },
   {
    "duration": 10,
    "start_time": "2022-04-09T10:52:59.295Z"
   },
   {
    "duration": 10,
    "start_time": "2022-04-09T10:55:05.292Z"
   },
   {
    "duration": 9,
    "start_time": "2022-04-09T10:55:26.270Z"
   },
   {
    "duration": 10,
    "start_time": "2022-04-09T10:56:40.912Z"
   },
   {
    "duration": 10,
    "start_time": "2022-04-09T10:57:25.319Z"
   },
   {
    "duration": 9,
    "start_time": "2022-04-09T10:58:03.793Z"
   },
   {
    "duration": 9,
    "start_time": "2022-04-09T10:58:39.602Z"
   },
   {
    "duration": 9,
    "start_time": "2022-04-09T11:00:15.706Z"
   },
   {
    "duration": 10,
    "start_time": "2022-04-09T11:00:31.583Z"
   },
   {
    "duration": 9,
    "start_time": "2022-04-09T11:04:33.046Z"
   },
   {
    "duration": 10,
    "start_time": "2022-04-09T11:04:40.980Z"
   },
   {
    "duration": 9,
    "start_time": "2022-04-09T11:04:56.509Z"
   },
   {
    "duration": 9,
    "start_time": "2022-04-09T11:07:33.433Z"
   },
   {
    "duration": 10,
    "start_time": "2022-04-09T11:08:01.218Z"
   },
   {
    "duration": 9,
    "start_time": "2022-04-09T11:14:22.147Z"
   },
   {
    "duration": 10,
    "start_time": "2022-04-09T11:14:54.593Z"
   },
   {
    "duration": 8,
    "start_time": "2022-04-09T11:15:10.622Z"
   },
   {
    "duration": 9,
    "start_time": "2022-04-09T11:15:20.553Z"
   },
   {
    "duration": 8,
    "start_time": "2022-04-09T11:15:27.925Z"
   },
   {
    "duration": 523,
    "start_time": "2022-04-09T11:15:34.592Z"
   },
   {
    "duration": 190,
    "start_time": "2022-04-09T11:15:38.744Z"
   },
   {
    "duration": 26,
    "start_time": "2022-04-09T11:15:47.569Z"
   },
   {
    "duration": 41,
    "start_time": "2022-04-09T11:15:56.719Z"
   },
   {
    "duration": 5,
    "start_time": "2022-04-09T11:16:02.667Z"
   },
   {
    "duration": 17,
    "start_time": "2022-04-09T11:16:13.462Z"
   },
   {
    "duration": 5,
    "start_time": "2022-04-09T11:16:21.912Z"
   },
   {
    "duration": 58,
    "start_time": "2022-04-09T11:16:29.890Z"
   },
   {
    "duration": 43,
    "start_time": "2022-04-09T11:16:36.313Z"
   },
   {
    "duration": 10,
    "start_time": "2022-04-09T11:16:43.462Z"
   },
   {
    "duration": 1646,
    "start_time": "2022-04-09T11:16:52.893Z"
   },
   {
    "duration": 61,
    "start_time": "2022-04-09T11:17:15.780Z"
   },
   {
    "duration": 1701,
    "start_time": "2022-04-09T11:17:25.469Z"
   },
   {
    "duration": 18,
    "start_time": "2022-04-09T11:17:39.240Z"
   },
   {
    "duration": 11,
    "start_time": "2022-04-09T11:18:01.747Z"
   },
   {
    "duration": 1849,
    "start_time": "2022-04-09T11:18:08.585Z"
   },
   {
    "duration": 12,
    "start_time": "2022-04-09T11:19:31.619Z"
   },
   {
    "duration": 11,
    "start_time": "2022-04-09T11:19:58.741Z"
   },
   {
    "duration": 10,
    "start_time": "2022-04-09T11:21:58.850Z"
   },
   {
    "duration": 60,
    "start_time": "2022-04-09T11:22:13.687Z"
   },
   {
    "duration": 10,
    "start_time": "2022-04-09T11:22:16.708Z"
   },
   {
    "duration": 4,
    "start_time": "2022-04-09T11:23:03.755Z"
   },
   {
    "duration": 192,
    "start_time": "2022-04-09T11:23:06.008Z"
   },
   {
    "duration": 16,
    "start_time": "2022-04-09T11:23:10.871Z"
   },
   {
    "duration": 40,
    "start_time": "2022-04-09T11:23:17.791Z"
   },
   {
    "duration": 4,
    "start_time": "2022-04-09T11:23:32.883Z"
   },
   {
    "duration": 12,
    "start_time": "2022-04-09T11:23:46.531Z"
   },
   {
    "duration": 5,
    "start_time": "2022-04-09T11:23:51.943Z"
   },
   {
    "duration": 98,
    "start_time": "2022-04-09T11:23:58.679Z"
   },
   {
    "duration": 10,
    "start_time": "2022-04-09T11:25:04.361Z"
   },
   {
    "duration": 10,
    "start_time": "2022-04-09T11:25:16.512Z"
   },
   {
    "duration": 11,
    "start_time": "2022-04-09T11:27:21.727Z"
   },
   {
    "duration": 11,
    "start_time": "2022-04-09T11:29:31.666Z"
   },
   {
    "duration": 10,
    "start_time": "2022-04-09T11:30:09.160Z"
   },
   {
    "duration": 10,
    "start_time": "2022-04-09T11:30:39.883Z"
   },
   {
    "duration": 1388,
    "start_time": "2022-04-09T11:31:25.700Z"
   },
   {
    "duration": 22,
    "start_time": "2022-04-09T11:32:23.578Z"
   },
   {
    "duration": 16,
    "start_time": "2022-04-09T11:33:41.836Z"
   },
   {
    "duration": 129,
    "start_time": "2022-04-09T11:37:43.541Z"
   },
   {
    "duration": 11,
    "start_time": "2022-04-09T11:38:21.261Z"
   },
   {
    "duration": 525,
    "start_time": "2022-04-09T11:38:27.252Z"
   },
   {
    "duration": 441,
    "start_time": "2022-04-09T11:38:31.729Z"
   },
   {
    "duration": 29,
    "start_time": "2022-04-09T11:38:33.738Z"
   },
   {
    "duration": 43,
    "start_time": "2022-04-09T11:38:35.970Z"
   },
   {
    "duration": 6,
    "start_time": "2022-04-09T11:38:39.668Z"
   },
   {
    "duration": 17,
    "start_time": "2022-04-09T11:38:41.875Z"
   },
   {
    "duration": 5,
    "start_time": "2022-04-09T11:38:43.478Z"
   },
   {
    "duration": 59,
    "start_time": "2022-04-09T11:38:47.914Z"
   },
   {
    "duration": 47,
    "start_time": "2022-04-09T11:38:52.523Z"
   },
   {
    "duration": 33,
    "start_time": "2022-04-09T11:46:34.890Z"
   },
   {
    "duration": 34,
    "start_time": "2022-04-09T11:46:43.991Z"
   },
   {
    "duration": 23,
    "start_time": "2022-04-09T11:51:09.269Z"
   },
   {
    "duration": 33,
    "start_time": "2022-04-09T11:51:12.459Z"
   },
   {
    "duration": 94,
    "start_time": "2022-04-09T11:51:48.470Z"
   },
   {
    "duration": 120,
    "start_time": "2022-04-09T11:53:03.592Z"
   },
   {
    "duration": 95,
    "start_time": "2022-04-09T11:53:16.437Z"
   },
   {
    "duration": 49,
    "start_time": "2022-04-09T15:47:27.964Z"
   },
   {
    "duration": 7,
    "start_time": "2022-04-09T15:48:01.132Z"
   },
   {
    "duration": 430,
    "start_time": "2022-04-09T15:48:31.935Z"
   },
   {
    "duration": 170,
    "start_time": "2022-04-09T15:48:33.690Z"
   },
   {
    "duration": 19,
    "start_time": "2022-04-09T15:48:34.716Z"
   },
   {
    "duration": 34,
    "start_time": "2022-04-09T15:48:35.929Z"
   },
   {
    "duration": 3,
    "start_time": "2022-04-09T15:48:39.952Z"
   },
   {
    "duration": 13,
    "start_time": "2022-04-09T15:48:42.206Z"
   },
   {
    "duration": 4,
    "start_time": "2022-04-09T15:48:44.153Z"
   },
   {
    "duration": 44,
    "start_time": "2022-04-09T15:48:46.571Z"
   },
   {
    "duration": 2178,
    "start_time": "2022-04-09T15:48:50.184Z"
   },
   {
    "duration": 2140,
    "start_time": "2022-04-09T15:49:00.071Z"
   },
   {
    "duration": 2559,
    "start_time": "2022-04-09T15:49:54.254Z"
   },
   {
    "duration": 8,
    "start_time": "2022-04-09T15:51:43.717Z"
   },
   {
    "duration": 21,
    "start_time": "2022-04-09T15:52:11.513Z"
   },
   {
    "duration": 27,
    "start_time": "2022-04-09T15:52:29.916Z"
   },
   {
    "duration": 28,
    "start_time": "2022-04-09T15:52:34.324Z"
   },
   {
    "duration": 2529,
    "start_time": "2022-04-09T15:54:25.251Z"
   },
   {
    "duration": 2169,
    "start_time": "2022-04-09T15:54:43.853Z"
   },
   {
    "duration": 2182,
    "start_time": "2022-04-09T15:55:16.840Z"
   },
   {
    "duration": 131,
    "start_time": "2022-04-09T15:57:25.511Z"
   },
   {
    "duration": 2130,
    "start_time": "2022-04-09T15:57:35.861Z"
   },
   {
    "duration": 20,
    "start_time": "2022-04-09T16:04:46.352Z"
   },
   {
    "duration": 28,
    "start_time": "2022-04-09T16:04:57.004Z"
   },
   {
    "duration": 73,
    "start_time": "2022-04-09T16:05:15.121Z"
   },
   {
    "duration": 81,
    "start_time": "2022-04-09T16:05:17.622Z"
   },
   {
    "duration": 65,
    "start_time": "2022-04-09T16:05:28.454Z"
   },
   {
    "duration": 10,
    "start_time": "2022-04-09T16:08:17.860Z"
   },
   {
    "duration": 6,
    "start_time": "2022-04-09T16:14:20.492Z"
   },
   {
    "duration": 6,
    "start_time": "2022-04-09T16:14:24.392Z"
   },
   {
    "duration": 7,
    "start_time": "2022-04-09T16:14:40.939Z"
   },
   {
    "duration": 6,
    "start_time": "2022-04-09T16:15:38.324Z"
   },
   {
    "duration": 6,
    "start_time": "2022-04-09T16:18:24.503Z"
   },
   {
    "duration": 6,
    "start_time": "2022-04-09T16:18:30.090Z"
   },
   {
    "duration": 7,
    "start_time": "2022-04-09T16:18:39.765Z"
   },
   {
    "duration": 11,
    "start_time": "2022-04-09T16:18:46.610Z"
   },
   {
    "duration": 7,
    "start_time": "2022-04-09T16:19:02.913Z"
   },
   {
    "duration": 11,
    "start_time": "2022-04-09T16:20:34.622Z"
   },
   {
    "duration": 9,
    "start_time": "2022-04-09T16:22:26.642Z"
   },
   {
    "duration": 12,
    "start_time": "2022-04-09T16:22:52.426Z"
   },
   {
    "duration": 8,
    "start_time": "2022-04-09T16:22:59.194Z"
   },
   {
    "duration": 40,
    "start_time": "2022-04-09T16:26:56.115Z"
   },
   {
    "duration": 39,
    "start_time": "2022-04-09T16:27:14.030Z"
   },
   {
    "duration": 41,
    "start_time": "2022-04-09T16:32:49.477Z"
   },
   {
    "duration": 66,
    "start_time": "2022-04-09T16:33:15.625Z"
   },
   {
    "duration": 45,
    "start_time": "2022-04-09T16:35:12.668Z"
   },
   {
    "duration": 43,
    "start_time": "2022-04-09T16:35:16.711Z"
   },
   {
    "duration": 4,
    "start_time": "2022-04-09T16:44:46.341Z"
   },
   {
    "duration": 10,
    "start_time": "2022-04-09T16:44:49.046Z"
   },
   {
    "duration": 3,
    "start_time": "2022-04-09T16:45:31.919Z"
   },
   {
    "duration": 26,
    "start_time": "2022-04-09T16:45:33.928Z"
   },
   {
    "duration": 64,
    "start_time": "2022-04-09T16:46:00.828Z"
   },
   {
    "duration": 43,
    "start_time": "2022-04-09T16:47:18.536Z"
   },
   {
    "duration": 25,
    "start_time": "2022-04-09T16:47:23.285Z"
   },
   {
    "duration": 125,
    "start_time": "2022-04-09T16:52:37.539Z"
   },
   {
    "duration": 13,
    "start_time": "2022-04-09T16:52:55.740Z"
   },
   {
    "duration": 14,
    "start_time": "2022-04-09T16:54:30.908Z"
   },
   {
    "duration": 121,
    "start_time": "2022-04-09T17:01:38.417Z"
   },
   {
    "duration": 137,
    "start_time": "2022-04-09T17:02:00.626Z"
   },
   {
    "duration": 120,
    "start_time": "2022-04-09T17:02:02.987Z"
   },
   {
    "duration": 15,
    "start_time": "2022-04-09T17:02:07.867Z"
   },
   {
    "duration": 128,
    "start_time": "2022-04-09T17:02:11.185Z"
   },
   {
    "duration": 4,
    "start_time": "2022-04-09T17:02:43.467Z"
   },
   {
    "duration": 4,
    "start_time": "2022-04-09T17:02:48.233Z"
   },
   {
    "duration": 3,
    "start_time": "2022-04-09T17:46:46.718Z"
   },
   {
    "duration": 7,
    "start_time": "2022-04-09T17:46:49.500Z"
   },
   {
    "duration": 18,
    "start_time": "2022-04-09T17:47:02.973Z"
   },
   {
    "duration": 20,
    "start_time": "2022-04-09T17:49:21.318Z"
   },
   {
    "duration": 18,
    "start_time": "2022-04-09T17:49:31.148Z"
   },
   {
    "duration": 18,
    "start_time": "2022-04-09T17:50:23.535Z"
   },
   {
    "duration": 16,
    "start_time": "2022-04-09T17:50:25.483Z"
   },
   {
    "duration": 19,
    "start_time": "2022-04-09T17:50:26.229Z"
   },
   {
    "duration": 15,
    "start_time": "2022-04-09T17:50:27.176Z"
   },
   {
    "duration": 17,
    "start_time": "2022-04-09T17:50:29.202Z"
   },
   {
    "duration": 16,
    "start_time": "2022-04-09T17:50:31.853Z"
   },
   {
    "duration": 3,
    "start_time": "2022-04-09T17:53:35.683Z"
   },
   {
    "duration": 171,
    "start_time": "2022-04-09T17:55:48.972Z"
   },
   {
    "duration": 145,
    "start_time": "2022-04-09T17:58:05.981Z"
   },
   {
    "duration": 138,
    "start_time": "2022-04-09T17:58:13.269Z"
   },
   {
    "duration": 139,
    "start_time": "2022-04-09T17:58:17.271Z"
   },
   {
    "duration": 136,
    "start_time": "2022-04-09T17:58:28.845Z"
   },
   {
    "duration": 136,
    "start_time": "2022-04-09T17:59:17.158Z"
   },
   {
    "duration": 15,
    "start_time": "2022-04-09T17:59:38.351Z"
   },
   {
    "duration": 151,
    "start_time": "2022-04-09T17:59:40.759Z"
   },
   {
    "duration": 2,
    "start_time": "2022-04-09T17:59:49.650Z"
   },
   {
    "duration": 185,
    "start_time": "2022-04-09T17:59:50.721Z"
   },
   {
    "duration": 13,
    "start_time": "2022-04-09T17:59:52.462Z"
   },
   {
    "duration": 33,
    "start_time": "2022-04-09T17:59:54.022Z"
   },
   {
    "duration": 3,
    "start_time": "2022-04-09T17:59:57.007Z"
   },
   {
    "duration": 10,
    "start_time": "2022-04-09T17:59:58.748Z"
   },
   {
    "duration": 3,
    "start_time": "2022-04-09T17:59:59.759Z"
   },
   {
    "duration": 47,
    "start_time": "2022-04-09T18:00:00.908Z"
   },
   {
    "duration": 23,
    "start_time": "2022-04-09T18:00:02.500Z"
   },
   {
    "duration": 28,
    "start_time": "2022-04-09T18:00:03.685Z"
   },
   {
    "duration": 68,
    "start_time": "2022-04-09T18:00:08.570Z"
   },
   {
    "duration": 77,
    "start_time": "2022-04-09T18:00:10.535Z"
   },
   {
    "duration": 64,
    "start_time": "2022-04-09T18:00:11.532Z"
   },
   {
    "duration": 45,
    "start_time": "2022-04-09T18:00:13.364Z"
   },
   {
    "duration": 3,
    "start_time": "2022-04-09T18:00:14.987Z"
   },
   {
    "duration": 27,
    "start_time": "2022-04-09T18:00:16.083Z"
   },
   {
    "duration": 44,
    "start_time": "2022-04-09T18:00:17.832Z"
   },
   {
    "duration": 13,
    "start_time": "2022-04-09T18:00:22.794Z"
   },
   {
    "duration": 13,
    "start_time": "2022-04-09T18:00:24.415Z"
   },
   {
    "duration": 4,
    "start_time": "2022-04-09T18:00:26.551Z"
   },
   {
    "duration": 18,
    "start_time": "2022-04-09T18:00:30.745Z"
   },
   {
    "duration": 14,
    "start_time": "2022-04-09T18:00:31.509Z"
   },
   {
    "duration": 17,
    "start_time": "2022-04-09T18:00:31.890Z"
   },
   {
    "duration": 15,
    "start_time": "2022-04-09T18:00:32.519Z"
   },
   {
    "duration": 18,
    "start_time": "2022-04-09T18:00:33.117Z"
   },
   {
    "duration": 16,
    "start_time": "2022-04-09T18:00:34.176Z"
   },
   {
    "duration": 131,
    "start_time": "2022-04-09T18:00:36.176Z"
   },
   {
    "duration": 4,
    "start_time": "2022-04-09T18:00:57.108Z"
   },
   {
    "duration": 9,
    "start_time": "2022-04-09T18:01:13.698Z"
   },
   {
    "duration": 25,
    "start_time": "2022-04-09T18:04:07.069Z"
   },
   {
    "duration": 114,
    "start_time": "2022-04-10T09:20:50.431Z"
   },
   {
    "duration": 103,
    "start_time": "2022-04-10T09:22:43.777Z"
   },
   {
    "duration": 99,
    "start_time": "2022-04-10T09:22:54.850Z"
   },
   {
    "duration": 42,
    "start_time": "2022-04-10T09:23:05.381Z"
   },
   {
    "duration": 7,
    "start_time": "2022-04-10T09:23:08.599Z"
   },
   {
    "duration": 339,
    "start_time": "2022-04-10T09:24:14.242Z"
   },
   {
    "duration": 152,
    "start_time": "2022-04-10T09:24:14.812Z"
   },
   {
    "duration": 16,
    "start_time": "2022-04-10T09:24:15.449Z"
   },
   {
    "duration": 28,
    "start_time": "2022-04-10T09:24:16.097Z"
   },
   {
    "duration": 4,
    "start_time": "2022-04-10T09:24:17.678Z"
   },
   {
    "duration": 13,
    "start_time": "2022-04-10T09:24:18.578Z"
   },
   {
    "duration": 3,
    "start_time": "2022-04-10T09:24:19.849Z"
   },
   {
    "duration": 24,
    "start_time": "2022-04-10T09:24:20.543Z"
   },
   {
    "duration": 18,
    "start_time": "2022-04-10T09:24:21.704Z"
   },
   {
    "duration": 25,
    "start_time": "2022-04-10T09:24:22.428Z"
   },
   {
    "duration": 65,
    "start_time": "2022-04-10T09:24:23.100Z"
   },
   {
    "duration": 76,
    "start_time": "2022-04-10T09:24:23.773Z"
   },
   {
    "duration": 60,
    "start_time": "2022-04-10T09:24:24.391Z"
   },
   {
    "duration": 38,
    "start_time": "2022-04-10T09:24:25.374Z"
   },
   {
    "duration": 3,
    "start_time": "2022-04-10T09:24:26.548Z"
   },
   {
    "duration": 26,
    "start_time": "2022-04-10T09:24:27.534Z"
   },
   {
    "duration": 39,
    "start_time": "2022-04-10T09:24:28.926Z"
   },
   {
    "duration": 13,
    "start_time": "2022-04-10T09:24:32.326Z"
   },
   {
    "duration": 12,
    "start_time": "2022-04-10T09:24:33.619Z"
   },
   {
    "duration": 3,
    "start_time": "2022-04-10T09:24:35.322Z"
   },
   {
    "duration": 17,
    "start_time": "2022-04-10T09:24:37.842Z"
   },
   {
    "duration": 15,
    "start_time": "2022-04-10T09:24:38.261Z"
   },
   {
    "duration": 15,
    "start_time": "2022-04-10T09:24:38.675Z"
   },
   {
    "duration": 13,
    "start_time": "2022-04-10T09:24:39.097Z"
   },
   {
    "duration": 17,
    "start_time": "2022-04-10T09:24:39.514Z"
   },
   {
    "duration": 15,
    "start_time": "2022-04-10T09:24:39.954Z"
   },
   {
    "duration": 9,
    "start_time": "2022-04-10T09:24:41.218Z"
   },
   {
    "duration": 11,
    "start_time": "2022-04-10T09:24:45.583Z"
   },
   {
    "duration": 9,
    "start_time": "2022-04-10T09:26:14.458Z"
   },
   {
    "duration": 10,
    "start_time": "2022-04-10T09:26:58.479Z"
   },
   {
    "duration": 10,
    "start_time": "2022-04-10T09:28:01.442Z"
   },
   {
    "duration": 4,
    "start_time": "2022-04-10T10:16:11.015Z"
   },
   {
    "duration": 1288,
    "start_time": "2022-04-10T10:18:54.060Z"
   },
   {
    "duration": 6,
    "start_time": "2022-04-10T10:19:34.670Z"
   },
   {
    "duration": 1501,
    "start_time": "2022-04-10T10:20:21.327Z"
   },
   {
    "duration": 4,
    "start_time": "2022-04-10T10:20:46.367Z"
   },
   {
    "duration": 4,
    "start_time": "2022-04-10T10:22:47.556Z"
   },
   {
    "duration": 1303,
    "start_time": "2022-04-10T10:22:53.914Z"
   },
   {
    "duration": 4,
    "start_time": "2022-04-10T10:25:35.507Z"
   },
   {
    "duration": 1320,
    "start_time": "2022-04-10T10:25:37.290Z"
   },
   {
    "duration": 17,
    "start_time": "2022-04-10T10:26:02.395Z"
   },
   {
    "duration": 15,
    "start_time": "2022-04-10T10:26:03.286Z"
   },
   {
    "duration": 4,
    "start_time": "2022-04-10T10:26:05.249Z"
   },
   {
    "duration": 1360,
    "start_time": "2022-04-10T10:26:08.526Z"
   },
   {
    "duration": 4,
    "start_time": "2022-04-10T10:32:06.670Z"
   },
   {
    "duration": 1329,
    "start_time": "2022-04-10T10:32:08.690Z"
   },
   {
    "duration": 10,
    "start_time": "2022-04-10T10:32:20.532Z"
   },
   {
    "duration": 4,
    "start_time": "2022-04-10T10:32:26.146Z"
   },
   {
    "duration": 3,
    "start_time": "2022-04-10T10:33:42.549Z"
   },
   {
    "duration": 23,
    "start_time": "2022-04-10T10:34:25.832Z"
   },
   {
    "duration": 39,
    "start_time": "2022-04-10T10:34:27.516Z"
   },
   {
    "duration": 12,
    "start_time": "2022-04-10T10:34:30.807Z"
   },
   {
    "duration": 12,
    "start_time": "2022-04-10T10:34:32.059Z"
   },
   {
    "duration": 3,
    "start_time": "2022-04-10T10:34:34.484Z"
   },
   {
    "duration": 17,
    "start_time": "2022-04-10T10:34:35.679Z"
   },
   {
    "duration": 14,
    "start_time": "2022-04-10T10:34:36.090Z"
   },
   {
    "duration": 15,
    "start_time": "2022-04-10T10:34:36.415Z"
   },
   {
    "duration": 16,
    "start_time": "2022-04-10T10:34:36.668Z"
   },
   {
    "duration": 17,
    "start_time": "2022-04-10T10:34:36.963Z"
   },
   {
    "duration": 14,
    "start_time": "2022-04-10T10:34:37.257Z"
   },
   {
    "duration": 9,
    "start_time": "2022-04-10T10:34:38.305Z"
   },
   {
    "duration": 12,
    "start_time": "2022-04-10T10:34:40.801Z"
   },
   {
    "duration": 10,
    "start_time": "2022-04-10T10:34:41.664Z"
   },
   {
    "duration": 4,
    "start_time": "2022-04-10T10:34:42.676Z"
   },
   {
    "duration": 1347,
    "start_time": "2022-04-10T10:34:44.214Z"
   },
   {
    "duration": 4,
    "start_time": "2022-04-10T10:35:07.464Z"
   },
   {
    "duration": 1271,
    "start_time": "2022-04-10T10:35:09.551Z"
   },
   {
    "duration": 4,
    "start_time": "2022-04-10T10:38:49.152Z"
   },
   {
    "duration": 1243,
    "start_time": "2022-04-10T10:38:54.772Z"
   },
   {
    "duration": 4,
    "start_time": "2022-04-10T10:39:16.715Z"
   },
   {
    "duration": 1327,
    "start_time": "2022-04-10T10:39:19.016Z"
   },
   {
    "duration": 7,
    "start_time": "2022-04-10T10:39:39.931Z"
   },
   {
    "duration": 1277,
    "start_time": "2022-04-10T10:39:42.023Z"
   },
   {
    "duration": 4,
    "start_time": "2022-04-10T10:41:20.972Z"
   },
   {
    "duration": 4,
    "start_time": "2022-04-10T10:42:58.589Z"
   },
   {
    "duration": 1383,
    "start_time": "2022-04-10T10:43:00.690Z"
   },
   {
    "duration": 4,
    "start_time": "2022-04-10T10:45:10.843Z"
   },
   {
    "duration": 1245,
    "start_time": "2022-04-10T10:45:15.704Z"
   },
   {
    "duration": 2,
    "start_time": "2022-04-10T10:45:22.050Z"
   },
   {
    "duration": 3,
    "start_time": "2022-04-10T10:46:33.171Z"
   },
   {
    "duration": 4,
    "start_time": "2022-04-10T10:46:38.673Z"
   },
   {
    "duration": 1240,
    "start_time": "2022-04-10T10:46:40.155Z"
   },
   {
    "duration": 3,
    "start_time": "2022-04-10T10:46:52.078Z"
   },
   {
    "duration": 145,
    "start_time": "2022-04-10T10:46:52.558Z"
   },
   {
    "duration": 11,
    "start_time": "2022-04-10T10:46:53.092Z"
   },
   {
    "duration": 27,
    "start_time": "2022-04-10T10:46:53.651Z"
   },
   {
    "duration": 3,
    "start_time": "2022-04-10T10:46:54.913Z"
   },
   {
    "duration": 8,
    "start_time": "2022-04-10T10:46:56.017Z"
   },
   {
    "duration": 3,
    "start_time": "2022-04-10T10:46:56.901Z"
   },
   {
    "duration": 24,
    "start_time": "2022-04-10T10:46:57.798Z"
   },
   {
    "duration": 18,
    "start_time": "2022-04-10T10:46:59.057Z"
   },
   {
    "duration": 25,
    "start_time": "2022-04-10T10:46:59.838Z"
   },
   {
    "duration": 63,
    "start_time": "2022-04-10T10:47:00.696Z"
   },
   {
    "duration": 69,
    "start_time": "2022-04-10T10:47:01.476Z"
   },
   {
    "duration": 61,
    "start_time": "2022-04-10T10:47:03.496Z"
   },
   {
    "duration": 40,
    "start_time": "2022-04-10T10:47:05.032Z"
   },
   {
    "duration": 2,
    "start_time": "2022-04-10T10:47:06.351Z"
   },
   {
    "duration": 24,
    "start_time": "2022-04-10T10:47:07.866Z"
   },
   {
    "duration": 39,
    "start_time": "2022-04-10T10:47:09.152Z"
   },
   {
    "duration": 15,
    "start_time": "2022-04-10T10:47:17.177Z"
   },
   {
    "duration": 13,
    "start_time": "2022-04-10T10:47:18.694Z"
   },
   {
    "duration": 4,
    "start_time": "2022-04-10T10:47:20.828Z"
   },
   {
    "duration": 15,
    "start_time": "2022-04-10T10:47:25.254Z"
   },
   {
    "duration": 13,
    "start_time": "2022-04-10T10:47:25.492Z"
   },
   {
    "duration": 15,
    "start_time": "2022-04-10T10:47:25.764Z"
   },
   {
    "duration": 14,
    "start_time": "2022-04-10T10:47:26.021Z"
   },
   {
    "duration": 17,
    "start_time": "2022-04-10T10:47:26.260Z"
   },
   {
    "duration": 15,
    "start_time": "2022-04-10T10:47:26.678Z"
   },
   {
    "duration": 8,
    "start_time": "2022-04-10T10:47:36.655Z"
   },
   {
    "duration": 12,
    "start_time": "2022-04-10T10:48:07.236Z"
   },
   {
    "duration": 12,
    "start_time": "2022-04-10T10:48:11.286Z"
   },
   {
    "duration": 5,
    "start_time": "2022-04-10T10:48:15.001Z"
   },
   {
    "duration": 1385,
    "start_time": "2022-04-10T10:48:17.342Z"
   },
   {
    "duration": 3,
    "start_time": "2022-04-10T10:51:52.247Z"
   },
   {
    "duration": 1357,
    "start_time": "2022-04-10T10:51:53.810Z"
   },
   {
    "duration": 11,
    "start_time": "2022-04-10T10:53:45.039Z"
   },
   {
    "duration": 9,
    "start_time": "2022-04-10T10:53:45.802Z"
   },
   {
    "duration": 4,
    "start_time": "2022-04-10T10:53:47.135Z"
   },
   {
    "duration": 17,
    "start_time": "2022-04-10T10:53:49.518Z"
   },
   {
    "duration": 11,
    "start_time": "2022-04-10T10:55:04.764Z"
   },
   {
    "duration": 16,
    "start_time": "2022-04-10T10:56:07.692Z"
   },
   {
    "duration": 12,
    "start_time": "2022-04-10T10:56:08.328Z"
   },
   {
    "duration": 30,
    "start_time": "2022-04-10T11:01:02.349Z"
   },
   {
    "duration": 28,
    "start_time": "2022-04-10T11:01:12.200Z"
   },
   {
    "duration": 8,
    "start_time": "2022-04-10T11:01:57.653Z"
   },
   {
    "duration": 6,
    "start_time": "2022-04-10T11:02:12.917Z"
   },
   {
    "duration": 6,
    "start_time": "2022-04-10T11:03:31.709Z"
   },
   {
    "duration": 5,
    "start_time": "2022-04-10T11:03:46.037Z"
   },
   {
    "duration": 180,
    "start_time": "2022-04-20T14:02:43.645Z"
   },
   {
    "duration": 51,
    "start_time": "2022-04-20T14:21:01.511Z"
   },
   {
    "duration": 392,
    "start_time": "2022-04-20T14:21:53.676Z"
   },
   {
    "duration": 161,
    "start_time": "2022-04-20T14:21:59.077Z"
   },
   {
    "duration": 18,
    "start_time": "2022-04-20T14:22:02.802Z"
   },
   {
    "duration": 12,
    "start_time": "2022-04-20T14:29:26.573Z"
   },
   {
    "duration": 32,
    "start_time": "2022-04-20T14:29:36.592Z"
   },
   {
    "duration": 5,
    "start_time": "2022-04-20T14:29:45.567Z"
   },
   {
    "duration": 12,
    "start_time": "2022-04-20T14:29:53.799Z"
   },
   {
    "duration": 4,
    "start_time": "2022-04-20T14:29:59.591Z"
   },
   {
    "duration": 27,
    "start_time": "2022-04-20T14:30:04.188Z"
   },
   {
    "duration": 2758,
    "start_time": "2022-04-20T14:31:21.078Z"
   },
   {
    "duration": 2705,
    "start_time": "2022-04-20T14:31:52.316Z"
   },
   {
    "duration": 2869,
    "start_time": "2022-04-20T14:34:28.939Z"
   },
   {
    "duration": 3,
    "start_time": "2022-04-20T14:35:13.671Z"
   },
   {
    "duration": 177,
    "start_time": "2022-04-20T14:35:16.232Z"
   },
   {
    "duration": 12,
    "start_time": "2022-04-20T14:35:18.756Z"
   },
   {
    "duration": 31,
    "start_time": "2022-04-20T14:35:23.338Z"
   },
   {
    "duration": 3,
    "start_time": "2022-04-20T14:35:31.102Z"
   },
   {
    "duration": 12,
    "start_time": "2022-04-20T14:35:35.266Z"
   },
   {
    "duration": 3,
    "start_time": "2022-04-20T14:35:38.782Z"
   },
   {
    "duration": 27,
    "start_time": "2022-04-20T14:35:41.148Z"
   },
   {
    "duration": 5061,
    "start_time": "2022-04-20T14:35:47.438Z"
   },
   {
    "duration": 3,
    "start_time": "2022-04-20T14:41:17.760Z"
   },
   {
    "duration": 10,
    "start_time": "2022-04-20T14:41:25.064Z"
   },
   {
    "duration": 3,
    "start_time": "2022-04-20T14:41:37.363Z"
   },
   {
    "duration": 30,
    "start_time": "2022-04-20T14:41:41.089Z"
   },
   {
    "duration": 2648,
    "start_time": "2022-04-20T14:46:17.630Z"
   },
   {
    "duration": 24,
    "start_time": "2022-04-20T14:46:53.111Z"
   },
   {
    "duration": 29,
    "start_time": "2022-04-20T14:46:59.520Z"
   },
   {
    "duration": 95,
    "start_time": "2022-04-20T14:47:05.008Z"
   },
   {
    "duration": 95,
    "start_time": "2022-04-20T14:47:07.326Z"
   },
   {
    "duration": 74,
    "start_time": "2022-04-20T14:47:09.591Z"
   },
   {
    "duration": 47,
    "start_time": "2022-04-20T14:47:13.298Z"
   },
   {
    "duration": 3,
    "start_time": "2022-04-20T14:47:16.409Z"
   },
   {
    "duration": 4,
    "start_time": "2022-04-20T14:48:00.865Z"
   },
   {
    "duration": 42,
    "start_time": "2022-04-20T14:51:31.748Z"
   },
   {
    "duration": 3,
    "start_time": "2022-04-20T14:51:33.245Z"
   },
   {
    "duration": 11,
    "start_time": "2022-04-20T14:51:36.154Z"
   },
   {
    "duration": 10,
    "start_time": "2022-04-20T14:53:41.860Z"
   },
   {
    "duration": 43,
    "start_time": "2022-04-20T14:53:44.104Z"
   },
   {
    "duration": 3,
    "start_time": "2022-04-20T14:54:06.365Z"
   },
   {
    "duration": 25,
    "start_time": "2022-04-20T14:54:09.480Z"
   },
   {
    "duration": 2,
    "start_time": "2022-04-20T14:58:33.067Z"
   },
   {
    "duration": 10,
    "start_time": "2022-04-20T14:58:36.491Z"
   },
   {
    "duration": 43,
    "start_time": "2022-04-20T14:59:01.336Z"
   },
   {
    "duration": 13,
    "start_time": "2022-04-20T14:59:07.152Z"
   },
   {
    "duration": 12,
    "start_time": "2022-04-20T14:59:08.760Z"
   },
   {
    "duration": 3,
    "start_time": "2022-04-20T14:59:11.213Z"
   },
   {
    "duration": 17,
    "start_time": "2022-04-20T14:59:13.615Z"
   },
   {
    "duration": 14,
    "start_time": "2022-04-20T14:59:13.940Z"
   },
   {
    "duration": 16,
    "start_time": "2022-04-20T14:59:14.538Z"
   },
   {
    "duration": 15,
    "start_time": "2022-04-20T14:59:15.514Z"
   },
   {
    "duration": 18,
    "start_time": "2022-04-20T14:59:16.326Z"
   },
   {
    "duration": 15,
    "start_time": "2022-04-20T14:59:16.969Z"
   },
   {
    "duration": 9,
    "start_time": "2022-04-20T14:59:20.068Z"
   },
   {
    "duration": 12,
    "start_time": "2022-04-20T14:59:23.659Z"
   },
   {
    "duration": 10,
    "start_time": "2022-04-20T14:59:24.172Z"
   },
   {
    "duration": 4,
    "start_time": "2022-04-20T14:59:25.248Z"
   },
   {
    "duration": 18,
    "start_time": "2022-04-20T14:59:27.016Z"
   },
   {
    "duration": 12,
    "start_time": "2022-04-20T14:59:27.606Z"
   },
   {
    "duration": 16,
    "start_time": "2022-04-20T14:59:28.370Z"
   },
   {
    "duration": 13,
    "start_time": "2022-04-20T14:59:29.140Z"
   },
   {
    "duration": 10,
    "start_time": "2022-04-20T14:59:32.947Z"
   },
   {
    "duration": 6,
    "start_time": "2022-04-20T14:59:34.350Z"
   },
   {
    "duration": 8,
    "start_time": "2022-04-20T14:59:36.195Z"
   },
   {
    "duration": 6,
    "start_time": "2022-04-20T14:59:37.483Z"
   },
   {
    "duration": 538,
    "start_time": "2022-04-21T04:57:26.456Z"
   },
   {
    "duration": 205,
    "start_time": "2022-04-21T04:57:26.996Z"
   },
   {
    "duration": 27,
    "start_time": "2022-04-21T04:57:27.204Z"
   },
   {
    "duration": 62,
    "start_time": "2022-04-21T04:57:27.234Z"
   },
   {
    "duration": 4,
    "start_time": "2022-04-21T04:57:27.298Z"
   },
   {
    "duration": 16,
    "start_time": "2022-04-21T04:57:27.304Z"
   },
   {
    "duration": 8,
    "start_time": "2022-04-21T04:57:27.322Z"
   },
   {
    "duration": 66,
    "start_time": "2022-04-21T04:57:27.333Z"
   },
   {
    "duration": 28,
    "start_time": "2022-04-21T04:57:27.401Z"
   },
   {
    "duration": 54,
    "start_time": "2022-04-21T04:57:27.435Z"
   },
   {
    "duration": 123,
    "start_time": "2022-04-21T04:57:27.492Z"
   },
   {
    "duration": 133,
    "start_time": "2022-04-21T04:57:27.617Z"
   },
   {
    "duration": 116,
    "start_time": "2022-04-21T04:57:27.752Z"
   },
   {
    "duration": 67,
    "start_time": "2022-04-21T04:57:27.871Z"
   },
   {
    "duration": 5,
    "start_time": "2022-04-21T04:57:27.941Z"
   },
   {
    "duration": 41,
    "start_time": "2022-04-21T04:57:27.949Z"
   },
   {
    "duration": 60,
    "start_time": "2022-04-21T04:57:27.992Z"
   },
   {
    "duration": 30,
    "start_time": "2022-04-21T04:57:28.055Z"
   },
   {
    "duration": 17,
    "start_time": "2022-04-21T04:57:28.087Z"
   },
   {
    "duration": 5,
    "start_time": "2022-04-21T04:57:28.106Z"
   },
   {
    "duration": 25,
    "start_time": "2022-04-21T04:57:28.114Z"
   },
   {
    "duration": 56,
    "start_time": "2022-04-21T04:57:28.141Z"
   },
   {
    "duration": 20,
    "start_time": "2022-04-21T04:57:28.199Z"
   },
   {
    "duration": 18,
    "start_time": "2022-04-21T04:57:28.222Z"
   },
   {
    "duration": 51,
    "start_time": "2022-04-21T04:57:28.242Z"
   },
   {
    "duration": 19,
    "start_time": "2022-04-21T04:57:28.295Z"
   },
   {
    "duration": 12,
    "start_time": "2022-04-21T04:57:28.317Z"
   },
   {
    "duration": 52,
    "start_time": "2022-04-21T04:57:28.334Z"
   },
   {
    "duration": 13,
    "start_time": "2022-04-21T04:57:28.388Z"
   },
   {
    "duration": 6,
    "start_time": "2022-04-21T04:57:28.403Z"
   },
   {
    "duration": 28,
    "start_time": "2022-04-21T04:57:28.411Z"
   },
   {
    "duration": 41,
    "start_time": "2022-04-21T04:57:28.441Z"
   },
   {
    "duration": 24,
    "start_time": "2022-04-21T04:57:28.484Z"
   },
   {
    "duration": 15,
    "start_time": "2022-04-21T04:57:28.510Z"
   },
   {
    "duration": 13,
    "start_time": "2022-04-21T04:57:28.527Z"
   },
   {
    "duration": 40,
    "start_time": "2022-04-21T04:57:28.542Z"
   },
   {
    "duration": 8,
    "start_time": "2022-04-21T04:57:28.584Z"
   },
   {
    "duration": 7,
    "start_time": "2022-04-21T04:57:28.594Z"
   },
   {
    "duration": 3,
    "start_time": "2022-04-21T04:59:16.361Z"
   },
   {
    "duration": 23,
    "start_time": "2022-04-21T04:59:18.095Z"
   },
   {
    "duration": 543,
    "start_time": "2022-04-21T04:59:21.958Z"
   },
   {
    "duration": 210,
    "start_time": "2022-04-21T04:59:22.503Z"
   },
   {
    "duration": 27,
    "start_time": "2022-04-21T04:59:22.715Z"
   },
   {
    "duration": 54,
    "start_time": "2022-04-21T04:59:22.745Z"
   },
   {
    "duration": 5,
    "start_time": "2022-04-21T04:59:22.801Z"
   },
   {
    "duration": 21,
    "start_time": "2022-04-21T04:59:22.808Z"
   },
   {
    "duration": 9,
    "start_time": "2022-04-21T04:59:22.831Z"
   },
   {
    "duration": 65,
    "start_time": "2022-04-21T04:59:22.842Z"
   },
   {
    "duration": 7,
    "start_time": "2022-04-21T04:59:22.910Z"
   },
   {
    "duration": 30,
    "start_time": "2022-04-21T04:59:22.921Z"
   },
   {
    "duration": 51,
    "start_time": "2022-04-21T04:59:22.954Z"
   },
   {
    "duration": 121,
    "start_time": "2022-04-21T04:59:23.007Z"
   },
   {
    "duration": 127,
    "start_time": "2022-04-21T04:59:23.131Z"
   },
   {
    "duration": 106,
    "start_time": "2022-04-21T04:59:23.261Z"
   },
   {
    "duration": 64,
    "start_time": "2022-04-21T04:59:23.369Z"
   },
   {
    "duration": 4,
    "start_time": "2022-04-21T04:59:23.436Z"
   },
   {
    "duration": 17,
    "start_time": "2022-04-21T04:59:23.442Z"
   },
   {
    "duration": 73,
    "start_time": "2022-04-21T04:59:23.461Z"
   },
   {
    "duration": 19,
    "start_time": "2022-04-21T04:59:23.536Z"
   },
   {
    "duration": 19,
    "start_time": "2022-04-21T04:59:23.581Z"
   },
   {
    "duration": 5,
    "start_time": "2022-04-21T04:59:23.602Z"
   },
   {
    "duration": 28,
    "start_time": "2022-04-21T04:59:23.609Z"
   },
   {
    "duration": 45,
    "start_time": "2022-04-21T04:59:23.639Z"
   },
   {
    "duration": 20,
    "start_time": "2022-04-21T04:59:23.686Z"
   },
   {
    "duration": 24,
    "start_time": "2022-04-21T04:59:23.708Z"
   },
   {
    "duration": 49,
    "start_time": "2022-04-21T04:59:23.734Z"
   },
   {
    "duration": 20,
    "start_time": "2022-04-21T04:59:23.785Z"
   },
   {
    "duration": 12,
    "start_time": "2022-04-21T04:59:23.810Z"
   },
   {
    "duration": 17,
    "start_time": "2022-04-21T04:59:23.824Z"
   },
   {
    "duration": 46,
    "start_time": "2022-04-21T04:59:23.843Z"
   },
   {
    "duration": 6,
    "start_time": "2022-04-21T04:59:23.891Z"
   },
   {
    "duration": 31,
    "start_time": "2022-04-21T04:59:23.899Z"
   },
   {
    "duration": 58,
    "start_time": "2022-04-21T04:59:23.931Z"
   },
   {
    "duration": 23,
    "start_time": "2022-04-21T04:59:23.991Z"
   },
   {
    "duration": 68,
    "start_time": "2022-04-21T04:59:24.016Z"
   },
   {
    "duration": 12,
    "start_time": "2022-04-21T04:59:24.086Z"
   },
   {
    "duration": 6,
    "start_time": "2022-04-21T04:59:24.101Z"
   },
   {
    "duration": 10,
    "start_time": "2022-04-21T04:59:24.109Z"
   },
   {
    "duration": 63,
    "start_time": "2022-04-21T04:59:24.121Z"
   },
   {
    "duration": 1684,
    "start_time": "2022-04-21T05:00:36.722Z"
   },
   {
    "duration": 508,
    "start_time": "2022-04-21T05:04:35.096Z"
   },
   {
    "duration": 211,
    "start_time": "2022-04-21T05:04:35.606Z"
   },
   {
    "duration": 27,
    "start_time": "2022-04-21T05:04:35.819Z"
   },
   {
    "duration": 63,
    "start_time": "2022-04-21T05:04:35.849Z"
   },
   {
    "duration": 5,
    "start_time": "2022-04-21T05:04:35.915Z"
   },
   {
    "duration": 17,
    "start_time": "2022-04-21T05:04:35.923Z"
   },
   {
    "duration": 8,
    "start_time": "2022-04-21T05:04:35.942Z"
   },
   {
    "duration": 35,
    "start_time": "2022-04-21T05:04:35.983Z"
   },
   {
    "duration": 37,
    "start_time": "2022-04-21T05:04:36.020Z"
   },
   {
    "duration": 51,
    "start_time": "2022-04-21T05:04:36.061Z"
   },
   {
    "duration": 115,
    "start_time": "2022-04-21T05:04:36.114Z"
   },
   {
    "duration": 130,
    "start_time": "2022-04-21T05:04:36.231Z"
   },
   {
    "duration": 108,
    "start_time": "2022-04-21T05:04:36.363Z"
   },
   {
    "duration": 57,
    "start_time": "2022-04-21T05:04:36.473Z"
   },
   {
    "duration": 4,
    "start_time": "2022-04-21T05:04:36.532Z"
   },
   {
    "duration": 18,
    "start_time": "2022-04-21T05:04:36.538Z"
   },
   {
    "duration": 54,
    "start_time": "2022-04-21T05:04:36.581Z"
   },
   {
    "duration": 18,
    "start_time": "2022-04-21T05:04:36.637Z"
   },
   {
    "duration": 39,
    "start_time": "2022-04-21T05:04:36.657Z"
   },
   {
    "duration": 5,
    "start_time": "2022-04-21T05:04:36.698Z"
   },
   {
    "duration": 26,
    "start_time": "2022-04-21T05:04:36.705Z"
   },
   {
    "duration": 55,
    "start_time": "2022-04-21T05:04:36.733Z"
   },
   {
    "duration": 21,
    "start_time": "2022-04-21T05:04:36.790Z"
   },
   {
    "duration": 19,
    "start_time": "2022-04-21T05:04:36.814Z"
   },
   {
    "duration": 59,
    "start_time": "2022-04-21T05:04:36.835Z"
   },
   {
    "duration": 20,
    "start_time": "2022-04-21T05:04:36.896Z"
   },
   {
    "duration": 12,
    "start_time": "2022-04-21T05:04:36.919Z"
   },
   {
    "duration": 59,
    "start_time": "2022-04-21T05:04:36.936Z"
   },
   {
    "duration": 14,
    "start_time": "2022-04-21T05:04:36.997Z"
   },
   {
    "duration": 5,
    "start_time": "2022-04-21T05:04:37.014Z"
   },
   {
    "duration": 68,
    "start_time": "2022-04-21T05:04:37.022Z"
   },
   {
    "duration": 16,
    "start_time": "2022-04-21T05:04:37.093Z"
   },
   {
    "duration": 83,
    "start_time": "2022-04-21T05:04:37.112Z"
   },
   {
    "duration": 16,
    "start_time": "2022-04-21T05:04:37.197Z"
   },
   {
    "duration": 67,
    "start_time": "2022-04-21T05:04:37.215Z"
   },
   {
    "duration": 7,
    "start_time": "2022-04-21T05:04:37.284Z"
   },
   {
    "duration": 10,
    "start_time": "2022-04-21T05:04:37.293Z"
   },
   {
    "duration": 8,
    "start_time": "2022-04-21T05:04:37.305Z"
   },
   {
    "duration": 45,
    "start_time": "2022-04-21T09:57:15.964Z"
   },
   {
    "duration": 446,
    "start_time": "2022-04-21T09:57:27.302Z"
   },
   {
    "duration": 145,
    "start_time": "2022-04-21T09:57:28.752Z"
   },
   {
    "duration": 17,
    "start_time": "2022-04-21T09:57:30.273Z"
   },
   {
    "duration": 31,
    "start_time": "2022-04-21T09:57:34.871Z"
   },
   {
    "duration": 3,
    "start_time": "2022-04-21T09:57:40.257Z"
   },
   {
    "duration": 10,
    "start_time": "2022-04-21T09:57:43.063Z"
   },
   {
    "duration": 3,
    "start_time": "2022-04-21T09:57:45.134Z"
   },
   {
    "duration": 25,
    "start_time": "2022-04-21T09:57:46.812Z"
   },
   {
    "duration": 19,
    "start_time": "2022-04-21T09:57:49.962Z"
   },
   {
    "duration": 24,
    "start_time": "2022-04-21T09:57:55.555Z"
   },
   {
    "duration": 370,
    "start_time": "2022-04-21T18:34:08.155Z"
   },
   {
    "duration": 2511,
    "start_time": "2022-04-21T18:34:08.527Z"
   },
   {
    "duration": 19,
    "start_time": "2022-04-21T18:34:11.040Z"
   },
   {
    "duration": 32,
    "start_time": "2022-04-21T18:34:11.061Z"
   },
   {
    "duration": 4,
    "start_time": "2022-04-21T18:34:11.095Z"
   },
   {
    "duration": 32,
    "start_time": "2022-04-21T18:34:11.100Z"
   },
   {
    "duration": 6,
    "start_time": "2022-04-21T18:34:11.134Z"
   },
   {
    "duration": 29,
    "start_time": "2022-04-21T18:34:11.142Z"
   },
   {
    "duration": 20,
    "start_time": "2022-04-21T18:34:11.173Z"
   },
   {
    "duration": 28,
    "start_time": "2022-04-21T18:34:11.222Z"
   },
   {
    "duration": 75,
    "start_time": "2022-04-21T18:34:11.252Z"
   },
   {
    "duration": 80,
    "start_time": "2022-04-21T18:34:11.329Z"
   },
   {
    "duration": 73,
    "start_time": "2022-04-21T18:34:11.411Z"
   },
   {
    "duration": 58,
    "start_time": "2022-04-21T18:34:11.485Z"
   },
   {
    "duration": 2,
    "start_time": "2022-04-21T18:34:11.545Z"
   },
   {
    "duration": 15,
    "start_time": "2022-04-21T18:34:11.549Z"
   },
   {
    "duration": 41,
    "start_time": "2022-04-21T18:34:11.565Z"
   },
   {
    "duration": 26,
    "start_time": "2022-04-21T18:34:11.608Z"
   },
   {
    "duration": 12,
    "start_time": "2022-04-21T18:34:11.636Z"
   },
   {
    "duration": 4,
    "start_time": "2022-04-21T18:34:11.650Z"
   },
   {
    "duration": 21,
    "start_time": "2022-04-21T18:34:11.655Z"
   },
   {
    "duration": 46,
    "start_time": "2022-04-21T18:34:11.678Z"
   },
   {
    "duration": 18,
    "start_time": "2022-04-21T18:34:11.725Z"
   },
   {
    "duration": 15,
    "start_time": "2022-04-21T18:34:11.744Z"
   },
   {
    "duration": 16,
    "start_time": "2022-04-21T18:34:11.761Z"
   },
   {
    "duration": 48,
    "start_time": "2022-04-21T18:34:11.779Z"
   },
   {
    "duration": 9,
    "start_time": "2022-04-21T18:34:11.829Z"
   },
   {
    "duration": 13,
    "start_time": "2022-04-21T18:34:11.841Z"
   },
   {
    "duration": 9,
    "start_time": "2022-04-21T18:34:11.856Z"
   },
   {
    "duration": 9,
    "start_time": "2022-04-21T18:34:11.866Z"
   },
   {
    "duration": 35,
    "start_time": "2022-04-21T18:34:11.876Z"
   },
   {
    "duration": 28,
    "start_time": "2022-04-21T18:34:11.913Z"
   },
   {
    "duration": 20,
    "start_time": "2022-04-21T18:34:11.942Z"
   },
   {
    "duration": 12,
    "start_time": "2022-04-21T18:34:11.964Z"
   },
   {
    "duration": 13,
    "start_time": "2022-04-21T18:34:11.977Z"
   },
   {
    "duration": 5,
    "start_time": "2022-04-21T18:34:11.991Z"
   },
   {
    "duration": 35,
    "start_time": "2022-04-21T18:34:11.998Z"
   },
   {
    "duration": 13,
    "start_time": "2022-04-21T18:34:12.035Z"
   },
   {
    "duration": 49,
    "start_time": "2024-11-22T12:43:39.653Z"
   },
   {
    "duration": 2,
    "start_time": "2024-11-22T13:25:17.028Z"
   },
   {
    "duration": 5,
    "start_time": "2024-11-22T13:26:46.877Z"
   },
   {
    "duration": 76,
    "start_time": "2024-11-22T13:26:53.916Z"
   },
   {
    "duration": 2,
    "start_time": "2024-11-22T13:27:29.776Z"
   },
   {
    "duration": 3,
    "start_time": "2024-11-22T13:47:56.917Z"
   },
   {
    "duration": 8,
    "start_time": "2024-11-22T14:03:59.822Z"
   },
   {
    "duration": 7,
    "start_time": "2024-11-22T14:05:44.067Z"
   },
   {
    "duration": 431,
    "start_time": "2024-11-22T14:18:39.822Z"
   },
   {
    "duration": 421,
    "start_time": "2024-11-22T14:18:58.845Z"
   },
   {
    "duration": 495,
    "start_time": "2024-11-22T14:18:59.268Z"
   },
   {
    "duration": 17,
    "start_time": "2024-11-22T14:18:59.765Z"
   },
   {
    "duration": 34,
    "start_time": "2024-11-22T14:18:59.784Z"
   },
   {
    "duration": 3,
    "start_time": "2024-11-22T14:18:59.820Z"
   },
   {
    "duration": 14,
    "start_time": "2024-11-22T14:18:59.825Z"
   },
   {
    "duration": 16,
    "start_time": "2024-11-22T14:18:59.840Z"
   },
   {
    "duration": 53,
    "start_time": "2024-11-22T14:18:59.857Z"
   },
   {
    "duration": 31,
    "start_time": "2024-11-22T14:18:59.912Z"
   },
   {
    "duration": 31,
    "start_time": "2024-11-22T14:18:59.946Z"
   },
   {
    "duration": 92,
    "start_time": "2024-11-22T14:18:59.978Z"
   },
   {
    "duration": 93,
    "start_time": "2024-11-22T14:19:00.071Z"
   },
   {
    "duration": 115,
    "start_time": "2024-11-22T14:19:00.166Z"
   },
   {
    "duration": 51,
    "start_time": "2024-11-22T14:19:00.284Z"
   },
   {
    "duration": 52,
    "start_time": "2024-11-22T14:19:00.337Z"
   },
   {
    "duration": 105,
    "start_time": "2024-11-22T14:19:00.391Z"
   },
   {
    "duration": 92,
    "start_time": "2024-11-22T14:19:00.498Z"
   },
   {
    "duration": 19,
    "start_time": "2024-11-22T14:19:00.592Z"
   },
   {
    "duration": 36,
    "start_time": "2024-11-22T14:19:00.614Z"
   },
   {
    "duration": 20,
    "start_time": "2024-11-22T14:19:00.652Z"
   },
   {
    "duration": 37,
    "start_time": "2024-11-22T14:19:00.674Z"
   },
   {
    "duration": 26,
    "start_time": "2024-11-22T14:19:00.717Z"
   },
   {
    "duration": 29,
    "start_time": "2024-11-22T14:19:00.745Z"
   },
   {
    "duration": 22,
    "start_time": "2024-11-22T14:19:00.776Z"
   },
   {
    "duration": 96,
    "start_time": "2024-11-22T14:19:00.800Z"
   },
   {
    "duration": 43,
    "start_time": "2024-11-22T14:19:00.897Z"
   },
   {
    "duration": 54,
    "start_time": "2024-11-22T14:19:00.942Z"
   },
   {
    "duration": 58,
    "start_time": "2024-11-22T14:19:01.000Z"
   },
   {
    "duration": 156,
    "start_time": "2024-11-22T14:19:01.061Z"
   },
   {
    "duration": 38,
    "start_time": "2024-11-22T14:19:01.220Z"
   },
   {
    "duration": 22,
    "start_time": "2024-11-22T14:19:01.260Z"
   },
   {
    "duration": 40,
    "start_time": "2024-11-22T14:19:01.284Z"
   },
   {
    "duration": 39,
    "start_time": "2024-11-22T14:19:01.326Z"
   },
   {
    "duration": 21,
    "start_time": "2024-11-22T14:19:01.367Z"
   },
   {
    "duration": 47,
    "start_time": "2024-11-22T14:19:01.390Z"
   },
   {
    "duration": 27,
    "start_time": "2024-11-22T14:19:01.439Z"
   },
   {
    "duration": 49,
    "start_time": "2024-11-22T14:19:01.468Z"
   },
   {
    "duration": 10,
    "start_time": "2024-11-22T14:19:01.520Z"
   }
  ],
  "colab": {
   "collapsed_sections": [
    "E0vqbgi9ay0H",
    "VUC88oWjTJw2"
   ],
   "name": "yandex_music_project.ipynb",
   "provenance": []
  },
  "kernelspec": {
   "display_name": "Python 3 (ipykernel)",
   "language": "python",
   "name": "python3"
  },
  "language_info": {
   "codemirror_mode": {
    "name": "ipython",
    "version": 3
   },
   "file_extension": ".py",
   "mimetype": "text/x-python",
   "name": "python",
   "nbconvert_exporter": "python",
   "pygments_lexer": "ipython3",
   "version": "3.9.5"
  },
  "toc": {
   "base_numbering": 1,
   "nav_menu": {},
   "number_sections": true,
   "sideBar": true,
   "skip_h1_title": true,
   "title_cell": "Table of Contents",
   "title_sidebar": "Contents",
   "toc_cell": false,
   "toc_position": {
    "height": "calc(100% - 180px)",
    "left": "10px",
    "top": "150px",
    "width": "270.398px"
   },
   "toc_section_display": true,
   "toc_window_display": true
  }
 },
 "nbformat": 4,
 "nbformat_minor": 1
}
