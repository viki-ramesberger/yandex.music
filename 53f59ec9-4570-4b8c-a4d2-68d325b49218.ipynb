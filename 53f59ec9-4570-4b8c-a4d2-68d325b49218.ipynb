{
 "cells": [
  {
   "cell_type": "markdown",
   "metadata": {},
   "source": [
    "<div class=\"alert alert-info\"> <p2>\n",
    "Привет! Меня зовут Позднякова Кристина. Я буду проверять твой проект. Приношу свои извинения за долгую проверку! Предлагаю обращаться на «ты», но если так не удобно для тебя - дай знать, и мы перейдем на «вы»:). Моя основная цель проверки проекта — не просто указать на совершенные тобою ошибки, а поделиться своим опытом и помочь доработать код так, как хорошо было бы его писать в реальном рабочем проекте. Я вижу, что ты старалась, делая проект. Все ключевые этапы в работе выполнены и соблюдены, так что в целом справиться с задачей тебе удалось. Работа получилась очень хорошая! \n",
    "</p2>\n",
    "    <br>\n",
    "    <br>\n",
    "<p2>\n",
    "Есть только один совсем небольшой аспект, который требует твоего внимания. Комментарий по нему помечен красным цветом (❌). После доработки, с учетом этого момента, проект будет принят. Осталось совсем немного, буду ждать твою работу на повторное ревью:) Зелёным цветом (✔️) отмечены хорошие, удачные и элегантные решения, на которые можно опираться в будущих проектах. Из контекста будет более понятно что хорошо, а что просто великолепно!:) Жёлтым цветом (⚠️) выделено то, что в следующий раз можно сделать по-другому. Ты можешь учесть эти комментарии при выполнении будущих заданий или доработать проект сейчас (однако это не обязательно). \n",
    "</p2>\n",
    "    <br>\n",
    "    <br>\n",
    "<p2>\n",
    "Давай работать над проектом взаимодействуя друг с другом: если ты что-то меняешь в проекте по моим рекомендациям — пиши об этом, пожалуйста. Выбери для своих комментариев какой-то заметный цвет, отличный от выбранных мной, так мне будет легче отследить изменения. В названии моих комментариев будет номер версии начиная со второй. Пожалуйста, не перемещай, не изменяй и не удаляй мои комментарии. Всё это поможет выполнить повторную проверку твоего проекта оперативнее:)  \n",
    "</p2>\n",
    "        <br>\n",
    "    <br>\n",
    "Задавай вопросы, если появятся! И хорошего дня:)\n",
    "</div>"
   ]
  },
  {
   "cell_type": "markdown",
   "metadata": {},
   "source": [
    "<div class=\"alert alert-warning\"> <p2>\n",
    "Привет, Кристина! Спасибо за понятную и развернутую обратную связь! Взяла все пункты в работу.\n",
    "</p2>\n",
    "    <br>\n",
    "    <br>\n",
    "<p2>\n",
    "В своих ответах я буду использовать этот 🐥 эмодзи\n",
    "<div>"
   ]
  },
  {
   "cell_type": "markdown",
   "metadata": {},
   "source": [
    "<div class=\"alert alert-info\">\n",
    "<b>Комментарий ревьюера v2</b>    <br>\n",
    "Привет) Я там оставила уточняющий комментарий) буду ждать работу!\n",
    "<br>\n",
    "Хорошего дня!:)"
   ]
  },
  {
   "cell_type": "markdown",
   "metadata": {},
   "source": [
    "<div class=\"alert alert-info\">\n",
    "<b>Комментарий ревьюера v2</b>    <br>\n",
    "Привет) Я очень рада, что у тебя получилось доработать проект! Работу принимаю:) Я отметила ниже, что ошибка исправлена) <br>\n",
    "У тебя очень хорошо получилось справиться с проектом! Было приятно поработать) Желаю тебе успехов в стараниях и уверена что у тебя все получится! Старт отличный:)\n",
    "<br>\n",
    "<br>\n",
    "Хорошего дня!:)"
   ]
  },
  {
   "cell_type": "markdown",
   "metadata": {
    "id": "E0vqbgi9ay0H"
   },
   "source": [
    "# Яндекс.Музыка"
   ]
  },
  {
   "cell_type": "markdown",
   "metadata": {
    "id": "VUC88oWjTJw2"
   },
   "source": [
    "Сравнение Москвы и Петербурга окружено мифами. Например:\n",
    " * Москва — мегаполис, подчинённый жёсткому ритму рабочей недели;\n",
    " * Петербург — культурная столица, со своими вкусами.\n",
    "\n",
    "На данных Яндекс.Музыки вы сравните поведение пользователей двух столиц.\n",
    "\n",
    "**Цель исследования** — проверьте три гипотезы:\n",
    "1. Активность пользователей зависит от дня недели. Причём в Москве и Петербурге это проявляется по-разному.\n",
    "2. В понедельник утром в Москве преобладают одни жанры, а в Петербурге — другие. Так же и вечером пятницы преобладают разные жанры — в зависимости от города. \n",
    "3. Москва и Петербург предпочитают разные жанры музыки. В Москве чаще слушают поп-музыку, в Петербурге — русский рэп.\n",
    "\n",
    "**Ход исследования**\n",
    "\n",
    "Данные о поведении пользователей вы получите из файла `yandex_music_project.csv`. О качестве данных ничего не известно. Поэтому перед проверкой гипотез понадобится обзор данных. \n",
    "\n",
    "Вы проверите данные на ошибки и оцените их влияние на исследование. Затем, на этапе предобработки вы поищете возможность исправить самые критичные ошибки данных.\n",
    " \n",
    "Таким образом, исследование пройдёт в три этапа:\n",
    " 1. Обзор данных.\n",
    " 2. Предобработка данных.\n",
    " 3. Проверка гипотез.\n",
    "\n"
   ]
  },
  {
   "cell_type": "markdown",
   "metadata": {},
   "source": [
    "<div class=\"alert alert-success\">\n",
    "✔️ Хорошая практика начинать проект с контекста, описания задачи, возможного хода\\плана исследования, а также описания имеющихся данных. Очень надеюсь, что ты будешь уделять этому внимание и в последующих проектах!\n",
    "</div>"
   ]
  },
  {
   "cell_type": "markdown",
   "metadata": {
    "id": "Ml1hmfXC_Zcs"
   },
   "source": [
    "## Обзор данных\n",
    "\n",
    "Составьте первое представление о данных Яндекс.Музыки.\n",
    "\n",
    "\n"
   ]
  },
  {
   "cell_type": "markdown",
   "metadata": {
    "id": "57eAOGIz_Zcs"
   },
   "source": [
    "Основной инструмент аналитика — `pandas`. Импортируйте эту библиотеку."
   ]
  },
  {
   "cell_type": "code",
   "execution_count": 1,
   "metadata": {
    "id": "AXN7PHPN_Zcs"
   },
   "outputs": [],
   "source": [
    "import pandas as pd # импорт библиотеки pandas"
   ]
  },
  {
   "cell_type": "markdown",
   "metadata": {},
   "source": [
    "<div class=\"alert alert-success\">\n",
    "✔️ Очень здорово, что ты используешь сокращение pd для Pandas, это общепринятое сокращение для этой библиотеки для удобной дальнейшей работы. \n",
    "</div>"
   ]
  },
  {
   "cell_type": "markdown",
   "metadata": {
    "id": "SG23P8tt_Zcs"
   },
   "source": [
    "Прочитайте файл `yandex_music_project.csv` из папки `/datasets` и сохраните его в переменной `df`:"
   ]
  },
  {
   "cell_type": "code",
   "execution_count": 2,
   "metadata": {
    "id": "fFVu7vqh_Zct"
   },
   "outputs": [],
   "source": [
    "df = pd.read_csv('/datasets/yandex_music_project.csv')# чтение файла с данными и сохранение в df"
   ]
  },
  {
   "cell_type": "markdown",
   "metadata": {},
   "source": [
    "<div class=\"alert alert-success\">\n",
    "✔️ Указан правильный путь к файлу: слэш в начале пути очень важен, так как указывает, что нужно искать файл в корневой папке.\n",
    "</div>"
   ]
  },
  {
   "cell_type": "markdown",
   "metadata": {
    "id": "rDoOMd3uTqnZ"
   },
   "source": [
    "Выведите на экран первые десять строк таблицы:"
   ]
  },
  {
   "cell_type": "code",
   "execution_count": 3,
   "metadata": {
    "id": "oWTVX3gW_Zct"
   },
   "outputs": [
    {
     "data": {
      "text/html": [
       "<div>\n",
       "<style scoped>\n",
       "    .dataframe tbody tr th:only-of-type {\n",
       "        vertical-align: middle;\n",
       "    }\n",
       "\n",
       "    .dataframe tbody tr th {\n",
       "        vertical-align: top;\n",
       "    }\n",
       "\n",
       "    .dataframe thead th {\n",
       "        text-align: right;\n",
       "    }\n",
       "</style>\n",
       "<table border=\"1\" class=\"dataframe\">\n",
       "  <thead>\n",
       "    <tr style=\"text-align: right;\">\n",
       "      <th></th>\n",
       "      <th>userID</th>\n",
       "      <th>Track</th>\n",
       "      <th>artist</th>\n",
       "      <th>genre</th>\n",
       "      <th>City</th>\n",
       "      <th>time</th>\n",
       "      <th>Day</th>\n",
       "    </tr>\n",
       "  </thead>\n",
       "  <tbody>\n",
       "    <tr>\n",
       "      <th>0</th>\n",
       "      <td>FFB692EC</td>\n",
       "      <td>Kamigata To Boots</td>\n",
       "      <td>The Mass Missile</td>\n",
       "      <td>rock</td>\n",
       "      <td>Saint-Petersburg</td>\n",
       "      <td>20:28:33</td>\n",
       "      <td>Wednesday</td>\n",
       "    </tr>\n",
       "    <tr>\n",
       "      <th>1</th>\n",
       "      <td>55204538</td>\n",
       "      <td>Delayed Because of Accident</td>\n",
       "      <td>Andreas Rönnberg</td>\n",
       "      <td>rock</td>\n",
       "      <td>Moscow</td>\n",
       "      <td>14:07:09</td>\n",
       "      <td>Friday</td>\n",
       "    </tr>\n",
       "    <tr>\n",
       "      <th>2</th>\n",
       "      <td>20EC38</td>\n",
       "      <td>Funiculì funiculà</td>\n",
       "      <td>Mario Lanza</td>\n",
       "      <td>pop</td>\n",
       "      <td>Saint-Petersburg</td>\n",
       "      <td>20:58:07</td>\n",
       "      <td>Wednesday</td>\n",
       "    </tr>\n",
       "    <tr>\n",
       "      <th>3</th>\n",
       "      <td>A3DD03C9</td>\n",
       "      <td>Dragons in the Sunset</td>\n",
       "      <td>Fire + Ice</td>\n",
       "      <td>folk</td>\n",
       "      <td>Saint-Petersburg</td>\n",
       "      <td>08:37:09</td>\n",
       "      <td>Monday</td>\n",
       "    </tr>\n",
       "    <tr>\n",
       "      <th>4</th>\n",
       "      <td>E2DC1FAE</td>\n",
       "      <td>Soul People</td>\n",
       "      <td>Space Echo</td>\n",
       "      <td>dance</td>\n",
       "      <td>Moscow</td>\n",
       "      <td>08:34:34</td>\n",
       "      <td>Monday</td>\n",
       "    </tr>\n",
       "    <tr>\n",
       "      <th>5</th>\n",
       "      <td>842029A1</td>\n",
       "      <td>Преданная</td>\n",
       "      <td>IMPERVTOR</td>\n",
       "      <td>rusrap</td>\n",
       "      <td>Saint-Petersburg</td>\n",
       "      <td>13:09:41</td>\n",
       "      <td>Friday</td>\n",
       "    </tr>\n",
       "    <tr>\n",
       "      <th>6</th>\n",
       "      <td>4CB90AA5</td>\n",
       "      <td>True</td>\n",
       "      <td>Roman Messer</td>\n",
       "      <td>dance</td>\n",
       "      <td>Moscow</td>\n",
       "      <td>13:00:07</td>\n",
       "      <td>Wednesday</td>\n",
       "    </tr>\n",
       "    <tr>\n",
       "      <th>7</th>\n",
       "      <td>F03E1C1F</td>\n",
       "      <td>Feeling This Way</td>\n",
       "      <td>Polina Griffith</td>\n",
       "      <td>dance</td>\n",
       "      <td>Moscow</td>\n",
       "      <td>20:47:49</td>\n",
       "      <td>Wednesday</td>\n",
       "    </tr>\n",
       "    <tr>\n",
       "      <th>8</th>\n",
       "      <td>8FA1D3BE</td>\n",
       "      <td>И вновь продолжается бой</td>\n",
       "      <td>NaN</td>\n",
       "      <td>ruspop</td>\n",
       "      <td>Moscow</td>\n",
       "      <td>09:17:40</td>\n",
       "      <td>Friday</td>\n",
       "    </tr>\n",
       "    <tr>\n",
       "      <th>9</th>\n",
       "      <td>E772D5C0</td>\n",
       "      <td>Pessimist</td>\n",
       "      <td>NaN</td>\n",
       "      <td>dance</td>\n",
       "      <td>Saint-Petersburg</td>\n",
       "      <td>21:20:49</td>\n",
       "      <td>Wednesday</td>\n",
       "    </tr>\n",
       "  </tbody>\n",
       "</table>\n",
       "</div>"
      ],
      "text/plain": [
       "     userID                        Track            artist   genre  \\\n",
       "0  FFB692EC            Kamigata To Boots  The Mass Missile    rock   \n",
       "1  55204538  Delayed Because of Accident  Andreas Rönnberg    rock   \n",
       "2    20EC38            Funiculì funiculà       Mario Lanza     pop   \n",
       "3  A3DD03C9        Dragons in the Sunset        Fire + Ice    folk   \n",
       "4  E2DC1FAE                  Soul People        Space Echo   dance   \n",
       "5  842029A1                    Преданная         IMPERVTOR  rusrap   \n",
       "6  4CB90AA5                         True      Roman Messer   dance   \n",
       "7  F03E1C1F             Feeling This Way   Polina Griffith   dance   \n",
       "8  8FA1D3BE     И вновь продолжается бой               NaN  ruspop   \n",
       "9  E772D5C0                    Pessimist               NaN   dance   \n",
       "\n",
       "             City        time        Day  \n",
       "0  Saint-Petersburg  20:28:33  Wednesday  \n",
       "1            Moscow  14:07:09     Friday  \n",
       "2  Saint-Petersburg  20:58:07  Wednesday  \n",
       "3  Saint-Petersburg  08:37:09     Monday  \n",
       "4            Moscow  08:34:34     Monday  \n",
       "5  Saint-Petersburg  13:09:41     Friday  \n",
       "6            Moscow  13:00:07  Wednesday  \n",
       "7            Moscow  20:47:49  Wednesday  \n",
       "8            Moscow  09:17:40     Friday  \n",
       "9  Saint-Petersburg  21:20:49  Wednesday  "
      ]
     },
     "execution_count": 3,
     "metadata": {},
     "output_type": "execute_result"
    }
   ],
   "source": [
    "df.head(10)# получение первых 10 строк таблицы df"
   ]
  },
  {
   "cell_type": "markdown",
   "metadata": {},
   "source": [
    "<div class=\"alert alert-success\">\n",
    "✔️ Отлично! Первые 10 строк выведены. Так же можно, если тебе понадобится, выводить последние n строк с помощью метода tail().\n",
    "</div>"
   ]
  },
  {
   "cell_type": "markdown",
   "metadata": {},
   "source": [
    "<div class=\"alert alert-warning\"> \n",
    "⚠️ А еще тут необязательно использовать функцию display или print. Так как это единственная строчка кода. И если это было бы последняя строчка кода, то тоже все вывелось бы на экран. Это относится ко всему проекту"
   ]
  },
  {
   "cell_type": "markdown",
   "metadata": {},
   "source": [
    "🐥 **Убрала функцию display**\n"
   ]
  },
  {
   "cell_type": "markdown",
   "metadata": {
    "id": "EO73Kwic_Zct"
   },
   "source": [
    "Одной командой получить общую информацию о таблице:"
   ]
  },
  {
   "cell_type": "code",
   "execution_count": 4,
   "metadata": {
    "id": "DSf2kIb-_Zct"
   },
   "outputs": [
    {
     "name": "stdout",
     "output_type": "stream",
     "text": [
      "<class 'pandas.core.frame.DataFrame'>\n",
      "RangeIndex: 65079 entries, 0 to 65078\n",
      "Data columns (total 7 columns):\n",
      " #   Column    Non-Null Count  Dtype \n",
      "---  ------    --------------  ----- \n",
      " 0     userID  65079 non-null  object\n",
      " 1   Track     63848 non-null  object\n",
      " 2   artist    57876 non-null  object\n",
      " 3   genre     63881 non-null  object\n",
      " 4     City    65079 non-null  object\n",
      " 5   time      65079 non-null  object\n",
      " 6   Day       65079 non-null  object\n",
      "dtypes: object(7)\n",
      "memory usage: 3.5+ MB\n"
     ]
    }
   ],
   "source": [
    "df.info()# получение общей информации о данных в таблице df"
   ]
  },
  {
   "cell_type": "markdown",
   "metadata": {},
   "source": [
    "<div class=\"alert alert-success\">\n",
    "✔️ Отличный выбор метода - info действительно показывает много информации о датафрейме. \n",
    "</div>"
   ]
  },
  {
   "cell_type": "markdown",
   "metadata": {
    "id": "TaQ2Iwbr_Zct"
   },
   "source": [
    "Итак, в таблице семь столбцов. Тип данных во всех столбцах — `object`.\n",
    "\n",
    "Согласно документации к данным:\n",
    "* `userID` — идентификатор пользователя;\n",
    "* `Track` — название трека;  \n",
    "* `artist` — имя исполнителя;\n",
    "* `genre` — название жанра;\n",
    "* `City` — город пользователя;\n",
    "* `time` — время начала прослушивания;\n",
    "* `Day` — день недели.\n",
    "\n",
    "В названиях колонок видны три нарушения стиля:\n",
    "1. Строчные буквы сочетаются с прописными.\n",
    "2. Встречаются пробелы.\n",
    "3. **Слова не разделены нижним подчеркиванием (snake_case).**\n",
    "\n",
    "\n",
    "\n",
    "Количество значений в столбцах различается. Значит, в данных есть пропущенные значения.\n"
   ]
  },
  {
   "cell_type": "markdown",
   "metadata": {},
   "source": [
    "<div class=\"alert alert-success\">\n",
    "✔️ Абсолютно правильный ответ на вопрос задания — не соблюден snake_case! \n",
    "</div>"
   ]
  },
  {
   "cell_type": "markdown",
   "metadata": {
    "id": "MCB6-dXG_Zct"
   },
   "source": [
    "**Выводы**\n",
    "\n",
    "В каждой строке таблицы — данные о прослушанном треке. Часть колонок описывает саму композицию: название, исполнителя и жанр. Остальные данные рассказывают о пользователе: из какого он города, когда он слушал музыку. \n",
    "\n",
    "Предварительно можно утверждать, что, данных достаточно для проверки гипотез. Но встречаются пропуски в данных, а в названиях колонок — расхождения с хорошим стилем.\n",
    "\n",
    "Чтобы двигаться дальше, нужно устранить проблемы в данных."
   ]
  },
  {
   "cell_type": "markdown",
   "metadata": {},
   "source": [
    "<div class=\"alert alert-success\">\n",
    "✔️ По шагу в целом могу сказать что код выполнен абсолютно верно.\n",
    "</div>"
   ]
  },
  {
   "cell_type": "markdown",
   "metadata": {
    "id": "SjYF6Ub9_Zct"
   },
   "source": [
    "## Предобработка данных\n",
    "Исправьте стиль в заголовках столбцов, исключите пропуски. Затем проверьте данные на дубликаты."
   ]
  },
  {
   "cell_type": "markdown",
   "metadata": {
    "id": "dIaKXr29_Zct"
   },
   "source": [
    "### Стиль заголовков\n",
    "Выведите на экран названия столбцов:"
   ]
  },
  {
   "cell_type": "code",
   "execution_count": 5,
   "metadata": {
    "id": "oKOTdF_Q_Zct"
   },
   "outputs": [
    {
     "name": "stdout",
     "output_type": "stream",
     "text": [
      "Index(['  userID', 'Track', 'artist', 'genre', '  City  ', 'time', 'Day'], dtype='object')\n"
     ]
    }
   ],
   "source": [
    "print(df.columns) # перечень названий столбцов таблицы df"
   ]
  },
  {
   "cell_type": "markdown",
   "metadata": {
    "id": "FPZA3ki8xe7T"
   },
   "source": [
    "**Тут был какой-то текст, но \"я куда-то нажала и всё исчезло\" ;( Command+Z не помог его вернуть обратно**"
   ]
  },
  {
   "cell_type": "markdown",
   "metadata": {},
   "source": [
    "<div class=\"alert alert-info\"> Так, ну вроде все на месте) так что все оки)"
   ]
  },
  {
   "cell_type": "markdown",
   "metadata": {
    "id": "zj5534cv_Zct"
   },
   "source": [
    "Приведите названия в соответствие с хорошим стилем:\n",
    "* несколько слов в названии запишите в «змеином_регистре»,\n",
    "* все символы сделайте строчными,\n",
    "* устраните пробелы.\n",
    "\n",
    "Для этого переименуйте колонки так:\n",
    "* `'  userID'` → `'user_id'`;\n",
    "* `'Track'` → `'track'`;\n",
    "* `'  City  '` → `'city'`;\n",
    "* `'Day'` → `'day'`."
   ]
  },
  {
   "cell_type": "code",
   "execution_count": 6,
   "metadata": {
    "id": "ISlFqs5y_Zct"
   },
   "outputs": [],
   "source": [
    "df = df.rename(\n",
    "    columns = {\n",
    "        '  userID': 'user_id',\n",
    "        'Track': 'track',\n",
    "        '  City  ': 'city',\n",
    "        'Day': 'day'\n",
    "    }\n",
    ")# переименование столбцов"
   ]
  },
  {
   "cell_type": "markdown",
   "metadata": {},
   "source": [
    "<div class=\"alert alert-success\">\n",
    "✔️ Хороший выбор метода - rename сработает без ошибок, даже если изменится порядок столбцов.\n",
    "</div>"
   ]
  },
  {
   "cell_type": "markdown",
   "metadata": {
    "id": "1dqbh00J_Zct"
   },
   "source": [
    "Проверьте результат. Для этого ещё раз выведите на экран названия столбцов:"
   ]
  },
  {
   "cell_type": "code",
   "execution_count": 7,
   "metadata": {
    "id": "d4NOAmTW_Zct"
   },
   "outputs": [
    {
     "name": "stdout",
     "output_type": "stream",
     "text": [
      "Index(['user_id', 'track', 'artist', 'genre', 'city', 'time', 'day'], dtype='object')\n"
     ]
    }
   ],
   "source": [
    "print(df.columns)# проверка результатов - перечень названий столбцов"
   ]
  },
  {
   "cell_type": "markdown",
   "metadata": {
    "id": "5ISfbcfY_Zct"
   },
   "source": [
    "### Пропуски значений\n",
    "Сначала посчитайте, сколько в таблице пропущенных значений. Для этого достаточно двух методов `pandas`:"
   ]
  },
  {
   "cell_type": "code",
   "execution_count": 8,
   "metadata": {
    "id": "RskX29qr_Zct"
   },
   "outputs": [
    {
     "data": {
      "text/plain": [
       "user_id       0\n",
       "track      1231\n",
       "artist     7203\n",
       "genre      1198\n",
       "city          0\n",
       "time          0\n",
       "day           0\n",
       "dtype: int64"
      ]
     },
     "execution_count": 8,
     "metadata": {},
     "output_type": "execute_result"
    }
   ],
   "source": [
    "df.isna().sum()# подсчёт пропусков"
   ]
  },
  {
   "cell_type": "markdown",
   "metadata": {},
   "source": [
    "<div class=\"alert alert-success\">\n",
    "✔️ Выбран метод isna() для нахождения пропущенных значений, это отлично! На самом деле, isnull() и isna() делают одно и то же, но использование isna() предпочтительнее.\n",
    "</div>"
   ]
  },
  {
   "cell_type": "markdown",
   "metadata": {
    "id": "qubhgnlO_Zct"
   },
   "source": [
    "Не все пропущенные значения влияют на исследование. Так в `track` и `artist` пропуски не важны для вашей работы. Достаточно заменить их явными обозначениями.\n",
    "\n",
    "Но пропуски в `genre` могут помешать сравнению музыкальных вкусов в Москве и Санкт-Петербурге. На практике было бы правильно установить причину пропусков и восстановить данные. Такой возможности нет в учебном проекте. Придётся:\n",
    "* заполнить и эти пропуски явными обозначениями,\n",
    "* оценить, насколько они повредят расчётам. "
   ]
  },
  {
   "cell_type": "markdown",
   "metadata": {
    "id": "fSv2laPA_Zct"
   },
   "source": [
    "Замените пропущенные значения в столбцах `track`, `artist` и `genre` на строку `'unknown'`. Для этого создайте список `columns_to_replace`, переберите его элементы циклом `for` и для каждого столбца выполните замену пропущенных значений: \n",
    "\n",
    "**не смогла справиться с циклом, надо переписать код, но я не понимаю как. Поэтому написала строчки для кадого столбца**\n",
    "`Комментарий Ольги: привет! Нам не нужно в функции прописывать колонки. Мы указали column. Значит в функции пишем название нашей таблицы[column] = название нашей таблицы[column].fillna('unknown')`"
   ]
  },
  {
   "cell_type": "code",
   "execution_count": 9,
   "metadata": {
    "id": "KplB5qWs_Zct"
   },
   "outputs": [],
   "source": [
    "columns_to_replace = ['track','artist','genre']\n",
    "for column in columns_to_replace:\n",
    "    df[column] = df[column].fillna('unknown')\n",
    "    \n",
    "# перебор названий столбцов в цикле и замена пропущенных значений на 'unknown'"
   ]
  },
  {
   "cell_type": "markdown",
   "metadata": {},
   "source": [
    "<div class=\"alert alert-success\">\n",
    "✔️❌ Тут закомментированный код верен, кроме однного места. Там где уже заполняются пропуски в теле цикла нужно указать «название нашей таблицы» это про df, а не columns_to_replace (это список просто названий). То есть мы каждую итерацию цикла берем по одной колонке в нашем датасете и заполняем пропуски. Надеюсь понятненько расписала)"
   ]
  },
  {
   "cell_type": "markdown",
   "metadata": {},
   "source": [
    "🐥 **Я исправила код, но все равно происходит KeyError, поэтому я его закомментила снова. Не понимаю в чем проблема 😭**"
   ]
  },
  {
   "cell_type": "markdown",
   "metadata": {},
   "source": [
    "<div class=\"alert alert-success\">\n",
    "✔️❌ Тут в общем дело в том, что в columns_to_replace получается не список с названиями колонок, а будто сами колонки, но код не рабочий, поэтому не дает это сделать. В общем тут нужно в columns_to_replace просто список названий, без df, и цикл будет перебирать эти названия и сам подставлять уже в теле цикла к df и будет работа в колонках) сори, если так и было в прошлый раз, не заметила этот моментик!"
   ]
  },
  {
   "cell_type": "markdown",
   "metadata": {},
   "source": [
    "🐥 **Исправила, вроде теперь все работает. Спасибо за комментарий, стало понятно!**"
   ]
  },
  {
   "cell_type": "markdown",
   "metadata": {},
   "source": [
    "<div class=\"alert alert-success\">\n",
    "<b>Комментарий ревьюера v3</b>    <br>\n",
    "✔️ Да, верно) я рада что все получилось! "
   ]
  },
  {
   "cell_type": "markdown",
   "metadata": {
    "id": "Ilsm-MZo_Zct"
   },
   "source": [
    "Убедитесь, что в таблице не осталось пропусков. Для этого ещё раз посчитайте пропущенные значения."
   ]
  },
  {
   "cell_type": "code",
   "execution_count": 10,
   "metadata": {
    "id": "Tq4nYRX4_Zct"
   },
   "outputs": [
    {
     "data": {
      "text/plain": [
       "user_id    0\n",
       "track      0\n",
       "artist     0\n",
       "genre      0\n",
       "city       0\n",
       "time       0\n",
       "day        0\n",
       "dtype: int64"
      ]
     },
     "execution_count": 10,
     "metadata": {},
     "output_type": "execute_result"
    }
   ],
   "source": [
    "df.isna().sum()# подсчёт пропусков"
   ]
  },
  {
   "cell_type": "markdown",
   "metadata": {
    "id": "BWKRtBJ3_Zct"
   },
   "source": [
    "### Дубликаты\n",
    "Посчитайте явные дубликаты в таблице одной командой:"
   ]
  },
  {
   "cell_type": "code",
   "execution_count": 11,
   "metadata": {
    "id": "36eES_S0_Zct"
   },
   "outputs": [
    {
     "data": {
      "text/plain": [
       "3826"
      ]
     },
     "execution_count": 11,
     "metadata": {},
     "output_type": "execute_result"
    }
   ],
   "source": [
    "df.duplicated().sum()# подсчёт явных дубликатов"
   ]
  },
  {
   "cell_type": "markdown",
   "metadata": {},
   "source": [
    "<div class=\"alert alert-success\">\n",
    "✔️ Дубликаты верно найдены и посчитаны оптимальными методами.\n",
    "</div>"
   ]
  },
  {
   "cell_type": "markdown",
   "metadata": {
    "id": "Ot25h6XR_Zct"
   },
   "source": [
    "Вызовите специальный метод `pandas`, чтобы удалить явные дубликаты:"
   ]
  },
  {
   "cell_type": "code",
   "execution_count": 12,
   "metadata": {
    "id": "exFHq6tt_Zct"
   },
   "outputs": [],
   "source": [
    "df = df.drop_duplicates().reset_index() # удаление явных дубликатов (с удалением старых индексов и формированием новых)"
   ]
  },
  {
   "cell_type": "markdown",
   "metadata": {},
   "source": [
    "<div class=\"alert alert-success\">\n",
    "✔️ Дубликаты удалены верными методами с верным параметром.\n",
    "</div>"
   ]
  },
  {
   "cell_type": "markdown",
   "metadata": {
    "id": "Im2YwBEG_Zct"
   },
   "source": [
    "Ещё раз посчитайте явные дубликаты в таблице — убедитесь, что полностью от них избавились:"
   ]
  },
  {
   "cell_type": "code",
   "execution_count": 13,
   "metadata": {
    "id": "-8PuNWQ0_Zct"
   },
   "outputs": [
    {
     "data": {
      "text/plain": [
       "0"
      ]
     },
     "execution_count": 13,
     "metadata": {},
     "output_type": "execute_result"
    }
   ],
   "source": [
    "df.duplicated().sum()# проверка на отсутствие дубликатов"
   ]
  },
  {
   "cell_type": "markdown",
   "metadata": {
    "id": "QlFBsxAr_Zct"
   },
   "source": [
    "Теперь избавьтесь от неявных дубликатов в колонке `genre`. Например, название одного и того же жанра может быть записано немного по-разному. Такие ошибки тоже повлияют на результат исследования."
   ]
  },
  {
   "cell_type": "markdown",
   "metadata": {
    "id": "eSjWwsOh_Zct"
   },
   "source": [
    "Выведите на экран список уникальных названий жанров, отсортированный в алфавитном порядке. Для этого:\n",
    "* извлеките нужный столбец датафрейма, \n",
    "* примените к нему метод сортировки,\n",
    "* для отсортированного столбца вызовите метод, который вернёт уникальные значения из столбца."
   ]
  },
  {
   "cell_type": "code",
   "execution_count": 14,
   "metadata": {
    "id": "JIUcqzZN_Zct"
   },
   "outputs": [
    {
     "data": {
      "text/plain": [
       "array(['acid', 'acoustic', 'action', 'adult', 'africa', 'afrikaans',\n",
       "       'alternative', 'alternativepunk', 'ambient', 'americana',\n",
       "       'animated', 'anime', 'arabesk', 'arabic', 'arena',\n",
       "       'argentinetango', 'art', 'audiobook', 'author', 'avantgarde',\n",
       "       'axé', 'baile', 'balkan', 'beats', 'bigroom', 'black', 'bluegrass',\n",
       "       'blues', 'bollywood', 'bossa', 'brazilian', 'breakbeat', 'breaks',\n",
       "       'broadway', 'cantautori', 'cantopop', 'canzone', 'caribbean',\n",
       "       'caucasian', 'celtic', 'chamber', 'chanson', 'children', 'chill',\n",
       "       'chinese', 'choral', 'christian', 'christmas', 'classical',\n",
       "       'classicmetal', 'club', 'colombian', 'comedy', 'conjazz',\n",
       "       'contemporary', 'country', 'cuban', 'dance', 'dancehall',\n",
       "       'dancepop', 'dark', 'death', 'deep', 'deutschrock', 'deutschspr',\n",
       "       'dirty', 'disco', 'dnb', 'documentary', 'downbeat', 'downtempo',\n",
       "       'drum', 'dub', 'dubstep', 'eastern', 'easy', 'electronic',\n",
       "       'electropop', 'emo', 'entehno', 'epicmetal', 'estrada', 'ethnic',\n",
       "       'eurofolk', 'european', 'experimental', 'extrememetal', 'fado',\n",
       "       'fairytail', 'film', 'fitness', 'flamenco', 'folk', 'folklore',\n",
       "       'folkmetal', 'folkrock', 'folktronica', 'forró', 'frankreich',\n",
       "       'französisch', 'french', 'funk', 'future', 'gangsta', 'garage',\n",
       "       'german', 'ghazal', 'gitarre', 'glitch', 'gospel', 'gothic',\n",
       "       'grime', 'grunge', 'gypsy', 'handsup', \"hard'n'heavy\", 'hardcore',\n",
       "       'hardstyle', 'hardtechno', 'hip', 'hip-hop', 'hiphop',\n",
       "       'historisch', 'holiday', 'hop', 'horror', 'house', 'hymn', 'idm',\n",
       "       'independent', 'indian', 'indie', 'indipop', 'industrial',\n",
       "       'inspirational', 'instrumental', 'international', 'irish', 'jam',\n",
       "       'japanese', 'jazz', 'jewish', 'jpop', 'jungle', 'k-pop',\n",
       "       'karadeniz', 'karaoke', 'kayokyoku', 'korean', 'laiko', 'latin',\n",
       "       'latino', 'leftfield', 'local', 'lounge', 'loungeelectronic',\n",
       "       'lovers', 'malaysian', 'mandopop', 'marschmusik', 'meditative',\n",
       "       'mediterranean', 'melodic', 'metal', 'metalcore', 'mexican',\n",
       "       'middle', 'minimal', 'miscellaneous', 'modern', 'mood', 'mpb',\n",
       "       'muslim', 'native', 'neoklassik', 'neue', 'new', 'newage',\n",
       "       'newwave', 'nu', 'nujazz', 'numetal', 'oceania', 'old', 'opera',\n",
       "       'orchestral', 'other', 'piano', 'podcasts', 'pop', 'popdance',\n",
       "       'popelectronic', 'popeurodance', 'poprussian', 'post',\n",
       "       'posthardcore', 'postrock', 'power', 'progmetal', 'progressive',\n",
       "       'psychedelic', 'punjabi', 'punk', 'quebecois', 'ragga', 'ram',\n",
       "       'rancheras', 'rap', 'rave', 'reggae', 'reggaeton', 'regional',\n",
       "       'relax', 'religious', 'retro', 'rhythm', 'rnb', 'rnr', 'rock',\n",
       "       'rockabilly', 'rockalternative', 'rockindie', 'rockother',\n",
       "       'romance', 'roots', 'ruspop', 'rusrap', 'rusrock', 'russian',\n",
       "       'salsa', 'samba', 'scenic', 'schlager', 'self', 'sertanejo',\n",
       "       'shanson', 'shoegazing', 'showtunes', 'singer', 'ska', 'skarock',\n",
       "       'slow', 'smooth', 'soft', 'soul', 'soulful', 'sound', 'soundtrack',\n",
       "       'southern', 'specialty', 'speech', 'spiritual', 'sport',\n",
       "       'stonerrock', 'surf', 'swing', 'synthpop', 'synthrock',\n",
       "       'sängerportrait', 'tango', 'tanzorchester', 'taraftar', 'tatar',\n",
       "       'tech', 'techno', 'teen', 'thrash', 'top', 'traditional',\n",
       "       'tradjazz', 'trance', 'tribal', 'trip', 'triphop', 'tropical',\n",
       "       'türk', 'türkçe', 'ukrrock', 'unknown', 'urban', 'uzbek',\n",
       "       'variété', 'vi', 'videogame', 'vocal', 'western', 'world',\n",
       "       'worldbeat', 'ïîï', 'электроника'], dtype=object)"
      ]
     },
     "execution_count": 14,
     "metadata": {},
     "output_type": "execute_result"
    }
   ],
   "source": [
    "df['genre'].sort_values().unique()\n",
    "# Просмотр уникальных названий жанров"
   ]
  },
  {
   "cell_type": "markdown",
   "metadata": {
    "id": "qej-Qmuo_Zct"
   },
   "source": [
    "Просмотрите список и найдите неявные дубликаты названия `hiphop`. Это могут быть названия с ошибками или альтернативные названия того же жанра.\n",
    "\n",
    "Вы увидите следующие неявные дубликаты:\n",
    "* *hip*,\n",
    "* *hop*,\n",
    "* *hip-hop*.\n",
    "\n",
    "Чтобы очистить от них таблицу, напишите функцию `replace_wrong_genres()` с двумя параметрами: \n",
    "* `wrong_genres` — список дубликатов,\n",
    "* `correct_genre` — строка с правильным значением.\n",
    "\n",
    "Функция должна исправить колонку `genre` в таблице `df`: заменить каждое значение из списка `wrong_genres` на значение из `correct_genre`."
   ]
  },
  {
   "cell_type": "code",
   "execution_count": 15,
   "metadata": {
    "id": "ErNDkmns_Zct"
   },
   "outputs": [],
   "source": [
    "def replace_wrong_genres(wrong_genres, correct_genre):\n",
    "    for wrong_genre in wrong_genres:\n",
    "        df['genre'] = df['genre'].replace(wrong_genre, correct_genre)\n",
    "# Функция для замены неявных дубликатов"
   ]
  },
  {
   "cell_type": "markdown",
   "metadata": {},
   "source": [
    "<div class=\"alert alert-warning\"> \n",
    "⚠️ Функция сработала, но допущена небольшая ошбика ошибка. В цикле перебирается wrong_genre, а у replace первый аргумент wrong_genres, с лишним с на конце. То есть туда вставляется весь список wrong_genres столько раз, сколько элементов в этом списке. А нужно вставлять то значение, которое мы перебираем в цикле)"
   ]
  },
  {
   "cell_type": "markdown",
   "metadata": {},
   "source": [
    "🐥 **Исправила имя первого аргумента**"
   ]
  },
  {
   "cell_type": "markdown",
   "metadata": {
    "id": "aDoBJxbA_Zct"
   },
   "source": [
    "Вызовите `replace_wrong_genres()` и передайте ей такие аргументы, чтобы она устранила неявные дубликаты: вместо `hip`, `hop` и `hip-hop` в таблице должно быть значение `hiphop`:"
   ]
  },
  {
   "cell_type": "code",
   "execution_count": 16,
   "metadata": {
    "id": "YN5i2hpmSo09"
   },
   "outputs": [],
   "source": [
    "duplicats = ['hip', 'hop', 'hip-hop']\n",
    "genre = 'hiphop'\n",
    "replace_wrong_genres(duplicats, genre)# Устранение неявных дубликатов"
   ]
  },
  {
   "cell_type": "markdown",
   "metadata": {
    "id": "zQKF16_RG15m"
   },
   "source": [
    "Проверьте, что заменили неправильные названия:\n",
    "\n",
    "*   hip\n",
    "*   hop\n",
    "*   hip-hop\n",
    "\n",
    "Выведите отсортированный список уникальных значений столбца `genre`:"
   ]
  },
  {
   "cell_type": "code",
   "execution_count": 17,
   "metadata": {
    "id": "wvixALnFG15m"
   },
   "outputs": [
    {
     "data": {
      "text/plain": [
       "array(['acid', 'acoustic', 'action', 'adult', 'africa', 'afrikaans',\n",
       "       'alternative', 'alternativepunk', 'ambient', 'americana',\n",
       "       'animated', 'anime', 'arabesk', 'arabic', 'arena',\n",
       "       'argentinetango', 'art', 'audiobook', 'author', 'avantgarde',\n",
       "       'axé', 'baile', 'balkan', 'beats', 'bigroom', 'black', 'bluegrass',\n",
       "       'blues', 'bollywood', 'bossa', 'brazilian', 'breakbeat', 'breaks',\n",
       "       'broadway', 'cantautori', 'cantopop', 'canzone', 'caribbean',\n",
       "       'caucasian', 'celtic', 'chamber', 'chanson', 'children', 'chill',\n",
       "       'chinese', 'choral', 'christian', 'christmas', 'classical',\n",
       "       'classicmetal', 'club', 'colombian', 'comedy', 'conjazz',\n",
       "       'contemporary', 'country', 'cuban', 'dance', 'dancehall',\n",
       "       'dancepop', 'dark', 'death', 'deep', 'deutschrock', 'deutschspr',\n",
       "       'dirty', 'disco', 'dnb', 'documentary', 'downbeat', 'downtempo',\n",
       "       'drum', 'dub', 'dubstep', 'eastern', 'easy', 'electronic',\n",
       "       'electropop', 'emo', 'entehno', 'epicmetal', 'estrada', 'ethnic',\n",
       "       'eurofolk', 'european', 'experimental', 'extrememetal', 'fado',\n",
       "       'fairytail', 'film', 'fitness', 'flamenco', 'folk', 'folklore',\n",
       "       'folkmetal', 'folkrock', 'folktronica', 'forró', 'frankreich',\n",
       "       'französisch', 'french', 'funk', 'future', 'gangsta', 'garage',\n",
       "       'german', 'ghazal', 'gitarre', 'glitch', 'gospel', 'gothic',\n",
       "       'grime', 'grunge', 'gypsy', 'handsup', \"hard'n'heavy\", 'hardcore',\n",
       "       'hardstyle', 'hardtechno', 'hiphop', 'historisch', 'holiday',\n",
       "       'horror', 'house', 'hymn', 'idm', 'independent', 'indian', 'indie',\n",
       "       'indipop', 'industrial', 'inspirational', 'instrumental',\n",
       "       'international', 'irish', 'jam', 'japanese', 'jazz', 'jewish',\n",
       "       'jpop', 'jungle', 'k-pop', 'karadeniz', 'karaoke', 'kayokyoku',\n",
       "       'korean', 'laiko', 'latin', 'latino', 'leftfield', 'local',\n",
       "       'lounge', 'loungeelectronic', 'lovers', 'malaysian', 'mandopop',\n",
       "       'marschmusik', 'meditative', 'mediterranean', 'melodic', 'metal',\n",
       "       'metalcore', 'mexican', 'middle', 'minimal', 'miscellaneous',\n",
       "       'modern', 'mood', 'mpb', 'muslim', 'native', 'neoklassik', 'neue',\n",
       "       'new', 'newage', 'newwave', 'nu', 'nujazz', 'numetal', 'oceania',\n",
       "       'old', 'opera', 'orchestral', 'other', 'piano', 'podcasts', 'pop',\n",
       "       'popdance', 'popelectronic', 'popeurodance', 'poprussian', 'post',\n",
       "       'posthardcore', 'postrock', 'power', 'progmetal', 'progressive',\n",
       "       'psychedelic', 'punjabi', 'punk', 'quebecois', 'ragga', 'ram',\n",
       "       'rancheras', 'rap', 'rave', 'reggae', 'reggaeton', 'regional',\n",
       "       'relax', 'religious', 'retro', 'rhythm', 'rnb', 'rnr', 'rock',\n",
       "       'rockabilly', 'rockalternative', 'rockindie', 'rockother',\n",
       "       'romance', 'roots', 'ruspop', 'rusrap', 'rusrock', 'russian',\n",
       "       'salsa', 'samba', 'scenic', 'schlager', 'self', 'sertanejo',\n",
       "       'shanson', 'shoegazing', 'showtunes', 'singer', 'ska', 'skarock',\n",
       "       'slow', 'smooth', 'soft', 'soul', 'soulful', 'sound', 'soundtrack',\n",
       "       'southern', 'specialty', 'speech', 'spiritual', 'sport',\n",
       "       'stonerrock', 'surf', 'swing', 'synthpop', 'synthrock',\n",
       "       'sängerportrait', 'tango', 'tanzorchester', 'taraftar', 'tatar',\n",
       "       'tech', 'techno', 'teen', 'thrash', 'top', 'traditional',\n",
       "       'tradjazz', 'trance', 'tribal', 'trip', 'triphop', 'tropical',\n",
       "       'türk', 'türkçe', 'ukrrock', 'unknown', 'urban', 'uzbek',\n",
       "       'variété', 'vi', 'videogame', 'vocal', 'western', 'world',\n",
       "       'worldbeat', 'ïîï', 'электроника'], dtype=object)"
      ]
     },
     "execution_count": 17,
     "metadata": {},
     "output_type": "execute_result"
    }
   ],
   "source": [
    "df['genre'].sort_values().unique()# Проверка на неявные дубликаты"
   ]
  },
  {
   "cell_type": "markdown",
   "metadata": {
    "id": "jz6a9-7HQUDd"
   },
   "source": [
    "**Выводы**\n",
    "\n",
    "Предобработка обнаружила три проблемы в данных:\n",
    "\n",
    "- нарушения в стиле заголовков,\n",
    "- пропущенные значения,\n",
    "- дубликаты — явные и неявные.\n",
    "\n",
    "Вы исправили заголовки, чтобы упростить работу с таблицей. Без дубликатов исследование станет более точным.\n",
    "\n",
    "Пропущенные значения вы заменили на `'unknown'`. Ещё предстоит увидеть, не повредят ли исследованию пропуски в колонке `genre`.\n",
    "\n",
    "Теперь можно перейти к проверке гипотез. "
   ]
  },
  {
   "cell_type": "markdown",
   "metadata": {},
   "source": [
    "<div class=\"alert alert-success\">\n",
    "✔️ По шагу в целом вижу, что ты хорошо владеешь методами и пишешь функции\n",
    "</div>"
   ]
  },
  {
   "cell_type": "markdown",
   "metadata": {
    "id": "WttZHXH0SqKk"
   },
   "source": [
    "## Проверка гипотез"
   ]
  },
  {
   "cell_type": "markdown",
   "metadata": {
    "id": "Im936VVi_Zcu"
   },
   "source": [
    "### Сравнение поведения пользователей двух столиц"
   ]
  },
  {
   "cell_type": "markdown",
   "metadata": {
    "id": "nwt_MuaL_Zcu"
   },
   "source": [
    "Первая гипотеза утверждает, что пользователи по-разному слушают музыку в Москве и Санкт-Петербурге. Проверьте это предположение по данным о трёх днях недели — понедельнике, среде и пятнице. Для этого:\n",
    "\n",
    "* Разделите пользователей Москвы и Санкт-Петербурга\n",
    "* Сравните, сколько треков послушала каждая группа пользователей в понедельник, среду и пятницу.\n"
   ]
  },
  {
   "cell_type": "markdown",
   "metadata": {
    "id": "8Dw_YMmT_Zcu"
   },
   "source": [
    "Для тренировки сначала выполните каждый из расчётов по отдельности. \n",
    "\n",
    "Оцените активность пользователей в каждом городе. Сгруппируйте данные по городу и посчитайте прослушивания в каждой группе.\n",
    "\n"
   ]
  },
  {
   "cell_type": "code",
   "execution_count": 18,
   "metadata": {
    "id": "0_Qs96oh_Zcu"
   },
   "outputs": [
    {
     "data": {
      "text/plain": [
       "city\n",
       "Moscow              42741\n",
       "Saint-Petersburg    18512\n",
       "Name: time, dtype: int64"
      ]
     },
     "execution_count": 18,
     "metadata": {},
     "output_type": "execute_result"
    }
   ],
   "source": [
    "df.groupby('city')['time'].count()# Подсчёт прослушиваний в каждом городе"
   ]
  },
  {
   "cell_type": "markdown",
   "metadata": {
    "id": "dzli3w8o_Zcu"
   },
   "source": [
    "В Москве прослушиваний больше, чем в Петербурге. Из этого не следует, что московские пользователи чаще слушают музыку. Просто самих пользователей в Москве больше.\n",
    "\n",
    "Теперь сгруппируйте данные по дню недели и подсчитайте прослушивания в понедельник, среду и пятницу. Учтите, что в данных есть информация о прослушиваниях только за эти дни.\n"
   ]
  },
  {
   "cell_type": "code",
   "execution_count": 19,
   "metadata": {
    "id": "uZMKjiJz_Zcu"
   },
   "outputs": [
    {
     "data": {
      "text/plain": [
       "day\n",
       "Friday       21840\n",
       "Monday       21354\n",
       "Wednesday    18059\n",
       "Name: time, dtype: int64"
      ]
     },
     "execution_count": 19,
     "metadata": {},
     "output_type": "execute_result"
    }
   ],
   "source": [
    "df.groupby('day')['time'].count()# Подсчёт прослушиваний в каждый из трёх дней"
   ]
  },
  {
   "cell_type": "markdown",
   "metadata": {
    "id": "cC2tNrlL_Zcu"
   },
   "source": [
    "В среднем пользователи из двух городов менее активны по средам. Но картина может измениться, если рассмотреть каждый город в отдельности."
   ]
  },
  {
   "cell_type": "markdown",
   "metadata": {
    "id": "POzs8bGa_Zcu"
   },
   "source": [
    "Вы видели, как работает группировка по городу и по дням недели. Теперь напишите функцию, которая объединит два эти расчёта.\n",
    "\n",
    "Создайте функцию `number_tracks()`, которая посчитает прослушивания для заданного дня и города. Ей понадобятся два параметра:\n",
    "* день недели,\n",
    "* название города.\n",
    "\n",
    "В функции сохраните в переменную строки исходной таблицы, у которых значение:\n",
    "  * в колонке `day` равно параметру `day`,\n",
    "  * в колонке `city` равно параметру `city`.\n",
    "\n",
    "Для этого примените последовательную фильтрацию с логической индексацией.\n",
    "\n",
    "Затем посчитайте значения в столбце `user_id` получившейся таблицы. Результат сохраните в новую переменную. Верните эту переменную из функции."
   ]
  },
  {
   "cell_type": "code",
   "execution_count": 20,
   "metadata": {
    "id": "Nz3GdQB1_Zcu"
   },
   "outputs": [],
   "source": [
    "# <создание функции number_tracks()>\n",
    "def number_tracks(day, city):\n",
    "    track_list = df[(df['day'] == day) & (df['city'] == city)]\n",
    "    track_list_count = track_list['user_id'].count()\n",
    "    return track_list_count \n",
    "# Объявляется функция с двумя параметрами: day, city.\n",
    "# В переменной track_list сохраняются те строки таблицы df, для которых \n",
    "# значение в столбце 'day' равно параметру day и одновременно значение\n",
    "# в столбце 'city' равно параметру city (используйте последовательную фильтрацию\n",
    "# с помощью логической индексации).\n",
    "# В переменной track_list_count сохраняется число значений столбца 'user_id',\n",
    "# рассчитанное методом count() для таблицы track_list.\n",
    "# Функция возвращает число - значение track_list_count.\n",
    "\n",
    "# Функция для подсчёта прослушиваний для конкретного города и дня.\n",
    "# С помощью последовательной фильтрации с логической индексацией она \n",
    "# сначала получит из исходной таблицы строки с нужным днём,\n",
    "# затем из результата отфильтрует строки с нужным городом,\n",
    "# методом count() посчитает количество значений в колонке user_id. \n",
    "# Это количество функция вернёт в качестве результата"
   ]
  },
  {
   "cell_type": "markdown",
   "metadata": {},
   "source": [
    "<div class=\"alert alert-success\">\n",
    "✔️ Твоя функция полностью выполняет свои задачи\n",
    "</div>"
   ]
  },
  {
   "cell_type": "markdown",
   "metadata": {
    "id": "ytf7xFrFJQ2r"
   },
   "source": [
    "Вызовите `number_tracks()` шесть раз, меняя значение параметров — так, чтобы получить данные для каждого города в каждый из трёх дней."
   ]
  },
  {
   "cell_type": "code",
   "execution_count": 21,
   "metadata": {
    "id": "rJcRATNQ_Zcu"
   },
   "outputs": [
    {
     "data": {
      "text/plain": [
       "15740"
      ]
     },
     "execution_count": 21,
     "metadata": {},
     "output_type": "execute_result"
    }
   ],
   "source": [
    "number_tracks('Monday', 'Moscow')# количество прослушиваний в Москве по понедельникам"
   ]
  },
  {
   "cell_type": "code",
   "execution_count": 22,
   "metadata": {
    "id": "hq_ncZ5T_Zcu"
   },
   "outputs": [
    {
     "data": {
      "text/plain": [
       "5614"
      ]
     },
     "execution_count": 22,
     "metadata": {},
     "output_type": "execute_result"
    }
   ],
   "source": [
    "number_tracks('Monday', 'Saint-Petersburg')# количество прослушиваний в Санкт-Петербурге по понедельникам"
   ]
  },
  {
   "cell_type": "code",
   "execution_count": 23,
   "metadata": {
    "id": "_NTy2VPU_Zcu"
   },
   "outputs": [
    {
     "data": {
      "text/plain": [
       "11056"
      ]
     },
     "execution_count": 23,
     "metadata": {},
     "output_type": "execute_result"
    }
   ],
   "source": [
    "number_tracks('Wednesday','Moscow')# количество прослушиваний в Москве по средам"
   ]
  },
  {
   "cell_type": "code",
   "execution_count": 24,
   "metadata": {
    "id": "j2y3TAwo_Zcu"
   },
   "outputs": [
    {
     "data": {
      "text/plain": [
       "7003"
      ]
     },
     "execution_count": 24,
     "metadata": {},
     "output_type": "execute_result"
    }
   ],
   "source": [
    "number_tracks('Wednesday', 'Saint-Petersburg')# количество прослушиваний в Санкт-Петербурге по средам"
   ]
  },
  {
   "cell_type": "code",
   "execution_count": 25,
   "metadata": {
    "id": "vYDw5u_K_Zcu"
   },
   "outputs": [
    {
     "data": {
      "text/plain": [
       "15945"
      ]
     },
     "execution_count": 25,
     "metadata": {},
     "output_type": "execute_result"
    }
   ],
   "source": [
    "number_tracks('Friday','Moscow')# количество прослушиваний в Москве по пятницам"
   ]
  },
  {
   "cell_type": "code",
   "execution_count": 26,
   "metadata": {
    "id": "8_yzFtW3_Zcu"
   },
   "outputs": [
    {
     "data": {
      "text/plain": [
       "5895"
      ]
     },
     "execution_count": 26,
     "metadata": {},
     "output_type": "execute_result"
    }
   ],
   "source": [
    "number_tracks('Friday','Saint-Petersburg')# количество прослушиваний в Санкт-Петербурге по пятницам"
   ]
  },
  {
   "cell_type": "markdown",
   "metadata": {
    "id": "7QXffbO-_Zcu"
   },
   "source": [
    "Создайте c помощью конструктора `pd.DataFrame` таблицу, где\n",
    "* названия колонок — `['city', 'monday', 'wednesday', 'friday']`;\n",
    "* данные — результаты, которые вы получили с помощью `number_tracks`."
   ]
  },
  {
   "cell_type": "code",
   "execution_count": 27,
   "metadata": {
    "id": "APAcLpOr_Zcu"
   },
   "outputs": [
    {
     "data": {
      "text/html": [
       "<div>\n",
       "<style scoped>\n",
       "    .dataframe tbody tr th:only-of-type {\n",
       "        vertical-align: middle;\n",
       "    }\n",
       "\n",
       "    .dataframe tbody tr th {\n",
       "        vertical-align: top;\n",
       "    }\n",
       "\n",
       "    .dataframe thead th {\n",
       "        text-align: right;\n",
       "    }\n",
       "</style>\n",
       "<table border=\"1\" class=\"dataframe\">\n",
       "  <thead>\n",
       "    <tr style=\"text-align: right;\">\n",
       "      <th></th>\n",
       "      <th>city</th>\n",
       "      <th>monday</th>\n",
       "      <th>wednesday</th>\n",
       "      <th>friday</th>\n",
       "    </tr>\n",
       "  </thead>\n",
       "  <tbody>\n",
       "    <tr>\n",
       "      <th>0</th>\n",
       "      <td>Moscow</td>\n",
       "      <td>15740</td>\n",
       "      <td>11056</td>\n",
       "      <td>15945</td>\n",
       "    </tr>\n",
       "    <tr>\n",
       "      <th>1</th>\n",
       "      <td>Saint-Petersburg</td>\n",
       "      <td>5614</td>\n",
       "      <td>7003</td>\n",
       "      <td>5895</td>\n",
       "    </tr>\n",
       "  </tbody>\n",
       "</table>\n",
       "</div>"
      ],
      "text/plain": [
       "               city  monday  wednesday  friday\n",
       "0            Moscow   15740      11056   15945\n",
       "1  Saint-Petersburg    5614       7003    5895"
      ]
     },
     "metadata": {},
     "output_type": "display_data"
    }
   ],
   "source": [
    "columns = ['city', 'monday', 'wednesday', 'friday']\n",
    "data = [\n",
    "    ['Moscow', 15740, 11056, 15945],\n",
    "    ['Saint-Petersburg', 5614, 7003, 5895]\n",
    "]\n",
    "user_behavior = pd.DataFrame(data=data, columns=columns)\n",
    "display(user_behavior)# Таблица с результатами"
   ]
  },
  {
   "cell_type": "markdown",
   "metadata": {},
   "source": [
    "<div class=\"alert alert-success\">\n",
    "✔️ Таблица создана верно\n",
    "</div>"
   ]
  },
  {
   "cell_type": "markdown",
   "metadata": {
    "id": "-EgPIHYu_Zcu"
   },
   "source": [
    "**Выводы**\n",
    "\n",
    "Данные показывают разницу поведения пользователей:\n",
    "\n",
    "- В Москве пик прослушиваний приходится на понедельник и пятницу, а в среду заметен спад.\n",
    "- В Петербурге, наоборот, больше слушают музыку по средам. Активность в понедельник и пятницу здесь почти в равной мере уступает среде.\n",
    "\n",
    "Значит, данные говорят в пользу первой гипотезы."
   ]
  },
  {
   "cell_type": "markdown",
   "metadata": {
    "id": "atZAxtq4_Zcu"
   },
   "source": [
    "### Музыка в начале и в конце недели"
   ]
  },
  {
   "cell_type": "markdown",
   "metadata": {
    "id": "eXrQqXFH_Zcu"
   },
   "source": [
    "Согласно второй гипотезе, утром в понедельник в Москве преобладают одни жанры, а в Петербурге — другие. Так же и вечером пятницы преобладают разные жанры — в зависимости от города."
   ]
  },
  {
   "cell_type": "markdown",
   "metadata": {
    "id": "S8UcW6Hw_Zcu"
   },
   "source": [
    "Сохраните таблицы с данными в две переменные:\n",
    "* по Москве — в `moscow_general`;\n",
    "* по Санкт-Петербургу — в `spb_general`."
   ]
  },
  {
   "cell_type": "code",
   "execution_count": 28,
   "metadata": {
    "id": "qeaFfM_P_Zcu"
   },
   "outputs": [],
   "source": [
    "moscow_general = df[df['city'] == 'Moscow']# получение таблицы moscow_general из тех строк таблицы df, \n",
    "# для которых значение в столбце 'city' равно 'Moscow'"
   ]
  },
  {
   "cell_type": "code",
   "execution_count": 29,
   "metadata": {
    "id": "ORaVRKto_Zcu"
   },
   "outputs": [],
   "source": [
    "spb_general = df[df['city'] == 'Saint-Petersburg']# получение таблицы spb_general из тех строк таблицы df,\n",
    "# для которых значение в столбце 'city' равно 'Saint-Petersburg'"
   ]
  },
  {
   "cell_type": "markdown",
   "metadata": {
    "id": "MEJV-CX2_Zcu"
   },
   "source": [
    "Создайте функцию `genre_weekday()` с четырьмя параметрами:\n",
    "* таблица (датафрейм) с данными,\n",
    "* день недели,\n",
    "* начальная временная метка в формате 'hh:mm', \n",
    "* последняя временная метка в формате 'hh:mm'.\n",
    "\n",
    "Функция должна вернуть информацию о топ-10 жанров тех треков, которые прослушивали в указанный день, в промежутке между двумя отметками времени."
   ]
  },
  {
   "cell_type": "code",
   "execution_count": 30,
   "metadata": {
    "id": "laJT9BYl_Zcu"
   },
   "outputs": [],
   "source": [
    "def genre_weekday(table, day, time1, time2):\n",
    "    genre_df = table[(table['day'] == day) & (table['time'] > time1) & (table['time'] < time2)]\n",
    "    genre_df_count = genre_df.groupby('genre')['user_id'].count()\n",
    "    genre_df_sorted = genre_df_count.sort_values(ascending = False)\n",
    "    return genre_df_sorted.head(10)\n",
    "    \n",
    "# Объявление функции genre_weekday() с параметрами table, day, time1, time2,\n",
    "# которая возвращает информацию о самых популярных жанрах в указанный день в\n",
    "# заданное время:\n",
    "# 1) в переменную genre_df сохраняются те строки переданного датафрейма table, для\n",
    "#    которых одновременно:\n",
    "#    - значение в столбце day равно значению аргумента day\n",
    "#    - значение в столбце time больше значения аргумента time1\n",
    "#    - значение в столбце time меньше значения аргумента time2\n",
    "#    Используйте последовательную фильтрацию с помощью логической индексации.\n",
    "# 2) сгруппировать датафрейм genre_df по столбцу genre, взять один из его\n",
    "#    столбцов и посчитать методом count() количество записей для каждого из\n",
    "#    присутствующих жанров, получившийся Series записать в переменную\n",
    "#    genre_df_count\n",
    "# 3) отсортировать genre_df_count по убыванию встречаемости и сохранить\n",
    "#    в переменную genre_df_sorted\n",
    "# 4) вернуть Series из 10 первых значений genre_df_sorted, это будут топ-10\n",
    "#    популярных жанров (в указанный день, в заданное время)"
   ]
  },
  {
   "cell_type": "markdown",
   "metadata": {},
   "source": [
    "<div class=\"alert alert-success\">\n",
    "✔️ Функция написана верно\n",
    "</div>"
   ]
  },
  {
   "cell_type": "markdown",
   "metadata": {
    "id": "la2s2_PF_Zcu"
   },
   "source": [
    "Cравните результаты функции `genre_weekday()` для Москвы и Санкт-Петербурга в понедельник утром (с 7:00 до 11:00) и в пятницу вечером (с 17:00 до 23:00):"
   ]
  },
  {
   "cell_type": "code",
   "execution_count": 31,
   "metadata": {
    "id": "yz7itPUQ_Zcu"
   },
   "outputs": [
    {
     "data": {
      "text/plain": [
       "genre\n",
       "pop            781\n",
       "dance          549\n",
       "electronic     480\n",
       "rock           474\n",
       "hiphop         286\n",
       "ruspop         186\n",
       "world          181\n",
       "rusrap         175\n",
       "alternative    164\n",
       "unknown        161\n",
       "Name: user_id, dtype: int64"
      ]
     },
     "execution_count": 31,
     "metadata": {},
     "output_type": "execute_result"
    }
   ],
   "source": [
    "genre_weekday(moscow_general, 'Monday', '07:00', '11:00')\n",
    "\n",
    "\n",
    "# вызов функции для утра понедельника в Москве (вместо df — таблица moscow_general)\n",
    "# объекты, хранящие время, являются строками и сравниваются как строки\n",
    "# пример вызова: genre_weekday(moscow_general, 'Monday', '07:00', '11:00')"
   ]
  },
  {
   "cell_type": "code",
   "execution_count": 32,
   "metadata": {
    "id": "kwUcHPdy_Zcu"
   },
   "outputs": [
    {
     "data": {
      "text/plain": [
       "genre\n",
       "pop            218\n",
       "dance          182\n",
       "rock           162\n",
       "electronic     147\n",
       "hiphop          80\n",
       "ruspop          64\n",
       "alternative     58\n",
       "rusrap          55\n",
       "jazz            44\n",
       "classical       40\n",
       "Name: user_id, dtype: int64"
      ]
     },
     "execution_count": 32,
     "metadata": {},
     "output_type": "execute_result"
    }
   ],
   "source": [
    "genre_weekday(spb_general, 'Monday', '07:00', '11:00')\n",
    "# вызов функции для утра понедельника в Петербурге (вместо df — таблица spb_general)"
   ]
  },
  {
   "cell_type": "code",
   "execution_count": 33,
   "metadata": {
    "id": "EzXVRE1o_Zcu"
   },
   "outputs": [
    {
     "data": {
      "text/plain": [
       "genre\n",
       "pop            713\n",
       "rock           517\n",
       "dance          495\n",
       "electronic     482\n",
       "hiphop         273\n",
       "world          208\n",
       "ruspop         170\n",
       "alternative    163\n",
       "classical      163\n",
       "rusrap         142\n",
       "Name: user_id, dtype: int64"
      ]
     },
     "execution_count": 33,
     "metadata": {},
     "output_type": "execute_result"
    }
   ],
   "source": [
    "genre_weekday(moscow_general, 'Friday', '17:00', '23:00')# вызов функции для вечера пятницы в Москве"
   ]
  },
  {
   "cell_type": "code",
   "execution_count": 34,
   "metadata": {
    "id": "JZaEKu5v_Zcu"
   },
   "outputs": [
    {
     "data": {
      "text/plain": [
       "genre\n",
       "pop            256\n",
       "electronic     216\n",
       "rock           216\n",
       "dance          210\n",
       "hiphop          97\n",
       "alternative     63\n",
       "jazz            61\n",
       "classical       60\n",
       "rusrap          59\n",
       "world           54\n",
       "Name: user_id, dtype: int64"
      ]
     },
     "execution_count": 34,
     "metadata": {},
     "output_type": "execute_result"
    }
   ],
   "source": [
    "genre_weekday(spb_general, 'Friday', '17:00', '23:00')# вызов функции для вечера пятницы в Петербурге"
   ]
  },
  {
   "cell_type": "markdown",
   "metadata": {},
   "source": [
    "<div class=\"alert alert-success\">\n",
    "✔️ 👍"
   ]
  },
  {
   "cell_type": "markdown",
   "metadata": {
    "id": "wrCe4MNX_Zcu"
   },
   "source": [
    "**Выводы**\n",
    "\n",
    "Если сравнить топ-10 жанров в понедельник утром, можно сделать такие выводы:\n",
    "\n",
    "1. В Москве и Петербурге слушают похожую музыку. Единственное отличие — в московский рейтинг вошёл жанр “world”, а в петербургский — джаз и классика.\n",
    "\n",
    "2. В Москве пропущенных значений оказалось так много, что значение `'unknown'` заняло десятое место среди самых популярных жанров. Значит, пропущенные значения занимают существенную долю в данных и угрожают достоверности исследования.\n",
    "\n",
    "Вечер пятницы не меняет эту картину. Некоторые жанры поднимаются немного выше, другие спускаются, но в целом топ-10 остаётся тем же самым.\n",
    "\n",
    "Таким образом, вторая гипотеза подтвердилась лишь частично:\n",
    "* Пользователи слушают похожую музыку в начале недели и в конце.\n",
    "* Разница между Москвой и Петербургом не слишком выражена. В Москве чаще слушают русскую популярную музыку, в Петербурге — джаз.\n",
    "\n",
    "Однако пропуски в данных ставят под сомнение этот результат. В Москве их так много, что рейтинг топ-10 мог бы выглядеть иначе, если бы не утерянные  данные о жанрах."
   ]
  },
  {
   "cell_type": "markdown",
   "metadata": {
    "id": "JolODAqr_Zcu"
   },
   "source": [
    "### Жанровые предпочтения в Москве и Петербурге\n",
    "\n",
    "Гипотеза: Петербург — столица рэпа, музыку этого жанра там слушают чаще, чем в Москве.  А Москва — город контрастов, в котором, тем не менее, преобладает поп-музыка."
   ]
  },
  {
   "cell_type": "markdown",
   "metadata": {
    "id": "DlegSvaT_Zcu"
   },
   "source": [
    "Сгруппируйте таблицу `moscow_general` по жанру и посчитайте прослушивания треков каждого жанра методом `count()`. Затем отсортируйте результат в порядке убывания и сохраните его в таблице `moscow_genres`."
   ]
  },
  {
   "cell_type": "code",
   "execution_count": 35,
   "metadata": {
    "id": "r19lIPke_Zcu"
   },
   "outputs": [],
   "source": [
    "moscow_genres = moscow_general.groupby('genre')['genre'].count().sort_values(ascending = False)# одной строкой: группировка таблицы moscow_general по столбцу 'genre', \n",
    "# подсчёт числа значений 'genre' в этой группировке методом count(), \n",
    "# сортировка получившегося Series в порядке убывания и сохранение в moscow_genres"
   ]
  },
  {
   "cell_type": "markdown",
   "metadata": {
    "id": "6kMuomxTiIr8"
   },
   "source": [
    "Выведите на экран первые десять строк `moscow_genres`:"
   ]
  },
  {
   "cell_type": "code",
   "execution_count": 36,
   "metadata": {
    "id": "WhCSooF8_Zcv"
   },
   "outputs": [
    {
     "data": {
      "text/plain": [
       "genre\n",
       "pop            5892\n",
       "dance          4435\n",
       "rock           3965\n",
       "electronic     3786\n",
       "hiphop         2096\n",
       "classical      1616\n",
       "world          1432\n",
       "alternative    1379\n",
       "ruspop         1372\n",
       "rusrap         1161\n",
       "Name: genre, dtype: int64"
      ]
     },
     "execution_count": 36,
     "metadata": {},
     "output_type": "execute_result"
    }
   ],
   "source": [
    "moscow_genres.head(10)# просмотр первых 10 строк moscow_genres"
   ]
  },
  {
   "cell_type": "markdown",
   "metadata": {},
   "source": [
    "<div class=\"alert alert-success\">\n",
    "✔️ Данные по Москве получены\n",
    "</div>"
   ]
  },
  {
   "cell_type": "markdown",
   "metadata": {
    "id": "cnPG2vnN_Zcv"
   },
   "source": [
    "Теперь повторите то же и для Петербурга.\n",
    "\n",
    "Сгруппируйте таблицу `spb_general` по жанру. Посчитайте прослушивания треков каждого жанра. Результат отсортируйте в порядке убывания и сохраните в таблице `spb_genres`:\n"
   ]
  },
  {
   "cell_type": "code",
   "execution_count": 37,
   "metadata": {
    "id": "gluLIpE7_Zcv"
   },
   "outputs": [],
   "source": [
    "spb_genres = spb_general.groupby('genre')['genre'].count().sort_values(ascending = False)# одной строкой: группировка таблицы spb_general по столбцу 'genre', \n",
    "# подсчёт числа значений 'genre' в этой группировке методом count(), \n",
    "# сортировка получившегося Series в порядке убывания и сохранение в spb_genres"
   ]
  },
  {
   "cell_type": "markdown",
   "metadata": {
    "id": "5Doha_ODgyQ8"
   },
   "source": [
    "Выведите на экран первые десять строк `spb_genres`:"
   ]
  },
  {
   "cell_type": "code",
   "execution_count": 38,
   "metadata": {
    "id": "uaGJHjVU_Zcv"
   },
   "outputs": [
    {
     "data": {
      "text/plain": [
       "genre\n",
       "pop            2431\n",
       "dance          1932\n",
       "rock           1879\n",
       "electronic     1736\n",
       "hiphop          960\n",
       "alternative     649\n",
       "classical       646\n",
       "rusrap          564\n",
       "ruspop          538\n",
       "world           515\n",
       "Name: genre, dtype: int64"
      ]
     },
     "execution_count": 38,
     "metadata": {},
     "output_type": "execute_result"
    }
   ],
   "source": [
    "spb_genres.head(10)# просмотр первых 10 строк spb_genres"
   ]
  },
  {
   "cell_type": "markdown",
   "metadata": {},
   "source": [
    "<div class=\"alert alert-success\">\n",
    "✔️ Данные по Питеру у нас тоже есть.\n",
    "</div>"
   ]
  },
  {
   "cell_type": "markdown",
   "metadata": {
    "id": "RY51YJYu_Zcv"
   },
   "source": [
    "**Выводы**"
   ]
  },
  {
   "cell_type": "markdown",
   "metadata": {
    "id": "nVhnJEm__Zcv"
   },
   "source": [
    "Гипотеза частично подтвердилась:\n",
    "* Поп-музыка — самый популярный жанр в Москве, как и предполагала гипотеза. Более того, в топ-10 жанров встречается близкий жанр — русская популярная музыка.\n",
    "* Вопреки ожиданиям, рэп одинаково популярен в Москве и Петербурге. \n"
   ]
  },
  {
   "cell_type": "markdown",
   "metadata": {},
   "source": [
    "<div class=\"alert alert-success\">\n",
    "✔️ В целом шаг выполнен хорошо. Сделана большая работа! Прошу еще так же обратить внимание на выводы и опираться на такой пример в будущих проектах, так как хорошие выводы и промежуточные — очень важно и выделяют хорошую работу. \n",
    "</div>"
   ]
  },
  {
   "cell_type": "markdown",
   "metadata": {
    "id": "ykKQ0N65_Zcv"
   },
   "source": [
    "## Итоги исследования"
   ]
  },
  {
   "cell_type": "markdown",
   "metadata": {
    "id": "tjUwbHb3_Zcv"
   },
   "source": [
    "Вы проверили три гипотезы и установили:\n",
    "\n",
    "1. День недели по-разному влияет на активность пользователей в Москве и Петербурге. \n",
    "\n",
    "Первая гипотеза полностью подтвердилась.\n",
    "\n",
    "2. Музыкальные предпочтения не сильно меняются в течение недели — будь то Москва или Петербург. Небольшие различия заметны в начале недели, по понедельникам:\n",
    "* в Москве слушают музыку жанра “world”,\n",
    "* в Петербурге — джаз и классику.\n",
    "\n",
    "Таким образом, вторая гипотеза подтвердилась лишь отчасти. Этот результат мог оказаться иным, если бы не пропуски в данных.\n",
    "\n",
    "3. Во вкусах пользователей Москвы и Петербурга больше общего чем различий. Вопреки ожиданиям, предпочтения жанров в Петербурге напоминают московские.\n",
    "\n",
    "Третья гипотеза не подтвердилась. Если различия в предпочтениях и существуют, на основной массе пользователей они незаметны.\n",
    "\n",
    "**На практике исследования содержат проверки статистических гипотез.**\n",
    "Из данных одного сервиса не всегда можно сделать вывод о всех жителях города.\n",
    "Проверки статистических гипотез покажут, насколько они достоверны, исходя из имеющихся данных. \n",
    "С методами проверок гипотез вы ещё познакомитесь в следующих темах."
   ]
  },
  {
   "cell_type": "markdown",
   "metadata": {},
   "source": [
    "<div class=\"alert alert-success\">\n",
    "Выводы, как общий, так и промежуточные, является важным элементом проводимого анализа. В итоговом выводе мы описываем основные итоги работы. Поэтому не забывай уделять им особое внимание в последующих проектах. \n",
    "</div>"
   ]
  },
  {
   "cell_type": "markdown",
   "metadata": {},
   "source": [
    "<div class=\"alert alert-info\"> <p2>\n",
    "Работа хороша! Я вижу, что ты хорошо разбираешься в теме. Ты показываешь хорошее владение всем изучаемым в модуле материалом. Осталась одна небольшааая доработка:\n",
    "\n",
    "1. Дописать цикл\n",
    "    \n",
    "Жду твоих исправлений :)\n",
    "</p2>\n",
    "</div>"
   ]
  },
  {
   "cell_type": "markdown",
   "metadata": {},
   "source": [
    "🐥 **Исправления внесены, но цикл так и не заработал. Не могу понять что с ним не так на этот раз**"
   ]
  },
  {
   "cell_type": "code",
   "execution_count": null,
   "metadata": {},
   "outputs": [],
   "source": []
  }
 ],
 "metadata": {
  "ExecuteTimeLog": [
   {
    "duration": 384,
    "start_time": "2022-04-08T15:59:04.822Z"
   },
   {
    "duration": 60,
    "start_time": "2022-04-08T16:05:54.373Z"
   },
   {
    "duration": 3,
    "start_time": "2022-04-08T16:06:00.775Z"
   },
   {
    "duration": 151,
    "start_time": "2022-04-08T16:06:05.677Z"
   },
   {
    "duration": 161,
    "start_time": "2022-04-08T16:11:28.905Z"
   },
   {
    "duration": 7,
    "start_time": "2022-04-08T16:11:33.372Z"
   },
   {
    "duration": 102,
    "start_time": "2022-04-08T16:15:47.662Z"
   },
   {
    "duration": 20,
    "start_time": "2022-04-08T16:15:56.333Z"
   },
   {
    "duration": 10,
    "start_time": "2022-04-08T16:16:28.040Z"
   },
   {
    "duration": 30,
    "start_time": "2022-04-08T16:18:13.468Z"
   },
   {
    "duration": 3,
    "start_time": "2022-04-08T16:51:49.552Z"
   },
   {
    "duration": 4,
    "start_time": "2022-04-08T16:53:17.475Z"
   },
   {
    "duration": 130,
    "start_time": "2022-04-08T16:59:30.025Z"
   },
   {
    "duration": 13,
    "start_time": "2022-04-08T16:59:51.787Z"
   },
   {
    "duration": 3,
    "start_time": "2022-04-08T16:59:59.513Z"
   },
   {
    "duration": 45,
    "start_time": "2022-04-08T17:01:02.043Z"
   },
   {
    "duration": 88,
    "start_time": "2022-04-09T10:14:23.164Z"
   },
   {
    "duration": 11,
    "start_time": "2022-04-09T10:20:54.387Z"
   },
   {
    "duration": 11,
    "start_time": "2022-04-09T10:22:02.262Z"
   },
   {
    "duration": 11,
    "start_time": "2022-04-09T10:22:44.194Z"
   },
   {
    "duration": 9,
    "start_time": "2022-04-09T10:22:57.712Z"
   },
   {
    "duration": 10,
    "start_time": "2022-04-09T10:24:07.847Z"
   },
   {
    "duration": 10,
    "start_time": "2022-04-09T10:52:59.295Z"
   },
   {
    "duration": 10,
    "start_time": "2022-04-09T10:55:05.292Z"
   },
   {
    "duration": 9,
    "start_time": "2022-04-09T10:55:26.270Z"
   },
   {
    "duration": 10,
    "start_time": "2022-04-09T10:56:40.912Z"
   },
   {
    "duration": 10,
    "start_time": "2022-04-09T10:57:25.319Z"
   },
   {
    "duration": 9,
    "start_time": "2022-04-09T10:58:03.793Z"
   },
   {
    "duration": 9,
    "start_time": "2022-04-09T10:58:39.602Z"
   },
   {
    "duration": 9,
    "start_time": "2022-04-09T11:00:15.706Z"
   },
   {
    "duration": 10,
    "start_time": "2022-04-09T11:00:31.583Z"
   },
   {
    "duration": 9,
    "start_time": "2022-04-09T11:04:33.046Z"
   },
   {
    "duration": 10,
    "start_time": "2022-04-09T11:04:40.980Z"
   },
   {
    "duration": 9,
    "start_time": "2022-04-09T11:04:56.509Z"
   },
   {
    "duration": 9,
    "start_time": "2022-04-09T11:07:33.433Z"
   },
   {
    "duration": 10,
    "start_time": "2022-04-09T11:08:01.218Z"
   },
   {
    "duration": 9,
    "start_time": "2022-04-09T11:14:22.147Z"
   },
   {
    "duration": 10,
    "start_time": "2022-04-09T11:14:54.593Z"
   },
   {
    "duration": 8,
    "start_time": "2022-04-09T11:15:10.622Z"
   },
   {
    "duration": 9,
    "start_time": "2022-04-09T11:15:20.553Z"
   },
   {
    "duration": 8,
    "start_time": "2022-04-09T11:15:27.925Z"
   },
   {
    "duration": 523,
    "start_time": "2022-04-09T11:15:34.592Z"
   },
   {
    "duration": 190,
    "start_time": "2022-04-09T11:15:38.744Z"
   },
   {
    "duration": 26,
    "start_time": "2022-04-09T11:15:47.569Z"
   },
   {
    "duration": 41,
    "start_time": "2022-04-09T11:15:56.719Z"
   },
   {
    "duration": 5,
    "start_time": "2022-04-09T11:16:02.667Z"
   },
   {
    "duration": 17,
    "start_time": "2022-04-09T11:16:13.462Z"
   },
   {
    "duration": 5,
    "start_time": "2022-04-09T11:16:21.912Z"
   },
   {
    "duration": 58,
    "start_time": "2022-04-09T11:16:29.890Z"
   },
   {
    "duration": 43,
    "start_time": "2022-04-09T11:16:36.313Z"
   },
   {
    "duration": 10,
    "start_time": "2022-04-09T11:16:43.462Z"
   },
   {
    "duration": 1646,
    "start_time": "2022-04-09T11:16:52.893Z"
   },
   {
    "duration": 61,
    "start_time": "2022-04-09T11:17:15.780Z"
   },
   {
    "duration": 1701,
    "start_time": "2022-04-09T11:17:25.469Z"
   },
   {
    "duration": 18,
    "start_time": "2022-04-09T11:17:39.240Z"
   },
   {
    "duration": 11,
    "start_time": "2022-04-09T11:18:01.747Z"
   },
   {
    "duration": 1849,
    "start_time": "2022-04-09T11:18:08.585Z"
   },
   {
    "duration": 12,
    "start_time": "2022-04-09T11:19:31.619Z"
   },
   {
    "duration": 11,
    "start_time": "2022-04-09T11:19:58.741Z"
   },
   {
    "duration": 10,
    "start_time": "2022-04-09T11:21:58.850Z"
   },
   {
    "duration": 60,
    "start_time": "2022-04-09T11:22:13.687Z"
   },
   {
    "duration": 10,
    "start_time": "2022-04-09T11:22:16.708Z"
   },
   {
    "duration": 4,
    "start_time": "2022-04-09T11:23:03.755Z"
   },
   {
    "duration": 192,
    "start_time": "2022-04-09T11:23:06.008Z"
   },
   {
    "duration": 16,
    "start_time": "2022-04-09T11:23:10.871Z"
   },
   {
    "duration": 40,
    "start_time": "2022-04-09T11:23:17.791Z"
   },
   {
    "duration": 4,
    "start_time": "2022-04-09T11:23:32.883Z"
   },
   {
    "duration": 12,
    "start_time": "2022-04-09T11:23:46.531Z"
   },
   {
    "duration": 5,
    "start_time": "2022-04-09T11:23:51.943Z"
   },
   {
    "duration": 98,
    "start_time": "2022-04-09T11:23:58.679Z"
   },
   {
    "duration": 10,
    "start_time": "2022-04-09T11:25:04.361Z"
   },
   {
    "duration": 10,
    "start_time": "2022-04-09T11:25:16.512Z"
   },
   {
    "duration": 11,
    "start_time": "2022-04-09T11:27:21.727Z"
   },
   {
    "duration": 11,
    "start_time": "2022-04-09T11:29:31.666Z"
   },
   {
    "duration": 10,
    "start_time": "2022-04-09T11:30:09.160Z"
   },
   {
    "duration": 10,
    "start_time": "2022-04-09T11:30:39.883Z"
   },
   {
    "duration": 1388,
    "start_time": "2022-04-09T11:31:25.700Z"
   },
   {
    "duration": 22,
    "start_time": "2022-04-09T11:32:23.578Z"
   },
   {
    "duration": 16,
    "start_time": "2022-04-09T11:33:41.836Z"
   },
   {
    "duration": 129,
    "start_time": "2022-04-09T11:37:43.541Z"
   },
   {
    "duration": 11,
    "start_time": "2022-04-09T11:38:21.261Z"
   },
   {
    "duration": 525,
    "start_time": "2022-04-09T11:38:27.252Z"
   },
   {
    "duration": 441,
    "start_time": "2022-04-09T11:38:31.729Z"
   },
   {
    "duration": 29,
    "start_time": "2022-04-09T11:38:33.738Z"
   },
   {
    "duration": 43,
    "start_time": "2022-04-09T11:38:35.970Z"
   },
   {
    "duration": 6,
    "start_time": "2022-04-09T11:38:39.668Z"
   },
   {
    "duration": 17,
    "start_time": "2022-04-09T11:38:41.875Z"
   },
   {
    "duration": 5,
    "start_time": "2022-04-09T11:38:43.478Z"
   },
   {
    "duration": 59,
    "start_time": "2022-04-09T11:38:47.914Z"
   },
   {
    "duration": 47,
    "start_time": "2022-04-09T11:38:52.523Z"
   },
   {
    "duration": 33,
    "start_time": "2022-04-09T11:46:34.890Z"
   },
   {
    "duration": 34,
    "start_time": "2022-04-09T11:46:43.991Z"
   },
   {
    "duration": 23,
    "start_time": "2022-04-09T11:51:09.269Z"
   },
   {
    "duration": 33,
    "start_time": "2022-04-09T11:51:12.459Z"
   },
   {
    "duration": 94,
    "start_time": "2022-04-09T11:51:48.470Z"
   },
   {
    "duration": 120,
    "start_time": "2022-04-09T11:53:03.592Z"
   },
   {
    "duration": 95,
    "start_time": "2022-04-09T11:53:16.437Z"
   },
   {
    "duration": 49,
    "start_time": "2022-04-09T15:47:27.964Z"
   },
   {
    "duration": 7,
    "start_time": "2022-04-09T15:48:01.132Z"
   },
   {
    "duration": 430,
    "start_time": "2022-04-09T15:48:31.935Z"
   },
   {
    "duration": 170,
    "start_time": "2022-04-09T15:48:33.690Z"
   },
   {
    "duration": 19,
    "start_time": "2022-04-09T15:48:34.716Z"
   },
   {
    "duration": 34,
    "start_time": "2022-04-09T15:48:35.929Z"
   },
   {
    "duration": 3,
    "start_time": "2022-04-09T15:48:39.952Z"
   },
   {
    "duration": 13,
    "start_time": "2022-04-09T15:48:42.206Z"
   },
   {
    "duration": 4,
    "start_time": "2022-04-09T15:48:44.153Z"
   },
   {
    "duration": 44,
    "start_time": "2022-04-09T15:48:46.571Z"
   },
   {
    "duration": 2178,
    "start_time": "2022-04-09T15:48:50.184Z"
   },
   {
    "duration": 2140,
    "start_time": "2022-04-09T15:49:00.071Z"
   },
   {
    "duration": 2559,
    "start_time": "2022-04-09T15:49:54.254Z"
   },
   {
    "duration": 8,
    "start_time": "2022-04-09T15:51:43.717Z"
   },
   {
    "duration": 21,
    "start_time": "2022-04-09T15:52:11.513Z"
   },
   {
    "duration": 27,
    "start_time": "2022-04-09T15:52:29.916Z"
   },
   {
    "duration": 28,
    "start_time": "2022-04-09T15:52:34.324Z"
   },
   {
    "duration": 2529,
    "start_time": "2022-04-09T15:54:25.251Z"
   },
   {
    "duration": 2169,
    "start_time": "2022-04-09T15:54:43.853Z"
   },
   {
    "duration": 2182,
    "start_time": "2022-04-09T15:55:16.840Z"
   },
   {
    "duration": 131,
    "start_time": "2022-04-09T15:57:25.511Z"
   },
   {
    "duration": 2130,
    "start_time": "2022-04-09T15:57:35.861Z"
   },
   {
    "duration": 20,
    "start_time": "2022-04-09T16:04:46.352Z"
   },
   {
    "duration": 28,
    "start_time": "2022-04-09T16:04:57.004Z"
   },
   {
    "duration": 73,
    "start_time": "2022-04-09T16:05:15.121Z"
   },
   {
    "duration": 81,
    "start_time": "2022-04-09T16:05:17.622Z"
   },
   {
    "duration": 65,
    "start_time": "2022-04-09T16:05:28.454Z"
   },
   {
    "duration": 10,
    "start_time": "2022-04-09T16:08:17.860Z"
   },
   {
    "duration": 6,
    "start_time": "2022-04-09T16:14:20.492Z"
   },
   {
    "duration": 6,
    "start_time": "2022-04-09T16:14:24.392Z"
   },
   {
    "duration": 7,
    "start_time": "2022-04-09T16:14:40.939Z"
   },
   {
    "duration": 6,
    "start_time": "2022-04-09T16:15:38.324Z"
   },
   {
    "duration": 6,
    "start_time": "2022-04-09T16:18:24.503Z"
   },
   {
    "duration": 6,
    "start_time": "2022-04-09T16:18:30.090Z"
   },
   {
    "duration": 7,
    "start_time": "2022-04-09T16:18:39.765Z"
   },
   {
    "duration": 11,
    "start_time": "2022-04-09T16:18:46.610Z"
   },
   {
    "duration": 7,
    "start_time": "2022-04-09T16:19:02.913Z"
   },
   {
    "duration": 11,
    "start_time": "2022-04-09T16:20:34.622Z"
   },
   {
    "duration": 9,
    "start_time": "2022-04-09T16:22:26.642Z"
   },
   {
    "duration": 12,
    "start_time": "2022-04-09T16:22:52.426Z"
   },
   {
    "duration": 8,
    "start_time": "2022-04-09T16:22:59.194Z"
   },
   {
    "duration": 40,
    "start_time": "2022-04-09T16:26:56.115Z"
   },
   {
    "duration": 39,
    "start_time": "2022-04-09T16:27:14.030Z"
   },
   {
    "duration": 41,
    "start_time": "2022-04-09T16:32:49.477Z"
   },
   {
    "duration": 66,
    "start_time": "2022-04-09T16:33:15.625Z"
   },
   {
    "duration": 45,
    "start_time": "2022-04-09T16:35:12.668Z"
   },
   {
    "duration": 43,
    "start_time": "2022-04-09T16:35:16.711Z"
   },
   {
    "duration": 4,
    "start_time": "2022-04-09T16:44:46.341Z"
   },
   {
    "duration": 10,
    "start_time": "2022-04-09T16:44:49.046Z"
   },
   {
    "duration": 3,
    "start_time": "2022-04-09T16:45:31.919Z"
   },
   {
    "duration": 26,
    "start_time": "2022-04-09T16:45:33.928Z"
   },
   {
    "duration": 64,
    "start_time": "2022-04-09T16:46:00.828Z"
   },
   {
    "duration": 43,
    "start_time": "2022-04-09T16:47:18.536Z"
   },
   {
    "duration": 25,
    "start_time": "2022-04-09T16:47:23.285Z"
   },
   {
    "duration": 125,
    "start_time": "2022-04-09T16:52:37.539Z"
   },
   {
    "duration": 13,
    "start_time": "2022-04-09T16:52:55.740Z"
   },
   {
    "duration": 14,
    "start_time": "2022-04-09T16:54:30.908Z"
   },
   {
    "duration": 121,
    "start_time": "2022-04-09T17:01:38.417Z"
   },
   {
    "duration": 137,
    "start_time": "2022-04-09T17:02:00.626Z"
   },
   {
    "duration": 120,
    "start_time": "2022-04-09T17:02:02.987Z"
   },
   {
    "duration": 15,
    "start_time": "2022-04-09T17:02:07.867Z"
   },
   {
    "duration": 128,
    "start_time": "2022-04-09T17:02:11.185Z"
   },
   {
    "duration": 4,
    "start_time": "2022-04-09T17:02:43.467Z"
   },
   {
    "duration": 4,
    "start_time": "2022-04-09T17:02:48.233Z"
   },
   {
    "duration": 3,
    "start_time": "2022-04-09T17:46:46.718Z"
   },
   {
    "duration": 7,
    "start_time": "2022-04-09T17:46:49.500Z"
   },
   {
    "duration": 18,
    "start_time": "2022-04-09T17:47:02.973Z"
   },
   {
    "duration": 20,
    "start_time": "2022-04-09T17:49:21.318Z"
   },
   {
    "duration": 18,
    "start_time": "2022-04-09T17:49:31.148Z"
   },
   {
    "duration": 18,
    "start_time": "2022-04-09T17:50:23.535Z"
   },
   {
    "duration": 16,
    "start_time": "2022-04-09T17:50:25.483Z"
   },
   {
    "duration": 19,
    "start_time": "2022-04-09T17:50:26.229Z"
   },
   {
    "duration": 15,
    "start_time": "2022-04-09T17:50:27.176Z"
   },
   {
    "duration": 17,
    "start_time": "2022-04-09T17:50:29.202Z"
   },
   {
    "duration": 16,
    "start_time": "2022-04-09T17:50:31.853Z"
   },
   {
    "duration": 3,
    "start_time": "2022-04-09T17:53:35.683Z"
   },
   {
    "duration": 171,
    "start_time": "2022-04-09T17:55:48.972Z"
   },
   {
    "duration": 145,
    "start_time": "2022-04-09T17:58:05.981Z"
   },
   {
    "duration": 138,
    "start_time": "2022-04-09T17:58:13.269Z"
   },
   {
    "duration": 139,
    "start_time": "2022-04-09T17:58:17.271Z"
   },
   {
    "duration": 136,
    "start_time": "2022-04-09T17:58:28.845Z"
   },
   {
    "duration": 136,
    "start_time": "2022-04-09T17:59:17.158Z"
   },
   {
    "duration": 15,
    "start_time": "2022-04-09T17:59:38.351Z"
   },
   {
    "duration": 151,
    "start_time": "2022-04-09T17:59:40.759Z"
   },
   {
    "duration": 2,
    "start_time": "2022-04-09T17:59:49.650Z"
   },
   {
    "duration": 185,
    "start_time": "2022-04-09T17:59:50.721Z"
   },
   {
    "duration": 13,
    "start_time": "2022-04-09T17:59:52.462Z"
   },
   {
    "duration": 33,
    "start_time": "2022-04-09T17:59:54.022Z"
   },
   {
    "duration": 3,
    "start_time": "2022-04-09T17:59:57.007Z"
   },
   {
    "duration": 10,
    "start_time": "2022-04-09T17:59:58.748Z"
   },
   {
    "duration": 3,
    "start_time": "2022-04-09T17:59:59.759Z"
   },
   {
    "duration": 47,
    "start_time": "2022-04-09T18:00:00.908Z"
   },
   {
    "duration": 23,
    "start_time": "2022-04-09T18:00:02.500Z"
   },
   {
    "duration": 28,
    "start_time": "2022-04-09T18:00:03.685Z"
   },
   {
    "duration": 68,
    "start_time": "2022-04-09T18:00:08.570Z"
   },
   {
    "duration": 77,
    "start_time": "2022-04-09T18:00:10.535Z"
   },
   {
    "duration": 64,
    "start_time": "2022-04-09T18:00:11.532Z"
   },
   {
    "duration": 45,
    "start_time": "2022-04-09T18:00:13.364Z"
   },
   {
    "duration": 3,
    "start_time": "2022-04-09T18:00:14.987Z"
   },
   {
    "duration": 27,
    "start_time": "2022-04-09T18:00:16.083Z"
   },
   {
    "duration": 44,
    "start_time": "2022-04-09T18:00:17.832Z"
   },
   {
    "duration": 13,
    "start_time": "2022-04-09T18:00:22.794Z"
   },
   {
    "duration": 13,
    "start_time": "2022-04-09T18:00:24.415Z"
   },
   {
    "duration": 4,
    "start_time": "2022-04-09T18:00:26.551Z"
   },
   {
    "duration": 18,
    "start_time": "2022-04-09T18:00:30.745Z"
   },
   {
    "duration": 14,
    "start_time": "2022-04-09T18:00:31.509Z"
   },
   {
    "duration": 17,
    "start_time": "2022-04-09T18:00:31.890Z"
   },
   {
    "duration": 15,
    "start_time": "2022-04-09T18:00:32.519Z"
   },
   {
    "duration": 18,
    "start_time": "2022-04-09T18:00:33.117Z"
   },
   {
    "duration": 16,
    "start_time": "2022-04-09T18:00:34.176Z"
   },
   {
    "duration": 131,
    "start_time": "2022-04-09T18:00:36.176Z"
   },
   {
    "duration": 4,
    "start_time": "2022-04-09T18:00:57.108Z"
   },
   {
    "duration": 9,
    "start_time": "2022-04-09T18:01:13.698Z"
   },
   {
    "duration": 25,
    "start_time": "2022-04-09T18:04:07.069Z"
   },
   {
    "duration": 114,
    "start_time": "2022-04-10T09:20:50.431Z"
   },
   {
    "duration": 103,
    "start_time": "2022-04-10T09:22:43.777Z"
   },
   {
    "duration": 99,
    "start_time": "2022-04-10T09:22:54.850Z"
   },
   {
    "duration": 42,
    "start_time": "2022-04-10T09:23:05.381Z"
   },
   {
    "duration": 7,
    "start_time": "2022-04-10T09:23:08.599Z"
   },
   {
    "duration": 339,
    "start_time": "2022-04-10T09:24:14.242Z"
   },
   {
    "duration": 152,
    "start_time": "2022-04-10T09:24:14.812Z"
   },
   {
    "duration": 16,
    "start_time": "2022-04-10T09:24:15.449Z"
   },
   {
    "duration": 28,
    "start_time": "2022-04-10T09:24:16.097Z"
   },
   {
    "duration": 4,
    "start_time": "2022-04-10T09:24:17.678Z"
   },
   {
    "duration": 13,
    "start_time": "2022-04-10T09:24:18.578Z"
   },
   {
    "duration": 3,
    "start_time": "2022-04-10T09:24:19.849Z"
   },
   {
    "duration": 24,
    "start_time": "2022-04-10T09:24:20.543Z"
   },
   {
    "duration": 18,
    "start_time": "2022-04-10T09:24:21.704Z"
   },
   {
    "duration": 25,
    "start_time": "2022-04-10T09:24:22.428Z"
   },
   {
    "duration": 65,
    "start_time": "2022-04-10T09:24:23.100Z"
   },
   {
    "duration": 76,
    "start_time": "2022-04-10T09:24:23.773Z"
   },
   {
    "duration": 60,
    "start_time": "2022-04-10T09:24:24.391Z"
   },
   {
    "duration": 38,
    "start_time": "2022-04-10T09:24:25.374Z"
   },
   {
    "duration": 3,
    "start_time": "2022-04-10T09:24:26.548Z"
   },
   {
    "duration": 26,
    "start_time": "2022-04-10T09:24:27.534Z"
   },
   {
    "duration": 39,
    "start_time": "2022-04-10T09:24:28.926Z"
   },
   {
    "duration": 13,
    "start_time": "2022-04-10T09:24:32.326Z"
   },
   {
    "duration": 12,
    "start_time": "2022-04-10T09:24:33.619Z"
   },
   {
    "duration": 3,
    "start_time": "2022-04-10T09:24:35.322Z"
   },
   {
    "duration": 17,
    "start_time": "2022-04-10T09:24:37.842Z"
   },
   {
    "duration": 15,
    "start_time": "2022-04-10T09:24:38.261Z"
   },
   {
    "duration": 15,
    "start_time": "2022-04-10T09:24:38.675Z"
   },
   {
    "duration": 13,
    "start_time": "2022-04-10T09:24:39.097Z"
   },
   {
    "duration": 17,
    "start_time": "2022-04-10T09:24:39.514Z"
   },
   {
    "duration": 15,
    "start_time": "2022-04-10T09:24:39.954Z"
   },
   {
    "duration": 9,
    "start_time": "2022-04-10T09:24:41.218Z"
   },
   {
    "duration": 11,
    "start_time": "2022-04-10T09:24:45.583Z"
   },
   {
    "duration": 9,
    "start_time": "2022-04-10T09:26:14.458Z"
   },
   {
    "duration": 10,
    "start_time": "2022-04-10T09:26:58.479Z"
   },
   {
    "duration": 10,
    "start_time": "2022-04-10T09:28:01.442Z"
   },
   {
    "duration": 4,
    "start_time": "2022-04-10T10:16:11.015Z"
   },
   {
    "duration": 1288,
    "start_time": "2022-04-10T10:18:54.060Z"
   },
   {
    "duration": 6,
    "start_time": "2022-04-10T10:19:34.670Z"
   },
   {
    "duration": 1501,
    "start_time": "2022-04-10T10:20:21.327Z"
   },
   {
    "duration": 4,
    "start_time": "2022-04-10T10:20:46.367Z"
   },
   {
    "duration": 4,
    "start_time": "2022-04-10T10:22:47.556Z"
   },
   {
    "duration": 1303,
    "start_time": "2022-04-10T10:22:53.914Z"
   },
   {
    "duration": 4,
    "start_time": "2022-04-10T10:25:35.507Z"
   },
   {
    "duration": 1320,
    "start_time": "2022-04-10T10:25:37.290Z"
   },
   {
    "duration": 17,
    "start_time": "2022-04-10T10:26:02.395Z"
   },
   {
    "duration": 15,
    "start_time": "2022-04-10T10:26:03.286Z"
   },
   {
    "duration": 4,
    "start_time": "2022-04-10T10:26:05.249Z"
   },
   {
    "duration": 1360,
    "start_time": "2022-04-10T10:26:08.526Z"
   },
   {
    "duration": 4,
    "start_time": "2022-04-10T10:32:06.670Z"
   },
   {
    "duration": 1329,
    "start_time": "2022-04-10T10:32:08.690Z"
   },
   {
    "duration": 10,
    "start_time": "2022-04-10T10:32:20.532Z"
   },
   {
    "duration": 4,
    "start_time": "2022-04-10T10:32:26.146Z"
   },
   {
    "duration": 3,
    "start_time": "2022-04-10T10:33:42.549Z"
   },
   {
    "duration": 23,
    "start_time": "2022-04-10T10:34:25.832Z"
   },
   {
    "duration": 39,
    "start_time": "2022-04-10T10:34:27.516Z"
   },
   {
    "duration": 12,
    "start_time": "2022-04-10T10:34:30.807Z"
   },
   {
    "duration": 12,
    "start_time": "2022-04-10T10:34:32.059Z"
   },
   {
    "duration": 3,
    "start_time": "2022-04-10T10:34:34.484Z"
   },
   {
    "duration": 17,
    "start_time": "2022-04-10T10:34:35.679Z"
   },
   {
    "duration": 14,
    "start_time": "2022-04-10T10:34:36.090Z"
   },
   {
    "duration": 15,
    "start_time": "2022-04-10T10:34:36.415Z"
   },
   {
    "duration": 16,
    "start_time": "2022-04-10T10:34:36.668Z"
   },
   {
    "duration": 17,
    "start_time": "2022-04-10T10:34:36.963Z"
   },
   {
    "duration": 14,
    "start_time": "2022-04-10T10:34:37.257Z"
   },
   {
    "duration": 9,
    "start_time": "2022-04-10T10:34:38.305Z"
   },
   {
    "duration": 12,
    "start_time": "2022-04-10T10:34:40.801Z"
   },
   {
    "duration": 10,
    "start_time": "2022-04-10T10:34:41.664Z"
   },
   {
    "duration": 4,
    "start_time": "2022-04-10T10:34:42.676Z"
   },
   {
    "duration": 1347,
    "start_time": "2022-04-10T10:34:44.214Z"
   },
   {
    "duration": 4,
    "start_time": "2022-04-10T10:35:07.464Z"
   },
   {
    "duration": 1271,
    "start_time": "2022-04-10T10:35:09.551Z"
   },
   {
    "duration": 4,
    "start_time": "2022-04-10T10:38:49.152Z"
   },
   {
    "duration": 1243,
    "start_time": "2022-04-10T10:38:54.772Z"
   },
   {
    "duration": 4,
    "start_time": "2022-04-10T10:39:16.715Z"
   },
   {
    "duration": 1327,
    "start_time": "2022-04-10T10:39:19.016Z"
   },
   {
    "duration": 7,
    "start_time": "2022-04-10T10:39:39.931Z"
   },
   {
    "duration": 1277,
    "start_time": "2022-04-10T10:39:42.023Z"
   },
   {
    "duration": 4,
    "start_time": "2022-04-10T10:41:20.972Z"
   },
   {
    "duration": 4,
    "start_time": "2022-04-10T10:42:58.589Z"
   },
   {
    "duration": 1383,
    "start_time": "2022-04-10T10:43:00.690Z"
   },
   {
    "duration": 4,
    "start_time": "2022-04-10T10:45:10.843Z"
   },
   {
    "duration": 1245,
    "start_time": "2022-04-10T10:45:15.704Z"
   },
   {
    "duration": 2,
    "start_time": "2022-04-10T10:45:22.050Z"
   },
   {
    "duration": 3,
    "start_time": "2022-04-10T10:46:33.171Z"
   },
   {
    "duration": 4,
    "start_time": "2022-04-10T10:46:38.673Z"
   },
   {
    "duration": 1240,
    "start_time": "2022-04-10T10:46:40.155Z"
   },
   {
    "duration": 3,
    "start_time": "2022-04-10T10:46:52.078Z"
   },
   {
    "duration": 145,
    "start_time": "2022-04-10T10:46:52.558Z"
   },
   {
    "duration": 11,
    "start_time": "2022-04-10T10:46:53.092Z"
   },
   {
    "duration": 27,
    "start_time": "2022-04-10T10:46:53.651Z"
   },
   {
    "duration": 3,
    "start_time": "2022-04-10T10:46:54.913Z"
   },
   {
    "duration": 8,
    "start_time": "2022-04-10T10:46:56.017Z"
   },
   {
    "duration": 3,
    "start_time": "2022-04-10T10:46:56.901Z"
   },
   {
    "duration": 24,
    "start_time": "2022-04-10T10:46:57.798Z"
   },
   {
    "duration": 18,
    "start_time": "2022-04-10T10:46:59.057Z"
   },
   {
    "duration": 25,
    "start_time": "2022-04-10T10:46:59.838Z"
   },
   {
    "duration": 63,
    "start_time": "2022-04-10T10:47:00.696Z"
   },
   {
    "duration": 69,
    "start_time": "2022-04-10T10:47:01.476Z"
   },
   {
    "duration": 61,
    "start_time": "2022-04-10T10:47:03.496Z"
   },
   {
    "duration": 40,
    "start_time": "2022-04-10T10:47:05.032Z"
   },
   {
    "duration": 2,
    "start_time": "2022-04-10T10:47:06.351Z"
   },
   {
    "duration": 24,
    "start_time": "2022-04-10T10:47:07.866Z"
   },
   {
    "duration": 39,
    "start_time": "2022-04-10T10:47:09.152Z"
   },
   {
    "duration": 15,
    "start_time": "2022-04-10T10:47:17.177Z"
   },
   {
    "duration": 13,
    "start_time": "2022-04-10T10:47:18.694Z"
   },
   {
    "duration": 4,
    "start_time": "2022-04-10T10:47:20.828Z"
   },
   {
    "duration": 15,
    "start_time": "2022-04-10T10:47:25.254Z"
   },
   {
    "duration": 13,
    "start_time": "2022-04-10T10:47:25.492Z"
   },
   {
    "duration": 15,
    "start_time": "2022-04-10T10:47:25.764Z"
   },
   {
    "duration": 14,
    "start_time": "2022-04-10T10:47:26.021Z"
   },
   {
    "duration": 17,
    "start_time": "2022-04-10T10:47:26.260Z"
   },
   {
    "duration": 15,
    "start_time": "2022-04-10T10:47:26.678Z"
   },
   {
    "duration": 8,
    "start_time": "2022-04-10T10:47:36.655Z"
   },
   {
    "duration": 12,
    "start_time": "2022-04-10T10:48:07.236Z"
   },
   {
    "duration": 12,
    "start_time": "2022-04-10T10:48:11.286Z"
   },
   {
    "duration": 5,
    "start_time": "2022-04-10T10:48:15.001Z"
   },
   {
    "duration": 1385,
    "start_time": "2022-04-10T10:48:17.342Z"
   },
   {
    "duration": 3,
    "start_time": "2022-04-10T10:51:52.247Z"
   },
   {
    "duration": 1357,
    "start_time": "2022-04-10T10:51:53.810Z"
   },
   {
    "duration": 11,
    "start_time": "2022-04-10T10:53:45.039Z"
   },
   {
    "duration": 9,
    "start_time": "2022-04-10T10:53:45.802Z"
   },
   {
    "duration": 4,
    "start_time": "2022-04-10T10:53:47.135Z"
   },
   {
    "duration": 17,
    "start_time": "2022-04-10T10:53:49.518Z"
   },
   {
    "duration": 11,
    "start_time": "2022-04-10T10:55:04.764Z"
   },
   {
    "duration": 16,
    "start_time": "2022-04-10T10:56:07.692Z"
   },
   {
    "duration": 12,
    "start_time": "2022-04-10T10:56:08.328Z"
   },
   {
    "duration": 30,
    "start_time": "2022-04-10T11:01:02.349Z"
   },
   {
    "duration": 28,
    "start_time": "2022-04-10T11:01:12.200Z"
   },
   {
    "duration": 8,
    "start_time": "2022-04-10T11:01:57.653Z"
   },
   {
    "duration": 6,
    "start_time": "2022-04-10T11:02:12.917Z"
   },
   {
    "duration": 6,
    "start_time": "2022-04-10T11:03:31.709Z"
   },
   {
    "duration": 5,
    "start_time": "2022-04-10T11:03:46.037Z"
   },
   {
    "duration": 180,
    "start_time": "2022-04-20T14:02:43.645Z"
   },
   {
    "duration": 51,
    "start_time": "2022-04-20T14:21:01.511Z"
   },
   {
    "duration": 392,
    "start_time": "2022-04-20T14:21:53.676Z"
   },
   {
    "duration": 161,
    "start_time": "2022-04-20T14:21:59.077Z"
   },
   {
    "duration": 18,
    "start_time": "2022-04-20T14:22:02.802Z"
   },
   {
    "duration": 12,
    "start_time": "2022-04-20T14:29:26.573Z"
   },
   {
    "duration": 32,
    "start_time": "2022-04-20T14:29:36.592Z"
   },
   {
    "duration": 5,
    "start_time": "2022-04-20T14:29:45.567Z"
   },
   {
    "duration": 12,
    "start_time": "2022-04-20T14:29:53.799Z"
   },
   {
    "duration": 4,
    "start_time": "2022-04-20T14:29:59.591Z"
   },
   {
    "duration": 27,
    "start_time": "2022-04-20T14:30:04.188Z"
   },
   {
    "duration": 2758,
    "start_time": "2022-04-20T14:31:21.078Z"
   },
   {
    "duration": 2705,
    "start_time": "2022-04-20T14:31:52.316Z"
   },
   {
    "duration": 2869,
    "start_time": "2022-04-20T14:34:28.939Z"
   },
   {
    "duration": 3,
    "start_time": "2022-04-20T14:35:13.671Z"
   },
   {
    "duration": 177,
    "start_time": "2022-04-20T14:35:16.232Z"
   },
   {
    "duration": 12,
    "start_time": "2022-04-20T14:35:18.756Z"
   },
   {
    "duration": 31,
    "start_time": "2022-04-20T14:35:23.338Z"
   },
   {
    "duration": 3,
    "start_time": "2022-04-20T14:35:31.102Z"
   },
   {
    "duration": 12,
    "start_time": "2022-04-20T14:35:35.266Z"
   },
   {
    "duration": 3,
    "start_time": "2022-04-20T14:35:38.782Z"
   },
   {
    "duration": 27,
    "start_time": "2022-04-20T14:35:41.148Z"
   },
   {
    "duration": 5061,
    "start_time": "2022-04-20T14:35:47.438Z"
   },
   {
    "duration": 3,
    "start_time": "2022-04-20T14:41:17.760Z"
   },
   {
    "duration": 10,
    "start_time": "2022-04-20T14:41:25.064Z"
   },
   {
    "duration": 3,
    "start_time": "2022-04-20T14:41:37.363Z"
   },
   {
    "duration": 30,
    "start_time": "2022-04-20T14:41:41.089Z"
   },
   {
    "duration": 2648,
    "start_time": "2022-04-20T14:46:17.630Z"
   },
   {
    "duration": 24,
    "start_time": "2022-04-20T14:46:53.111Z"
   },
   {
    "duration": 29,
    "start_time": "2022-04-20T14:46:59.520Z"
   },
   {
    "duration": 95,
    "start_time": "2022-04-20T14:47:05.008Z"
   },
   {
    "duration": 95,
    "start_time": "2022-04-20T14:47:07.326Z"
   },
   {
    "duration": 74,
    "start_time": "2022-04-20T14:47:09.591Z"
   },
   {
    "duration": 47,
    "start_time": "2022-04-20T14:47:13.298Z"
   },
   {
    "duration": 3,
    "start_time": "2022-04-20T14:47:16.409Z"
   },
   {
    "duration": 4,
    "start_time": "2022-04-20T14:48:00.865Z"
   },
   {
    "duration": 42,
    "start_time": "2022-04-20T14:51:31.748Z"
   },
   {
    "duration": 3,
    "start_time": "2022-04-20T14:51:33.245Z"
   },
   {
    "duration": 11,
    "start_time": "2022-04-20T14:51:36.154Z"
   },
   {
    "duration": 10,
    "start_time": "2022-04-20T14:53:41.860Z"
   },
   {
    "duration": 43,
    "start_time": "2022-04-20T14:53:44.104Z"
   },
   {
    "duration": 3,
    "start_time": "2022-04-20T14:54:06.365Z"
   },
   {
    "duration": 25,
    "start_time": "2022-04-20T14:54:09.480Z"
   },
   {
    "duration": 2,
    "start_time": "2022-04-20T14:58:33.067Z"
   },
   {
    "duration": 10,
    "start_time": "2022-04-20T14:58:36.491Z"
   },
   {
    "duration": 43,
    "start_time": "2022-04-20T14:59:01.336Z"
   },
   {
    "duration": 13,
    "start_time": "2022-04-20T14:59:07.152Z"
   },
   {
    "duration": 12,
    "start_time": "2022-04-20T14:59:08.760Z"
   },
   {
    "duration": 3,
    "start_time": "2022-04-20T14:59:11.213Z"
   },
   {
    "duration": 17,
    "start_time": "2022-04-20T14:59:13.615Z"
   },
   {
    "duration": 14,
    "start_time": "2022-04-20T14:59:13.940Z"
   },
   {
    "duration": 16,
    "start_time": "2022-04-20T14:59:14.538Z"
   },
   {
    "duration": 15,
    "start_time": "2022-04-20T14:59:15.514Z"
   },
   {
    "duration": 18,
    "start_time": "2022-04-20T14:59:16.326Z"
   },
   {
    "duration": 15,
    "start_time": "2022-04-20T14:59:16.969Z"
   },
   {
    "duration": 9,
    "start_time": "2022-04-20T14:59:20.068Z"
   },
   {
    "duration": 12,
    "start_time": "2022-04-20T14:59:23.659Z"
   },
   {
    "duration": 10,
    "start_time": "2022-04-20T14:59:24.172Z"
   },
   {
    "duration": 4,
    "start_time": "2022-04-20T14:59:25.248Z"
   },
   {
    "duration": 18,
    "start_time": "2022-04-20T14:59:27.016Z"
   },
   {
    "duration": 12,
    "start_time": "2022-04-20T14:59:27.606Z"
   },
   {
    "duration": 16,
    "start_time": "2022-04-20T14:59:28.370Z"
   },
   {
    "duration": 13,
    "start_time": "2022-04-20T14:59:29.140Z"
   },
   {
    "duration": 10,
    "start_time": "2022-04-20T14:59:32.947Z"
   },
   {
    "duration": 6,
    "start_time": "2022-04-20T14:59:34.350Z"
   },
   {
    "duration": 8,
    "start_time": "2022-04-20T14:59:36.195Z"
   },
   {
    "duration": 6,
    "start_time": "2022-04-20T14:59:37.483Z"
   },
   {
    "duration": 538,
    "start_time": "2022-04-21T04:57:26.456Z"
   },
   {
    "duration": 205,
    "start_time": "2022-04-21T04:57:26.996Z"
   },
   {
    "duration": 27,
    "start_time": "2022-04-21T04:57:27.204Z"
   },
   {
    "duration": 62,
    "start_time": "2022-04-21T04:57:27.234Z"
   },
   {
    "duration": 4,
    "start_time": "2022-04-21T04:57:27.298Z"
   },
   {
    "duration": 16,
    "start_time": "2022-04-21T04:57:27.304Z"
   },
   {
    "duration": 8,
    "start_time": "2022-04-21T04:57:27.322Z"
   },
   {
    "duration": 66,
    "start_time": "2022-04-21T04:57:27.333Z"
   },
   {
    "duration": 28,
    "start_time": "2022-04-21T04:57:27.401Z"
   },
   {
    "duration": 54,
    "start_time": "2022-04-21T04:57:27.435Z"
   },
   {
    "duration": 123,
    "start_time": "2022-04-21T04:57:27.492Z"
   },
   {
    "duration": 133,
    "start_time": "2022-04-21T04:57:27.617Z"
   },
   {
    "duration": 116,
    "start_time": "2022-04-21T04:57:27.752Z"
   },
   {
    "duration": 67,
    "start_time": "2022-04-21T04:57:27.871Z"
   },
   {
    "duration": 5,
    "start_time": "2022-04-21T04:57:27.941Z"
   },
   {
    "duration": 41,
    "start_time": "2022-04-21T04:57:27.949Z"
   },
   {
    "duration": 60,
    "start_time": "2022-04-21T04:57:27.992Z"
   },
   {
    "duration": 30,
    "start_time": "2022-04-21T04:57:28.055Z"
   },
   {
    "duration": 17,
    "start_time": "2022-04-21T04:57:28.087Z"
   },
   {
    "duration": 5,
    "start_time": "2022-04-21T04:57:28.106Z"
   },
   {
    "duration": 25,
    "start_time": "2022-04-21T04:57:28.114Z"
   },
   {
    "duration": 56,
    "start_time": "2022-04-21T04:57:28.141Z"
   },
   {
    "duration": 20,
    "start_time": "2022-04-21T04:57:28.199Z"
   },
   {
    "duration": 18,
    "start_time": "2022-04-21T04:57:28.222Z"
   },
   {
    "duration": 51,
    "start_time": "2022-04-21T04:57:28.242Z"
   },
   {
    "duration": 19,
    "start_time": "2022-04-21T04:57:28.295Z"
   },
   {
    "duration": 12,
    "start_time": "2022-04-21T04:57:28.317Z"
   },
   {
    "duration": 52,
    "start_time": "2022-04-21T04:57:28.334Z"
   },
   {
    "duration": 13,
    "start_time": "2022-04-21T04:57:28.388Z"
   },
   {
    "duration": 6,
    "start_time": "2022-04-21T04:57:28.403Z"
   },
   {
    "duration": 28,
    "start_time": "2022-04-21T04:57:28.411Z"
   },
   {
    "duration": 41,
    "start_time": "2022-04-21T04:57:28.441Z"
   },
   {
    "duration": 24,
    "start_time": "2022-04-21T04:57:28.484Z"
   },
   {
    "duration": 15,
    "start_time": "2022-04-21T04:57:28.510Z"
   },
   {
    "duration": 13,
    "start_time": "2022-04-21T04:57:28.527Z"
   },
   {
    "duration": 40,
    "start_time": "2022-04-21T04:57:28.542Z"
   },
   {
    "duration": 8,
    "start_time": "2022-04-21T04:57:28.584Z"
   },
   {
    "duration": 7,
    "start_time": "2022-04-21T04:57:28.594Z"
   },
   {
    "duration": 3,
    "start_time": "2022-04-21T04:59:16.361Z"
   },
   {
    "duration": 23,
    "start_time": "2022-04-21T04:59:18.095Z"
   },
   {
    "duration": 543,
    "start_time": "2022-04-21T04:59:21.958Z"
   },
   {
    "duration": 210,
    "start_time": "2022-04-21T04:59:22.503Z"
   },
   {
    "duration": 27,
    "start_time": "2022-04-21T04:59:22.715Z"
   },
   {
    "duration": 54,
    "start_time": "2022-04-21T04:59:22.745Z"
   },
   {
    "duration": 5,
    "start_time": "2022-04-21T04:59:22.801Z"
   },
   {
    "duration": 21,
    "start_time": "2022-04-21T04:59:22.808Z"
   },
   {
    "duration": 9,
    "start_time": "2022-04-21T04:59:22.831Z"
   },
   {
    "duration": 65,
    "start_time": "2022-04-21T04:59:22.842Z"
   },
   {
    "duration": 7,
    "start_time": "2022-04-21T04:59:22.910Z"
   },
   {
    "duration": 30,
    "start_time": "2022-04-21T04:59:22.921Z"
   },
   {
    "duration": 51,
    "start_time": "2022-04-21T04:59:22.954Z"
   },
   {
    "duration": 121,
    "start_time": "2022-04-21T04:59:23.007Z"
   },
   {
    "duration": 127,
    "start_time": "2022-04-21T04:59:23.131Z"
   },
   {
    "duration": 106,
    "start_time": "2022-04-21T04:59:23.261Z"
   },
   {
    "duration": 64,
    "start_time": "2022-04-21T04:59:23.369Z"
   },
   {
    "duration": 4,
    "start_time": "2022-04-21T04:59:23.436Z"
   },
   {
    "duration": 17,
    "start_time": "2022-04-21T04:59:23.442Z"
   },
   {
    "duration": 73,
    "start_time": "2022-04-21T04:59:23.461Z"
   },
   {
    "duration": 19,
    "start_time": "2022-04-21T04:59:23.536Z"
   },
   {
    "duration": 19,
    "start_time": "2022-04-21T04:59:23.581Z"
   },
   {
    "duration": 5,
    "start_time": "2022-04-21T04:59:23.602Z"
   },
   {
    "duration": 28,
    "start_time": "2022-04-21T04:59:23.609Z"
   },
   {
    "duration": 45,
    "start_time": "2022-04-21T04:59:23.639Z"
   },
   {
    "duration": 20,
    "start_time": "2022-04-21T04:59:23.686Z"
   },
   {
    "duration": 24,
    "start_time": "2022-04-21T04:59:23.708Z"
   },
   {
    "duration": 49,
    "start_time": "2022-04-21T04:59:23.734Z"
   },
   {
    "duration": 20,
    "start_time": "2022-04-21T04:59:23.785Z"
   },
   {
    "duration": 12,
    "start_time": "2022-04-21T04:59:23.810Z"
   },
   {
    "duration": 17,
    "start_time": "2022-04-21T04:59:23.824Z"
   },
   {
    "duration": 46,
    "start_time": "2022-04-21T04:59:23.843Z"
   },
   {
    "duration": 6,
    "start_time": "2022-04-21T04:59:23.891Z"
   },
   {
    "duration": 31,
    "start_time": "2022-04-21T04:59:23.899Z"
   },
   {
    "duration": 58,
    "start_time": "2022-04-21T04:59:23.931Z"
   },
   {
    "duration": 23,
    "start_time": "2022-04-21T04:59:23.991Z"
   },
   {
    "duration": 68,
    "start_time": "2022-04-21T04:59:24.016Z"
   },
   {
    "duration": 12,
    "start_time": "2022-04-21T04:59:24.086Z"
   },
   {
    "duration": 6,
    "start_time": "2022-04-21T04:59:24.101Z"
   },
   {
    "duration": 10,
    "start_time": "2022-04-21T04:59:24.109Z"
   },
   {
    "duration": 63,
    "start_time": "2022-04-21T04:59:24.121Z"
   },
   {
    "duration": 1684,
    "start_time": "2022-04-21T05:00:36.722Z"
   },
   {
    "duration": 508,
    "start_time": "2022-04-21T05:04:35.096Z"
   },
   {
    "duration": 211,
    "start_time": "2022-04-21T05:04:35.606Z"
   },
   {
    "duration": 27,
    "start_time": "2022-04-21T05:04:35.819Z"
   },
   {
    "duration": 63,
    "start_time": "2022-04-21T05:04:35.849Z"
   },
   {
    "duration": 5,
    "start_time": "2022-04-21T05:04:35.915Z"
   },
   {
    "duration": 17,
    "start_time": "2022-04-21T05:04:35.923Z"
   },
   {
    "duration": 8,
    "start_time": "2022-04-21T05:04:35.942Z"
   },
   {
    "duration": 35,
    "start_time": "2022-04-21T05:04:35.983Z"
   },
   {
    "duration": 37,
    "start_time": "2022-04-21T05:04:36.020Z"
   },
   {
    "duration": 51,
    "start_time": "2022-04-21T05:04:36.061Z"
   },
   {
    "duration": 115,
    "start_time": "2022-04-21T05:04:36.114Z"
   },
   {
    "duration": 130,
    "start_time": "2022-04-21T05:04:36.231Z"
   },
   {
    "duration": 108,
    "start_time": "2022-04-21T05:04:36.363Z"
   },
   {
    "duration": 57,
    "start_time": "2022-04-21T05:04:36.473Z"
   },
   {
    "duration": 4,
    "start_time": "2022-04-21T05:04:36.532Z"
   },
   {
    "duration": 18,
    "start_time": "2022-04-21T05:04:36.538Z"
   },
   {
    "duration": 54,
    "start_time": "2022-04-21T05:04:36.581Z"
   },
   {
    "duration": 18,
    "start_time": "2022-04-21T05:04:36.637Z"
   },
   {
    "duration": 39,
    "start_time": "2022-04-21T05:04:36.657Z"
   },
   {
    "duration": 5,
    "start_time": "2022-04-21T05:04:36.698Z"
   },
   {
    "duration": 26,
    "start_time": "2022-04-21T05:04:36.705Z"
   },
   {
    "duration": 55,
    "start_time": "2022-04-21T05:04:36.733Z"
   },
   {
    "duration": 21,
    "start_time": "2022-04-21T05:04:36.790Z"
   },
   {
    "duration": 19,
    "start_time": "2022-04-21T05:04:36.814Z"
   },
   {
    "duration": 59,
    "start_time": "2022-04-21T05:04:36.835Z"
   },
   {
    "duration": 20,
    "start_time": "2022-04-21T05:04:36.896Z"
   },
   {
    "duration": 12,
    "start_time": "2022-04-21T05:04:36.919Z"
   },
   {
    "duration": 59,
    "start_time": "2022-04-21T05:04:36.936Z"
   },
   {
    "duration": 14,
    "start_time": "2022-04-21T05:04:36.997Z"
   },
   {
    "duration": 5,
    "start_time": "2022-04-21T05:04:37.014Z"
   },
   {
    "duration": 68,
    "start_time": "2022-04-21T05:04:37.022Z"
   },
   {
    "duration": 16,
    "start_time": "2022-04-21T05:04:37.093Z"
   },
   {
    "duration": 83,
    "start_time": "2022-04-21T05:04:37.112Z"
   },
   {
    "duration": 16,
    "start_time": "2022-04-21T05:04:37.197Z"
   },
   {
    "duration": 67,
    "start_time": "2022-04-21T05:04:37.215Z"
   },
   {
    "duration": 7,
    "start_time": "2022-04-21T05:04:37.284Z"
   },
   {
    "duration": 10,
    "start_time": "2022-04-21T05:04:37.293Z"
   },
   {
    "duration": 8,
    "start_time": "2022-04-21T05:04:37.305Z"
   },
   {
    "duration": 45,
    "start_time": "2022-04-21T09:57:15.964Z"
   },
   {
    "duration": 446,
    "start_time": "2022-04-21T09:57:27.302Z"
   },
   {
    "duration": 145,
    "start_time": "2022-04-21T09:57:28.752Z"
   },
   {
    "duration": 17,
    "start_time": "2022-04-21T09:57:30.273Z"
   },
   {
    "duration": 31,
    "start_time": "2022-04-21T09:57:34.871Z"
   },
   {
    "duration": 3,
    "start_time": "2022-04-21T09:57:40.257Z"
   },
   {
    "duration": 10,
    "start_time": "2022-04-21T09:57:43.063Z"
   },
   {
    "duration": 3,
    "start_time": "2022-04-21T09:57:45.134Z"
   },
   {
    "duration": 25,
    "start_time": "2022-04-21T09:57:46.812Z"
   },
   {
    "duration": 19,
    "start_time": "2022-04-21T09:57:49.962Z"
   },
   {
    "duration": 24,
    "start_time": "2022-04-21T09:57:55.555Z"
   },
   {
    "duration": 370,
    "start_time": "2022-04-21T18:34:08.155Z"
   },
   {
    "duration": 2511,
    "start_time": "2022-04-21T18:34:08.527Z"
   },
   {
    "duration": 19,
    "start_time": "2022-04-21T18:34:11.040Z"
   },
   {
    "duration": 32,
    "start_time": "2022-04-21T18:34:11.061Z"
   },
   {
    "duration": 4,
    "start_time": "2022-04-21T18:34:11.095Z"
   },
   {
    "duration": 32,
    "start_time": "2022-04-21T18:34:11.100Z"
   },
   {
    "duration": 6,
    "start_time": "2022-04-21T18:34:11.134Z"
   },
   {
    "duration": 29,
    "start_time": "2022-04-21T18:34:11.142Z"
   },
   {
    "duration": 20,
    "start_time": "2022-04-21T18:34:11.173Z"
   },
   {
    "duration": 28,
    "start_time": "2022-04-21T18:34:11.222Z"
   },
   {
    "duration": 75,
    "start_time": "2022-04-21T18:34:11.252Z"
   },
   {
    "duration": 80,
    "start_time": "2022-04-21T18:34:11.329Z"
   },
   {
    "duration": 73,
    "start_time": "2022-04-21T18:34:11.411Z"
   },
   {
    "duration": 58,
    "start_time": "2022-04-21T18:34:11.485Z"
   },
   {
    "duration": 2,
    "start_time": "2022-04-21T18:34:11.545Z"
   },
   {
    "duration": 15,
    "start_time": "2022-04-21T18:34:11.549Z"
   },
   {
    "duration": 41,
    "start_time": "2022-04-21T18:34:11.565Z"
   },
   {
    "duration": 26,
    "start_time": "2022-04-21T18:34:11.608Z"
   },
   {
    "duration": 12,
    "start_time": "2022-04-21T18:34:11.636Z"
   },
   {
    "duration": 4,
    "start_time": "2022-04-21T18:34:11.650Z"
   },
   {
    "duration": 21,
    "start_time": "2022-04-21T18:34:11.655Z"
   },
   {
    "duration": 46,
    "start_time": "2022-04-21T18:34:11.678Z"
   },
   {
    "duration": 18,
    "start_time": "2022-04-21T18:34:11.725Z"
   },
   {
    "duration": 15,
    "start_time": "2022-04-21T18:34:11.744Z"
   },
   {
    "duration": 16,
    "start_time": "2022-04-21T18:34:11.761Z"
   },
   {
    "duration": 48,
    "start_time": "2022-04-21T18:34:11.779Z"
   },
   {
    "duration": 9,
    "start_time": "2022-04-21T18:34:11.829Z"
   },
   {
    "duration": 13,
    "start_time": "2022-04-21T18:34:11.841Z"
   },
   {
    "duration": 9,
    "start_time": "2022-04-21T18:34:11.856Z"
   },
   {
    "duration": 9,
    "start_time": "2022-04-21T18:34:11.866Z"
   },
   {
    "duration": 35,
    "start_time": "2022-04-21T18:34:11.876Z"
   },
   {
    "duration": 28,
    "start_time": "2022-04-21T18:34:11.913Z"
   },
   {
    "duration": 20,
    "start_time": "2022-04-21T18:34:11.942Z"
   },
   {
    "duration": 12,
    "start_time": "2022-04-21T18:34:11.964Z"
   },
   {
    "duration": 13,
    "start_time": "2022-04-21T18:34:11.977Z"
   },
   {
    "duration": 5,
    "start_time": "2022-04-21T18:34:11.991Z"
   },
   {
    "duration": 35,
    "start_time": "2022-04-21T18:34:11.998Z"
   },
   {
    "duration": 13,
    "start_time": "2022-04-21T18:34:12.035Z"
   }
  ],
  "colab": {
   "collapsed_sections": [
    "E0vqbgi9ay0H",
    "VUC88oWjTJw2"
   ],
   "name": "yandex_music_project.ipynb",
   "provenance": []
  },
  "kernelspec": {
   "display_name": "Python 3 (ipykernel)",
   "language": "python",
   "name": "python3"
  },
  "language_info": {
   "codemirror_mode": {
    "name": "ipython",
    "version": 3
   },
   "file_extension": ".py",
   "mimetype": "text/x-python",
   "name": "python",
   "nbconvert_exporter": "python",
   "pygments_lexer": "ipython3",
   "version": "3.9.13"
  },
  "toc": {
   "base_numbering": 1,
   "nav_menu": {},
   "number_sections": true,
   "sideBar": true,
   "skip_h1_title": true,
   "title_cell": "Table of Contents",
   "title_sidebar": "Contents",
   "toc_cell": false,
   "toc_position": {
    "height": "calc(100% - 180px)",
    "left": "10px",
    "top": "150px",
    "width": "270.398px"
   },
   "toc_section_display": true,
   "toc_window_display": true
  }
 },
 "nbformat": 4,
 "nbformat_minor": 1
}
